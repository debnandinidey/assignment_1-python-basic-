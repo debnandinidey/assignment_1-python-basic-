{
 "cells": [
  {
   "cell_type": "markdown",
   "id": "50039d53",
   "metadata": {},
   "source": [
    "1. Why are functions advantageous to have in your programs?"
   ]
  },
  {
   "cell_type": "markdown",
   "id": "cb2a0f21",
   "metadata": {},
   "source": [
    "answer: functions are advantageous because if we use functions then we can avoid of the situation of writing the same code again and again. It can be less time consuming and easy to access, basically enhancing the reusibility."
   ]
  },
  {
   "cell_type": "markdown",
   "id": "d54d6a4c",
   "metadata": {},
   "source": [
    "2. When does the code in a function run: when its specified or when its called?"
   ]
  },
  {
   "cell_type": "markdown",
   "id": "6dfdbb2c",
   "metadata": {},
   "source": [
    "answer:when its called."
   ]
  },
  {
   "cell_type": "markdown",
   "id": "f666716a",
   "metadata": {},
   "source": [
    "3. What statement creates a function?"
   ]
  },
  {
   "cell_type": "markdown",
   "id": "c6869938",
   "metadata": {},
   "source": [
    "answer: to create a function we need to start by writing  def. for example, def test1()"
   ]
  },
  {
   "cell_type": "markdown",
   "id": "3e744f83",
   "metadata": {},
   "source": [
    "4. What is the difference between a function and a function call?"
   ]
  },
  {
   "cell_type": "markdown",
   "id": "01e59fbb",
   "metadata": {},
   "source": [
    "answer: a function is a set of codes which is used to perform a particular operation and then return the output of it. On the other hand, A function call is the code used to pass control to a function."
   ]
  },
  {
   "cell_type": "markdown",
   "id": "8c4b9c0e",
   "metadata": {},
   "source": [
    "5. How many global scopes are there in a Python program? How many local scopes?"
   ]
  },
  {
   "cell_type": "markdown",
   "id": "f8af689b",
   "metadata": {},
   "source": [
    "answer: there is 1 global scopes in a python program and 1 local scopes in python program."
   ]
  },
  {
   "cell_type": "markdown",
   "id": "e3497f2d",
   "metadata": {},
   "source": [
    "6. What happens to variables in a local scope when the function call returns?"
   ]
  },
  {
   "cell_type": "markdown",
   "id": "c2896f4d",
   "metadata": {},
   "source": [
    "answer: the variables in local scope will be destroyed forever and then they will take their assigned values again."
   ]
  },
  {
   "cell_type": "markdown",
   "id": "21d2fca7",
   "metadata": {},
   "source": [
    "7. What is the concept of a return value? Is it possible to have a return value in an expression?"
   ]
  },
  {
   "cell_type": "markdown",
   "id": "634b195a",
   "metadata": {},
   "source": [
    "answer: when we write a function in python, the return statements ends the execution of the operation and return the output. we can have the return value of an expression using the return statement."
   ]
  },
  {
   "cell_type": "markdown",
   "id": "2b48ded2",
   "metadata": {},
   "source": [
    "8. If a function does not have a return statement, what is the return value of a call to that function?"
   ]
  },
  {
   "cell_type": "markdown",
   "id": "387f636e",
   "metadata": {},
   "source": [
    "answer: there will not be any return value or rather it will be undefined."
   ]
  },
  {
   "cell_type": "markdown",
   "id": "bdf68222",
   "metadata": {},
   "source": [
    "9. How do you make a function variable refer to the global variable?"
   ]
  },
  {
   "cell_type": "markdown",
   "id": "dc6ac3d6",
   "metadata": {},
   "source": [
    "answer: by using global keyword we can make a function variable refer to the global variable."
   ]
  },
  {
   "cell_type": "markdown",
   "id": "794101df",
   "metadata": {},
   "source": [
    "10. What is the data type of None?"
   ]
  },
  {
   "cell_type": "markdown",
   "id": "19a3d46c",
   "metadata": {},
   "source": [
    "answer: there is no datatype for none.we cannot hold the value and perform any primitive operation."
   ]
  },
  {
   "cell_type": "markdown",
   "id": "c81829e9",
   "metadata": {},
   "source": [
    "11. What does the sentence import areallyourpetsnamederic do?"
   ]
  },
  {
   "cell_type": "markdown",
   "id": "8e157834",
   "metadata": {},
   "source": [
    "answer: this is an import function, by using this we can import the given library in the current program."
   ]
  },
  {
   "cell_type": "markdown",
   "id": "20373b0a",
   "metadata": {},
   "source": [
    "12. If you had a bacon() feature in a spam module, what would you call it after importing spam?"
   ]
  },
  {
   "cell_type": "markdown",
   "id": "cf331ba6",
   "metadata": {},
   "source": [
    "answer: we can call it as spam.bacon()"
   ]
  },
  {
   "cell_type": "markdown",
   "id": "8efc4a46",
   "metadata": {},
   "source": [
    "13. What can you do to save a programme from crashing if it encounters an error?"
   ]
  },
  {
   "cell_type": "markdown",
   "id": "78dae3f7",
   "metadata": {},
   "source": [
    "answer: we can use try and except statement to handle the exception."
   ]
  },
  {
   "cell_type": "markdown",
   "id": "386a6cc7",
   "metadata": {},
   "source": [
    "14. What is the purpose of the try clause? What is the purpose of the except clause?"
   ]
  },
  {
   "cell_type": "markdown",
   "id": "82e8c8bd",
   "metadata": {},
   "source": [
    "try clause is used to test a block of codes for errors and except clause is used to manage the error."
   ]
  },
  {
   "cell_type": "code",
   "execution_count": null,
   "id": "25c8e9b6",
   "metadata": {},
   "outputs": [],
   "source": []
  }
 ],
 "metadata": {
  "kernelspec": {
   "display_name": "Python 3 (ipykernel)",
   "language": "python",
   "name": "python3"
  },
  "language_info": {
   "codemirror_mode": {
    "name": "ipython",
    "version": 3
   },
   "file_extension": ".py",
   "mimetype": "text/x-python",
   "name": "python",
   "nbconvert_exporter": "python",
   "pygments_lexer": "ipython3",
   "version": "3.9.12"
  }
 },
 "nbformat": 4,
 "nbformat_minor": 5
}
