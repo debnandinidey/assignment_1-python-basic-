{
 "cells": [
  {
   "cell_type": "markdown",
   "id": "a416d999",
   "metadata": {},
   "source": [
    "1. What is the result of the code, and explain?\n",
    "\n",
    "&gt;&gt;&gt; X = &#39;iNeuron&#39;\n",
    "&gt;&gt;&gt; def func():\n",
    "print(X)"
   ]
  },
  {
   "cell_type": "code",
   "execution_count": 1,
   "id": "0c89782a",
   "metadata": {},
   "outputs": [
    {
     "name": "stdout",
     "output_type": "stream",
     "text": [
      "iNeuron\n"
     ]
    }
   ],
   "source": [
    "X = 'iNeuron'\n",
    "\n",
    "def func():\n",
    "    print(X)\n",
    "\n",
    "func()"
   ]
  },
  {
   "cell_type": "markdown",
   "id": "8876aaba",
   "metadata": {},
   "source": [
    "it defines a function named func() that prints the value of a variable X. When the function is called, it prints the value of X."
   ]
  },
  {
   "cell_type": "markdown",
   "id": "c250f4b5",
   "metadata": {},
   "source": [
    "2. What is the result of the code, and explain?\n",
    "\n",
    "&gt;&gt;&gt; X = &#39;iNeuron&#39;\n",
    "&gt;&gt;&gt; def func():\n",
    "X = &#39;NI!&#39;"
   ]
  },
  {
   "cell_type": "code",
   "execution_count": 6,
   "id": "3cb87ab5",
   "metadata": {},
   "outputs": [
    {
     "name": "stdout",
     "output_type": "stream",
     "text": [
      "iNeuron\n"
     ]
    }
   ],
   "source": [
    "X = 'iNeuron'\n",
    "def func():\n",
    "    X = 'NI!'\n",
    "func()\n",
    "print(X)"
   ]
  },
  {
   "cell_type": "markdown",
   "id": "c7c5b7f8",
   "metadata": {},
   "source": [
    "this is a function named func() that assigns the value 'NI!' to a local variable X. However, since the variable X inside the function is not used or returned, it does not affect the value of the global variable X defined outside the function, hence the output ineuron."
   ]
  },
  {
   "cell_type": "markdown",
   "id": "a0108b1d",
   "metadata": {},
   "source": [
    "3. What does this code print, and why?\n",
    "\n",
    "&gt;&gt;&gt; X = &#39;iNeuron&#39;\n",
    "&gt;&gt;&gt; def func():\n",
    "X = &#39;NI&#39;\n",
    "print(X)"
   ]
  },
  {
   "cell_type": "code",
   "execution_count": 10,
   "id": "8a61adbe",
   "metadata": {},
   "outputs": [
    {
     "name": "stdout",
     "output_type": "stream",
     "text": [
      "NI!\n",
      "iNeuron\n"
     ]
    }
   ],
   "source": [
    "X = 'iNeuron'\n",
    "def func():\n",
    "    X = 'NI!'\n",
    "    print (X)\n",
    "func()\n",
    "print(X)"
   ]
  },
  {
   "cell_type": "markdown",
   "id": "6fb768a8",
   "metadata": {},
   "source": [
    "the above program defines a function named func() that assigns the value 'NI!' to a local variable X. Inside the function, it prints the value of the local variable X. Outside the function, the global variable X with the value 'iNeuron' remains unchanged, so when print(X) is called outside the function, it prints the value of the global variable, 'iNeuron'"
   ]
  },
  {
   "cell_type": "markdown",
   "id": "d34aa091",
   "metadata": {},
   "source": [
    "4. What output does this code produce? Why?\n",
    "\n",
    "X = &#39;iNeuron&#39;\n",
    "&gt;&gt;&gt; def func():\n",
    "global X\n",
    "X = &#39;NI&#39;\n",
    "\n",
    "&gt;&gt;&gt; func()\n",
    "&gt;&gt;&gt; print(X)"
   ]
  },
  {
   "cell_type": "code",
   "execution_count": 11,
   "id": "3012e2b1",
   "metadata": {},
   "outputs": [
    {
     "name": "stdout",
     "output_type": "stream",
     "text": [
      "NI\n"
     ]
    }
   ],
   "source": [
    "X = 'iNeuron'\n",
    "def func():\n",
    "    global X\n",
    "    X = 'NI'\n",
    "func()\n",
    "print(X)"
   ]
  },
  {
   "cell_type": "markdown",
   "id": "6b3f4ac9",
   "metadata": {},
   "source": [
    "this one defines a global variable X with the first value 'iNeuron'. later it defines a function named func() that uses the global keyword to show that it wants to change the global variable X. Inside the function, the value of X is changed to 'NI'. then the code calls func(), which modifies the global variable X to 'NI'. lastly, it prints the value of X."
   ]
  },
  {
   "cell_type": "markdown",
   "id": "1a0083bd",
   "metadata": {},
   "source": [
    "5. What about this code—what’s the output, and why?"
   ]
  },
  {
   "cell_type": "code",
   "execution_count": 12,
   "id": "c0fd1595",
   "metadata": {},
   "outputs": [
    {
     "name": "stdout",
     "output_type": "stream",
     "text": [
      "NI\n"
     ]
    },
    {
     "data": {
      "text/plain": [
       "'iNeuron'"
      ]
     },
     "execution_count": 12,
     "metadata": {},
     "output_type": "execute_result"
    }
   ],
   "source": [
    "X = 'iNeuron'\n",
    "def func():\n",
    "    X = 'NI'\n",
    "    def nested():\n",
    "        print(X)\n",
    "    nested()\n",
    "func()\n",
    "X"
   ]
  },
  {
   "cell_type": "markdown",
   "id": "a6fc4a64",
   "metadata": {},
   "source": [
    "The output of the code is NI. when the function accesses a variable, if its not available in its local scope it looks for the variable in its global scope. similarly here also function nested looks for variable X in its global scope aand thus the output of the code is NI"
   ]
  },
  {
   "cell_type": "markdown",
   "id": "9b5875e8",
   "metadata": {},
   "source": [
    "6. How about this code: what is its output in Python 3, and explain?\n",
    "\n",
    "&gt;&gt;&gt; def func():\n",
    "X = &#39;NI&#39;\n",
    "def nested():\n",
    "nonlocal X\n",
    "X = &#39;Spam&#39;\n",
    "nested()\n",
    "print(X)\n",
    "\n",
    "&gt;&gt;&gt; func()"
   ]
  },
  {
   "cell_type": "code",
   "execution_count": 13,
   "id": "9a7545da",
   "metadata": {},
   "outputs": [
    {
     "name": "stdout",
     "output_type": "stream",
     "text": [
      "Spam\n"
     ]
    }
   ],
   "source": [
    "def func():\n",
    "    X = 'NI'\n",
    "    def nested():\n",
    "        nonlocal X\n",
    "        X = 'Spam'\n",
    "    nested()\n",
    "    print(X)\n",
    "func()"
   ]
  },
  {
   "cell_type": "markdown",
   "id": "0a7ddc37",
   "metadata": {},
   "source": [
    "its a function named func() which contains another nested function named nested().The code first assigns the value 'NI' to the variable X within the func() function. Then, it calls the nested() function, which updates the value of the nonlocal variable X to 'Spam'. lastly it prints the value of X."
   ]
  },
  {
   "cell_type": "code",
   "execution_count": null,
   "id": "cc35198e",
   "metadata": {},
   "outputs": [],
   "source": []
  }
 ],
 "metadata": {
  "kernelspec": {
   "display_name": "Python 3 (ipykernel)",
   "language": "python",
   "name": "python3"
  },
  "language_info": {
   "codemirror_mode": {
    "name": "ipython",
    "version": 3
   },
   "file_extension": ".py",
   "mimetype": "text/x-python",
   "name": "python",
   "nbconvert_exporter": "python",
   "pygments_lexer": "ipython3",
   "version": "3.9.12"
  }
 },
 "nbformat": 4,
 "nbformat_minor": 5
}
