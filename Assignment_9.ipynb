{
 "cells": [
  {
   "cell_type": "markdown",
   "id": "4a6f2954",
   "metadata": {},
   "source": [
    "1. To what does a relative path refer?"
   ]
  },
  {
   "cell_type": "markdown",
   "id": "3e06a657",
   "metadata": {},
   "source": [
    "answer: A relative path means the location of a file or directory relative to the current working directory. It is specified in relation to the current location rather than using the complete or absolute path from the root directory. "
   ]
  },
  {
   "cell_type": "markdown",
   "id": "969f80b0",
   "metadata": {},
   "source": [
    "2. What does an absolute path start with your operating system?"
   ]
  },
  {
   "cell_type": "markdown",
   "id": "49a2ff8f",
   "metadata": {},
   "source": [
    "answer:In Linux based systems the absolute path starts with /. Where as in Windows based systems absolute path starts with C:"
   ]
  },
  {
   "cell_type": "markdown",
   "id": "155c458e",
   "metadata": {},
   "source": [
    "3. What do the functions os.getcwd() and os.chdir() do?"
   ]
  },
  {
   "cell_type": "markdown",
   "id": "68b28bbd",
   "metadata": {},
   "source": [
    "answer: os.getcwd(): This function returns a string that represents the current working directory. It retrieves the path of the directory from which the script is being executed.\n",
    "\n",
    "os.chdir(path): This function is used to change the current working directory to the specified path. It takes a string argument representing the path to the desired directory. After calling os.chdir(), the current working directory will be set to the specified directory.\n"
   ]
  },
  {
   "cell_type": "markdown",
   "id": "5055e666",
   "metadata": {},
   "source": [
    "4. What are the . and .. folders?"
   ]
  },
  {
   "cell_type": "markdown",
   "id": "09864c8b",
   "metadata": {},
   "source": [
    ". Represents the Current Directory Whereas .. Represents the Parent Directory of the Current Directory\n",
    "For Example: if the below path is my absolute path:\n",
    "        \"C:\\Users\\Nandini\\Assignment_9.ipynb\""
   ]
  },
  {
   "cell_type": "markdown",
   "id": "c7fcb662",
   "metadata": {},
   "source": [
    "5. In C:\\bacon\\eggs\\spam.txt, which part is the dir name, and which part is the base name?"
   ]
  },
  {
   "cell_type": "markdown",
   "id": "9d59fc16",
   "metadata": {},
   "source": [
    "answer: The dir name is C:\\\\bacon\\\\eggs\n",
    "The Base name is spam.txt"
   ]
  },
  {
   "cell_type": "markdown",
   "id": "e332ca96",
   "metadata": {},
   "source": [
    "6. What are the three “mode” arguments that can be passed to the open() function?"
   ]
  },
  {
   "cell_type": "markdown",
   "id": "5e5d031c",
   "metadata": {},
   "source": [
    "answer: The string 'r' for read mode, 'w' for write mode, and 'a' for append mode"
   ]
  },
  {
   "cell_type": "markdown",
   "id": "e1741fc9",
   "metadata": {},
   "source": [
    "7. What happens if an existing file is opened in write mode?"
   ]
  },
  {
   "cell_type": "markdown",
   "id": "c2ed37c9",
   "metadata": {},
   "source": [
    "answer: will be completely overwritten and if the file doesnt exist then a new one will be created."
   ]
  },
  {
   "cell_type": "markdown",
   "id": "8d9ec6f9",
   "metadata": {},
   "source": [
    "8. How do you tell the difference between read() and readlines()?"
   ]
  },
  {
   "cell_type": "markdown",
   "id": "2d572c2b",
   "metadata": {},
   "source": [
    "read() will read the whole file at once and then print out the first characters that take up as many bytes as you specify in the parenthesis\n",
    "\n",
    "Whereas the readline() that will read and print out only the first characters that take up as many bytes as you specify in the parenthesis. \n",
    "\n",
    "The read() would treat each character in the file separately, meaning that the iteration would happen for every character.\n",
    "\n",
    "The readline() function, on the other hand, only reads a single line of the file. This means that if the first line of the file were three lines long, the readline() function would only parse (or iterate/operate) on the first line of the file."
   ]
  },
  {
   "cell_type": "markdown",
   "id": "54096b5c",
   "metadata": {},
   "source": [
    "9. What data structure does a shelf value resemble?"
   ]
  },
  {
   "cell_type": "markdown",
   "id": "7785dc93",
   "metadata": {},
   "source": [
    "answer:A shelf value in Python resembles a dictionary data structure. It is a persistent, dictionary-like object that allows you to store and retrieve key-value pairs"
   ]
  },
  {
   "cell_type": "code",
   "execution_count": null,
   "id": "da774f39",
   "metadata": {},
   "outputs": [],
   "source": []
  }
 ],
 "metadata": {
  "kernelspec": {
   "display_name": "Python 3 (ipykernel)",
   "language": "python",
   "name": "python3"
  },
  "language_info": {
   "codemirror_mode": {
    "name": "ipython",
    "version": 3
   },
   "file_extension": ".py",
   "mimetype": "text/x-python",
   "name": "python",
   "nbconvert_exporter": "python",
   "pygments_lexer": "ipython3",
   "version": "3.9.12"
  }
 },
 "nbformat": 4,
 "nbformat_minor": 5
}
