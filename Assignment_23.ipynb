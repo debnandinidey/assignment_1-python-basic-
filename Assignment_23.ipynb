{
 "cells": [
  {
   "cell_type": "markdown",
   "id": "060a335b",
   "metadata": {},
   "source": [
    "1. What is the result of the code, and why?\n",
    "&gt;&gt;&gt; def func(a, b=6, c=8):\n",
    "print(a, b, c)\n",
    "&gt;&gt;&gt; func(1, 2)"
   ]
  },
  {
   "cell_type": "code",
   "execution_count": 1,
   "id": "51ab3866",
   "metadata": {},
   "outputs": [
    {
     "name": "stdout",
     "output_type": "stream",
     "text": [
      "1 2 8\n"
     ]
    }
   ],
   "source": [
    "def func(a, b=6, c=8): \n",
    "    print(a, b, c)\n",
    "func(1, 2)"
   ]
  },
  {
   "cell_type": "markdown",
   "id": "71a5fb06",
   "metadata": {},
   "source": [
    "a function is defined as func(), there are three parameters a,b,c. When the function is called with func(1, 2), the argument 1 is assigned to the parameter a, and the argument 2 is assigned to the parameter b. the parameter c has no argument so it takes its default value of 8.the function then prints the values of a, b, and c using the print()"
   ]
  },
  {
   "cell_type": "markdown",
   "id": "4fc8c1f0",
   "metadata": {},
   "source": [
    "2. What is the result of this code, and why?\n",
    "&gt;&gt;&gt; def func(a, b, c=5):\n",
    "print(a, b, c)\n",
    "&gt;&gt;&gt; func(1, c=3, b=2)"
   ]
  },
  {
   "cell_type": "code",
   "execution_count": 2,
   "id": "24018161",
   "metadata": {},
   "outputs": [
    {
     "name": "stdout",
     "output_type": "stream",
     "text": [
      "1 2 3\n"
     ]
    }
   ],
   "source": [
    "def func(a, b, c=5):\n",
    "    print(a, b, c)\n",
    "func(1, c=3, b=2)"
   ]
  },
  {
   "cell_type": "markdown",
   "id": "f9d9d6aa",
   "metadata": {},
   "source": [
    "a function is defined as func(), there are three parameters a,b,c. the argument 1 is assigned to the parameter a. The argument 2 is assigned to the parameter b(b=2), overriding the default value of the parameters again the argument 3 is assigned to the parameter c using the keyword argument c=3, overriding its default value hence the output."
   ]
  },
  {
   "cell_type": "markdown",
   "id": "7cc5395a",
   "metadata": {},
   "source": [
    "3. How about this code: what is its result, and why?\n",
    "&gt;&gt;&gt; def func(a, *pargs):\n",
    "print(a, pargs)\n",
    "&gt;&gt;&gt; func(1, 2, 3)"
   ]
  },
  {
   "cell_type": "code",
   "execution_count": 3,
   "id": "2f2ac353",
   "metadata": {},
   "outputs": [
    {
     "name": "stdout",
     "output_type": "stream",
     "text": [
      "1 (2, 3)\n"
     ]
    }
   ],
   "source": [
    "def func(a, *pargs):\n",
    "    print(a, pargs)\n",
    "func(1, 2, 3)"
   ]
  },
  {
   "cell_type": "markdown",
   "id": "d05a6ced",
   "metadata": {},
   "source": [
    "its a func() with two parameters a and *pargs. The *pargs parameter captures any number of additional positional arguments.\n",
    "so when func(1, 2, 3) is called the argument 1 is assigned to the parameter a, and the remaining arguments 2 and 3 are captured by the *pargs parameter as a tuple."
   ]
  },
  {
   "cell_type": "markdown",
   "id": "47454f15",
   "metadata": {},
   "source": [
    "4. What does this code print, and why?\n",
    "&gt;&gt;&gt; def func(a, **kargs):\n",
    "print(a, kargs)\n",
    "&gt;&gt;&gt; func(a=1, c=3, b=2)"
   ]
  },
  {
   "cell_type": "code",
   "execution_count": 4,
   "id": "8a463f7a",
   "metadata": {},
   "outputs": [
    {
     "name": "stdout",
     "output_type": "stream",
     "text": [
      "1 {'c': 3, 'b': 2}\n"
     ]
    }
   ],
   "source": [
    "def func(a, **kargs):\n",
    "    print(a, kargs)\n",
    "func(a=1, c=3, b=2)"
   ]
  },
  {
   "cell_type": "markdown",
   "id": "fc8a396d",
   "metadata": {},
   "source": [
    "its a func() with two parameters a and **kargs. The **kargs parameter captures any number of additional keyword arguments.\n",
    "so when func(a=1, c=3, b=2) the argument 1 is assigned to the parameter a, and arguments c=3 and b=2 are captured by the **kargs parameter as a dictionary."
   ]
  },
  {
   "cell_type": "markdown",
   "id": "1a5124ea",
   "metadata": {},
   "source": [
    "5. What gets printed by this, and explain?\n",
    "&gt;&gt;&gt; def func(a, b, c=8, d=5): print(a, b, c, d)\n",
    "&gt;&gt;&gt; func(1, *(5, 6))"
   ]
  },
  {
   "cell_type": "code",
   "execution_count": 5,
   "id": "e67a4172",
   "metadata": {},
   "outputs": [
    {
     "name": "stdout",
     "output_type": "stream",
     "text": [
      "1 5 6 5\n"
     ]
    }
   ],
   "source": [
    "def func(a, b, c=8, d=5): \n",
    "    print(a, b, c, d)\n",
    "func(1, *(5, 6))"
   ]
  },
  {
   "cell_type": "markdown",
   "id": "43198f35",
   "metadata": {},
   "source": [
    "its a function with parameters a,b,c,d. when function func(1, *(5, 6)) is called the value 1 is assigned to the parameter a, the argument(5,6) is unpacked by * operator and assigned to b and c respectively and d takes argument 5 as default.The function then prints the values of a, b, c, and d using the print() function. "
   ]
  },
  {
   "cell_type": "markdown",
   "id": "81c953a2",
   "metadata": {},
   "source": [
    "6. what is the result of this, and explain?\n",
    "&gt;&gt;&gt; def func(a, b, c): a = 2; b[0] = &#39;x&#39;; c[&#39;a&#39;] = &#39;y&#39;\n",
    "&gt;&gt;&gt; l=1; m=[1]; n={&#39;a&#39;:0}\n",
    "&gt;&gt;&gt; func(l, m, n)\n",
    "\n",
    "&gt;&gt;&gt; l, m, n"
   ]
  },
  {
   "cell_type": "code",
   "execution_count": 6,
   "id": "53be5218",
   "metadata": {},
   "outputs": [],
   "source": [
    "def func(a, b, c): \n",
    "    a = 2; b[0] = 'x'; c['a'] = 'y'\n",
    "l=1; m=[1]; n={'a':0}\n",
    "func(l, m, n)"
   ]
  },
  {
   "cell_type": "markdown",
   "id": "3028825c",
   "metadata": {},
   "source": [
    "its a function with three parameter a,b,c. the function is then called with argument l,m,n. now when a=2, parameter a is assigned value 2, a is a local variable within the function so it does not affect the value of the variable 1 which is outside the function.\n",
    "b[0]=x,  The first element of the list b is changed and assigned the value 'x'. this change affects the value of the variable m outside the function as well.\n",
    "c['a'] = 'y': The value related with the key 'a' in the dictionary c is changed and assigned the value 'y'.this change affects the value of the variable n outside the function as well."
   ]
  },
  {
   "cell_type": "code",
   "execution_count": null,
   "id": "3a159df6",
   "metadata": {},
   "outputs": [],
   "source": []
  }
 ],
 "metadata": {
  "kernelspec": {
   "display_name": "Python 3 (ipykernel)",
   "language": "python",
   "name": "python3"
  },
  "language_info": {
   "codemirror_mode": {
    "name": "ipython",
    "version": 3
   },
   "file_extension": ".py",
   "mimetype": "text/x-python",
   "name": "python",
   "nbconvert_exporter": "python",
   "pygments_lexer": "ipython3",
   "version": "3.9.12"
  }
 },
 "nbformat": 4,
 "nbformat_minor": 5
}
