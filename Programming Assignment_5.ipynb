{
 "cells": [
  {
   "cell_type": "markdown",
   "id": "9ffed0b6",
   "metadata": {},
   "source": [
    "1. Write a Python Program to Find LCM?"
   ]
  },
  {
   "cell_type": "code",
   "execution_count": 1,
   "id": "cc87be80",
   "metadata": {},
   "outputs": [
    {
     "name": "stdout",
     "output_type": "stream",
     "text": [
      "Enter the first number: 3\n",
      "Enter the second number: 5\n",
      "The LCM of 3 and 5 is: 15\n"
     ]
    }
   ],
   "source": [
    "def compute_lcm(a, b):\n",
    "    max_num = max(a, b)\n",
    "    lcm = max_num\n",
    "\n",
    "    while True:\n",
    "        if lcm % a == 0 and lcm % b == 0:\n",
    "            break\n",
    "        lcm += max_num\n",
    "\n",
    "    return lcm\n",
    "\n",
    "num1 = int(input(\"Enter the first number: \"))\n",
    "num2 = int(input(\"Enter the second number: \"))\n",
    "\n",
    "lcm = compute_lcm(num1, num2)\n",
    "print(\"The LCM of\", num1, \"and\", num2, \"is:\", lcm)\n"
   ]
  },
  {
   "cell_type": "markdown",
   "id": "9b8ee44c",
   "metadata": {},
   "source": [
    "2. Write a Python Program to Find HCF?"
   ]
  },
  {
   "cell_type": "code",
   "execution_count": 2,
   "id": "6ebf9a7b",
   "metadata": {},
   "outputs": [
    {
     "name": "stdout",
     "output_type": "stream",
     "text": [
      "Enter the first number: 3\n",
      "Enter the second number: 8\n",
      "The HCF of 3 and 8 is: 1\n"
     ]
    }
   ],
   "source": [
    "def compute_hcf(a, b):\n",
    "    while b != 0:\n",
    "        a, b = b, a % b\n",
    "    return a\n",
    "\n",
    "# Test the function\n",
    "num1 = int(input(\"Enter the first number: \"))\n",
    "num2 = int(input(\"Enter the second number: \"))\n",
    "\n",
    "hcf = compute_hcf(num1, num2)\n",
    "print(\"The HCF of\", num1, \"and\", num2, \"is:\", hcf)\n"
   ]
  },
  {
   "cell_type": "markdown",
   "id": "7e346a0b",
   "metadata": {},
   "source": [
    "3. Write a Python Program to Convert Decimal to Binary, Octal and Hexadecimal?"
   ]
  },
  {
   "cell_type": "code",
   "execution_count": 4,
   "id": "43a46e29",
   "metadata": {},
   "outputs": [
    {
     "name": "stdout",
     "output_type": "stream",
     "text": [
      "Enter a decimal number: 5\n",
      "Binary: 101\n",
      "Octal: 5\n",
      "Hexadecimal: 5\n"
     ]
    }
   ],
   "source": [
    "decimal = int(input(\"Enter a decimal number: \"))\n",
    "\n",
    "binary = bin(decimal)[2:]  \n",
    "octal = oct(decimal)[2:]  \n",
    "hexadecimal = hex(decimal)[2:]  \n",
    "\n",
    "print(\"Binary:\", binary)\n",
    "print(\"Octal:\", octal)\n",
    "print(\"Hexadecimal:\", hexadecimal)\n"
   ]
  },
  {
   "cell_type": "markdown",
   "id": "5b795d99",
   "metadata": {},
   "source": [
    "4. Write a Python Program To Find ASCII value of a character?"
   ]
  },
  {
   "cell_type": "code",
   "execution_count": 6,
   "id": "f60bb38f",
   "metadata": {},
   "outputs": [
    {
     "name": "stdout",
     "output_type": "stream",
     "text": [
      "Enter a character: .\n",
      "ASCII value of . is 46\n"
     ]
    }
   ],
   "source": [
    "character = input(\"Enter a character: \")\n",
    "ascii_value = ord(character)\n",
    "print(\"ASCII value of\", character, \"is\", ascii_value)\n"
   ]
  },
  {
   "cell_type": "markdown",
   "id": "91d4fd67",
   "metadata": {},
   "source": [
    "5. Write a Python Program to Make a Simple Calculator with 4 basic mathematical operations?"
   ]
  },
  {
   "cell_type": "code",
   "execution_count": 7,
   "id": "1c678520",
   "metadata": {},
   "outputs": [
    {
     "name": "stdout",
     "output_type": "stream",
     "text": [
      "Select operation:\n",
      "1. Addition\n",
      "2. Subtraction\n",
      "3. Multiplication\n",
      "4. Division\n",
      "Enter choice (1-4): 2\n",
      "Enter first number: 4\n",
      "Enter second number: 7\n",
      "4.0 - 7.0 = -3.0\n"
     ]
    }
   ],
   "source": [
    "def add(x, y):\n",
    "    return x + y\n",
    "\n",
    "def subtract(x, y):\n",
    "    return x - y\n",
    "\n",
    "def multiply(x, y):\n",
    "    return x * y\n",
    "\n",
    "def divide(x, y):\n",
    "    return x / y\n",
    "\n",
    "print(\"Select operation:\")\n",
    "print(\"1. Addition\")\n",
    "print(\"2. Subtraction\")\n",
    "print(\"3. Multiplication\")\n",
    "print(\"4. Division\")\n",
    "\n",
    "choice = input(\"Enter choice (1-4): \")\n",
    "\n",
    "num1 = float(input(\"Enter first number: \"))\n",
    "num2 = float(input(\"Enter second number: \"))\n",
    "\n",
    "if choice == '1':\n",
    "    result = add(num1, num2)\n",
    "    operation = '+'\n",
    "elif choice == '2':\n",
    "    result = subtract(num1, num2)\n",
    "    operation = '-'\n",
    "elif choice == '3':\n",
    "    result = multiply(num1, num2)\n",
    "    operation = '*'\n",
    "elif choice == '4':\n",
    "    result = divide(num1, num2)\n",
    "    operation = '/'\n",
    "else:\n",
    "    print(\"Invalid choice.\")\n",
    "    exit()\n",
    "\n",
    "print(num1, operation, num2, \"=\", result)\n"
   ]
  },
  {
   "cell_type": "code",
   "execution_count": null,
   "id": "f0071b95",
   "metadata": {},
   "outputs": [],
   "source": []
  }
 ],
 "metadata": {
  "kernelspec": {
   "display_name": "Python 3 (ipykernel)",
   "language": "python",
   "name": "python3"
  },
  "language_info": {
   "codemirror_mode": {
    "name": "ipython",
    "version": 3
   },
   "file_extension": ".py",
   "mimetype": "text/x-python",
   "name": "python",
   "nbconvert_exporter": "python",
   "pygments_lexer": "ipython3",
   "version": "3.9.12"
  }
 },
 "nbformat": 4,
 "nbformat_minor": 5
}
