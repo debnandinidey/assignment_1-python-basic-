{
 "cells": [
  {
   "cell_type": "markdown",
   "id": "b5e4851d",
   "metadata": {},
   "source": [
    "1. What exactly is []?"
   ]
  },
  {
   "cell_type": "markdown",
   "id": "7a4e0da8",
   "metadata": {},
   "source": [
    "answer: it indicates list.\n",
    "basically an empty list."
   ]
  },
  {
   "cell_type": "markdown",
   "id": "fc54e905",
   "metadata": {},
   "source": [
    "2. In a list of values stored in a variable called spam, how would you assign the value &#39;hello&#39; as the\n",
    "third value? (Assume [2, 4, 6, 8, 10] are in spam.)"
   ]
  },
  {
   "cell_type": "code",
   "execution_count": 1,
   "id": "967f1bd7",
   "metadata": {},
   "outputs": [],
   "source": [
    "spam = [2,3,6,8,10]"
   ]
  },
  {
   "cell_type": "code",
   "execution_count": 2,
   "id": "9aa4fec6",
   "metadata": {},
   "outputs": [],
   "source": [
    "spam[2]=\"hello\""
   ]
  },
  {
   "cell_type": "code",
   "execution_count": 3,
   "id": "dd649adf",
   "metadata": {},
   "outputs": [
    {
     "data": {
      "text/plain": [
       "[2, 3, 'hello', 8, 10]"
      ]
     },
     "execution_count": 3,
     "metadata": {},
     "output_type": "execute_result"
    }
   ],
   "source": [
    "spam"
   ]
  },
  {
   "cell_type": "markdown",
   "id": "1f5976ec",
   "metadata": {},
   "source": [
    "3. What is the value of spam[int(int(&#39;3&#39; * 2) / 11)]?"
   ]
  },
  {
   "cell_type": "code",
   "execution_count": 4,
   "id": "f80df2fd",
   "metadata": {},
   "outputs": [
    {
     "data": {
      "text/plain": [
       "'d'"
      ]
     },
     "execution_count": 4,
     "metadata": {},
     "output_type": "execute_result"
    }
   ],
   "source": [
    "spam= [\"a\", \"b\", \"c\", \"d\"]\n",
    "spam[int(int('3' * 2) / 11)]\n"
   ]
  },
  {
   "cell_type": "markdown",
   "id": "7cc96116",
   "metadata": {},
   "source": [
    "'3'*2\n",
    "\n",
    "33/11 = 3 and the third index here is d. so d is the output."
   ]
  },
  {
   "cell_type": "markdown",
   "id": "35cb31a4",
   "metadata": {},
   "source": [
    "4. What is the value of spam[-1]?"
   ]
  },
  {
   "cell_type": "code",
   "execution_count": 5,
   "id": "f7d4d700",
   "metadata": {},
   "outputs": [
    {
     "data": {
      "text/plain": [
       "'d'"
      ]
     },
     "execution_count": 5,
     "metadata": {},
     "output_type": "execute_result"
    }
   ],
   "source": [
    "spam= [\"a\", \"b\", \"c\", \"d\"]\n",
    "spam[-1]"
   ]
  },
  {
   "cell_type": "markdown",
   "id": "8e311597",
   "metadata": {},
   "source": [
    "-1 means that the index is calculated in the reverse order."
   ]
  },
  {
   "cell_type": "markdown",
   "id": "4e986418",
   "metadata": {},
   "source": [
    "5. What is the value of spam[:2]?"
   ]
  },
  {
   "cell_type": "code",
   "execution_count": 6,
   "id": "7a3685be",
   "metadata": {},
   "outputs": [
    {
     "data": {
      "text/plain": [
       "['a', 'b']"
      ]
     },
     "execution_count": 6,
     "metadata": {},
     "output_type": "execute_result"
    }
   ],
   "source": [
    "spam= [\"a\", \"b\", \"c\", \"d\"]\n",
    "spam[:2]"
   ]
  },
  {
   "cell_type": "markdown",
   "id": "bdf3092b",
   "metadata": {},
   "source": [
    "6. What is the value of bacon.index(&#39;cat&#39;)?"
   ]
  },
  {
   "cell_type": "code",
   "execution_count": 7,
   "id": "5695d7be",
   "metadata": {},
   "outputs": [
    {
     "data": {
      "text/plain": [
       "1"
      ]
     },
     "execution_count": 7,
     "metadata": {},
     "output_type": "execute_result"
    }
   ],
   "source": [
    "bacon =[3.14, \"cat\",\"11\",\"cat\", True]\n",
    "bacon.index('cat')\n"
   ]
  },
  {
   "cell_type": "markdown",
   "id": "6604d530",
   "metadata": {},
   "source": [
    "7. How does bacon.append(99) change the look of the list value in bacon?"
   ]
  },
  {
   "cell_type": "code",
   "execution_count": 9,
   "id": "4a468a6c",
   "metadata": {},
   "outputs": [],
   "source": [
    "bacon =[3.14, \"cat\",\"11\",\"cat\", True]\n",
    "bacon.append(99)\n",
    "#append adds the element at the end of the list."
   ]
  },
  {
   "cell_type": "code",
   "execution_count": 10,
   "id": "3a5a2c3c",
   "metadata": {},
   "outputs": [
    {
     "data": {
      "text/plain": [
       "[3.14, 'cat', '11', 'cat', True, 99]"
      ]
     },
     "execution_count": 10,
     "metadata": {},
     "output_type": "execute_result"
    }
   ],
   "source": [
    "bacon"
   ]
  },
  {
   "cell_type": "markdown",
   "id": "5012f030",
   "metadata": {},
   "source": [
    "8. How does bacon.remove(&#39;cat&#39;) change the look of the list in bacon?"
   ]
  },
  {
   "cell_type": "code",
   "execution_count": 11,
   "id": "3c25b9ba",
   "metadata": {},
   "outputs": [],
   "source": [
    "bacon =[3.14, \"cat\",\"11\",\"cat\", True]\n",
    "bacon.remove('cat')\n",
    "#remove, eliminates the first element of occurance in the given list.\n"
   ]
  },
  {
   "cell_type": "code",
   "execution_count": 12,
   "id": "1ba6fe5a",
   "metadata": {},
   "outputs": [
    {
     "data": {
      "text/plain": [
       "[3.14, '11', 'cat', True]"
      ]
     },
     "execution_count": 12,
     "metadata": {},
     "output_type": "execute_result"
    }
   ],
   "source": [
    "bacon"
   ]
  },
  {
   "cell_type": "markdown",
   "id": "72864b04",
   "metadata": {},
   "source": [
    "9. What are the list concatenation and list replication operators?"
   ]
  },
  {
   "cell_type": "markdown",
   "id": "3156235d",
   "metadata": {},
   "source": [
    "list concatenation = +\n",
    "\n",
    "list replication = *"
   ]
  },
  {
   "cell_type": "markdown",
   "id": "8c11654d",
   "metadata": {},
   "source": [
    "10. What is difference between the list methods append() and insert()?"
   ]
  },
  {
   "cell_type": "markdown",
   "id": "2f46169c",
   "metadata": {},
   "source": [
    "answer: append(), always adds the element at the last of the list.whereas insert() adds the element at any specific location."
   ]
  },
  {
   "cell_type": "markdown",
   "id": "a4d4c1ff",
   "metadata": {},
   "source": [
    "11. What are the two methods for removing items from a list?"
   ]
  },
  {
   "cell_type": "markdown",
   "id": "928debcf",
   "metadata": {},
   "source": [
    "answer: remove() removes the first element of occurance in a list.\n",
    "\n",
    "    pop() removes element based on the index given in the list."
   ]
  },
  {
   "cell_type": "markdown",
   "id": "1c1071c9",
   "metadata": {},
   "source": [
    "12. Describe how list values and string values are identical."
   ]
  },
  {
   "cell_type": "markdown",
   "id": "57bf9e67",
   "metadata": {},
   "source": [
    "list values can contain different sort of datatype like float, integer, bollean, and string also. so string and list can have same identical datatype values.\n",
    "\n",
    "like l = [\"taylor\"]\n",
    "b= \"taylor\""
   ]
  },
  {
   "cell_type": "markdown",
   "id": "c0af2397",
   "metadata": {},
   "source": [
    "13. What&#39;s the difference between tuples and lists?"
   ]
  },
  {
   "cell_type": "markdown",
   "id": "0213a849",
   "metadata": {},
   "source": [
    "tuples are defined as () and they are immutable, that is we cannot change the index.\n",
    "\n",
    "lists are defined as [] and they are mutable, that is we can change the index.\n",
    "\n"
   ]
  },
  {
   "cell_type": "markdown",
   "id": "74c0fceb",
   "metadata": {},
   "source": [
    "14. How do you type a tuple value that only contains the integer 42?"
   ]
  },
  {
   "cell_type": "code",
   "execution_count": 15,
   "id": "06f39b7c",
   "metadata": {},
   "outputs": [],
   "source": [
    "a= (42,)"
   ]
  },
  {
   "cell_type": "code",
   "execution_count": 16,
   "id": "4f8975ca",
   "metadata": {},
   "outputs": [
    {
     "data": {
      "text/plain": [
       "tuple"
      ]
     },
     "execution_count": 16,
     "metadata": {},
     "output_type": "execute_result"
    }
   ],
   "source": [
    "type(a)"
   ]
  },
  {
   "cell_type": "markdown",
   "id": "698dd2c4",
   "metadata": {},
   "source": [
    "15. How do you get a list value&#39;s tuple form? How do you get a tuple value&#39;s list form?"
   ]
  },
  {
   "cell_type": "code",
   "execution_count": 17,
   "id": "a399ef96",
   "metadata": {},
   "outputs": [
    {
     "name": "stdout",
     "output_type": "stream",
     "text": [
      "(1, 2, 3)\n"
     ]
    }
   ],
   "source": [
    "#to get a list value in tuple form we can simple write tuple().for example\n",
    "a =[1,2,3]\n",
    "b = tuple(a)\n",
    "print(b)"
   ]
  },
  {
   "cell_type": "code",
   "execution_count": 18,
   "id": "ce5592db",
   "metadata": {},
   "outputs": [
    {
     "name": "stdout",
     "output_type": "stream",
     "text": [
      "list[1, 2, 3]\n"
     ]
    }
   ],
   "source": [
    "#to get a tuple value's list form\n",
    "a =(1,2,3)\n",
    "b = list[a]\n",
    "print(b)"
   ]
  },
  {
   "cell_type": "markdown",
   "id": "45e03b12",
   "metadata": {},
   "source": [
    "16. Variables that &quot;contain&quot; list values are not necessarily lists themselves. Instead, what do they\n",
    "contain?"
   ]
  },
  {
   "cell_type": "markdown",
   "id": "7082f669",
   "metadata": {},
   "source": [
    "they contain the refereces to the list elements"
   ]
  },
  {
   "cell_type": "markdown",
   "id": "b4a58197",
   "metadata": {},
   "source": [
    "17. How do you distinguish between copy.copy() and copy.deepcopy()?"
   ]
  },
  {
   "cell_type": "markdown",
   "id": "51c832bd",
   "metadata": {},
   "source": [
    "copy() create reference to original object\n",
    "\n",
    "copy.deepcopy() creates new object and does real copying of original object to new one. Changing new deepcopied object has no impact on original object."
   ]
  },
  {
   "cell_type": "code",
   "execution_count": null,
   "id": "ead8fb61",
   "metadata": {},
   "outputs": [],
   "source": []
  }
 ],
 "metadata": {
  "kernelspec": {
   "display_name": "Python 3 (ipykernel)",
   "language": "python",
   "name": "python3"
  },
  "language_info": {
   "codemirror_mode": {
    "name": "ipython",
    "version": 3
   },
   "file_extension": ".py",
   "mimetype": "text/x-python",
   "name": "python",
   "nbconvert_exporter": "python",
   "pygments_lexer": "ipython3",
   "version": "3.9.12"
  }
 },
 "nbformat": 4,
 "nbformat_minor": 5
}
