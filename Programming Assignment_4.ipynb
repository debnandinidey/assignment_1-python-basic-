{
 "cells": [
  {
   "cell_type": "markdown",
   "id": "9f9c9290",
   "metadata": {},
   "source": [
    "1. Write a Python Program to Find the Factorial of a Number?"
   ]
  },
  {
   "cell_type": "code",
   "execution_count": 1,
   "id": "d4a0539d",
   "metadata": {},
   "outputs": [
    {
     "name": "stdout",
     "output_type": "stream",
     "text": [
      "Enter a number: 3\n",
      "The factorial of 3 is 6\n"
     ]
    }
   ],
   "source": [
    "def factorial(n):\n",
    "    if n == 0:\n",
    "        return 1\n",
    "    else:\n",
    "        return n * factorial(n - 1)\n",
    "\n",
    "num = int(input(\"Enter a number: \"))\n",
    "\n",
    "if num < 0:\n",
    "    print(\"Factorial is not defined for negative numbers.\")\n",
    "else:\n",
    "    result = factorial(num)\n",
    "    print(\"The factorial of\", num, \"is\", result)\n"
   ]
  },
  {
   "cell_type": "markdown",
   "id": "2401976f",
   "metadata": {},
   "source": [
    "2. Write a Python Program to Display the multiplication Table?"
   ]
  },
  {
   "cell_type": "code",
   "execution_count": 2,
   "id": "0f933521",
   "metadata": {},
   "outputs": [
    {
     "name": "stdout",
     "output_type": "stream",
     "text": [
      "Enter a number: 5\n",
      "Multiplication Table of 5\n",
      "5 x 1 = 5\n",
      "5 x 2 = 10\n",
      "5 x 3 = 15\n",
      "5 x 4 = 20\n",
      "5 x 5 = 25\n",
      "5 x 6 = 30\n",
      "5 x 7 = 35\n",
      "5 x 8 = 40\n",
      "5 x 9 = 45\n",
      "5 x 10 = 50\n"
     ]
    }
   ],
   "source": [
    "num = int(input(\"Enter a number: \"))\n",
    "\n",
    "print(\"Multiplication Table of\", num)\n",
    "for i in range(1, 11):\n",
    "    print(num, \"x\", i, \"=\", num*i)\n"
   ]
  },
  {
   "cell_type": "markdown",
   "id": "faa17f7f",
   "metadata": {},
   "source": [
    "3. Write a Python Program to Print the Fibonacci sequence?"
   ]
  },
  {
   "cell_type": "code",
   "execution_count": 3,
   "id": "5150d8fe",
   "metadata": {},
   "outputs": [
    {
     "name": "stdout",
     "output_type": "stream",
     "text": [
      "Enter the number of terms: 6\n",
      "Fibonacci sequence up to 6 terms:\n",
      "0, 1, 1, 2, 3, 5, "
     ]
    }
   ],
   "source": [
    "num_terms = int(input(\"Enter the number of terms: \"))\n",
    "\n",
    "a, b = 0, 1\n",
    "if num_terms <= 0:\n",
    "    print(\"Number of terms should be a positive integer\")\n",
    "else:\n",
    "    print(\"Fibonacci sequence up to\", num_terms, \"terms:\")\n",
    "    for _ in range(num_terms):\n",
    "        print(a, end=\", \")\n",
    "        a, b = b, a + b\n"
   ]
  },
  {
   "cell_type": "markdown",
   "id": "a0867871",
   "metadata": {},
   "source": [
    "4. Write a Python Program to Check Armstrong Number?"
   ]
  },
  {
   "cell_type": "code",
   "execution_count": 4,
   "id": "eb3c490d",
   "metadata": {},
   "outputs": [
    {
     "name": "stdout",
     "output_type": "stream",
     "text": [
      "Enter a number: 5\n",
      "5 is an Armstrong number\n"
     ]
    }
   ],
   "source": [
    "num = int(input(\"Enter a number: \"))\n",
    "num_str = str(num)\n",
    "num_digits = len(num_str)\n",
    "sum_of_cubes = sum(int(digit) ** num_digits for digit in num_str)\n",
    "\n",
    "# Check if the number is an Armstrong number\n",
    "if num == sum_of_cubes:\n",
    "    print(num, \"is an Armstrong number\")\n",
    "else:\n",
    "    print(num, \"is not an Armstrong number\")\n"
   ]
  },
  {
   "cell_type": "markdown",
   "id": "c558406c",
   "metadata": {},
   "source": [
    "5. Write a Python Program to Find Armstrong Number in an Interval?"
   ]
  },
  {
   "cell_type": "code",
   "execution_count": 5,
   "id": "e68ddd4b",
   "metadata": {},
   "outputs": [
    {
     "name": "stdout",
     "output_type": "stream",
     "text": [
      "Enter the lower bound of the interval: 4\n",
      "Enter the upper bound of the interval: 20\n",
      "Armstrong numbers in the interval 4 to 20 are:\n",
      "4\n",
      "5\n",
      "6\n",
      "7\n",
      "8\n",
      "9\n"
     ]
    }
   ],
   "source": [
    "lower = int(input(\"Enter the lower bound of the interval: \"))\n",
    "upper = int(input(\"Enter the upper bound of the interval: \"))\n",
    "\n",
    "print(\"Armstrong numbers in the interval\", lower, \"to\", upper, \"are:\")\n",
    "\n",
    "for num in range(lower, upper + 1):\n",
    "    num_str = str(num)\n",
    "    num_digits = len(num_str)\n",
    "    sum_of_cubes = sum(int(digit) ** num_digits for digit in num_str)\n",
    "    if num == sum_of_cubes:\n",
    "        print(num)\n"
   ]
  },
  {
   "cell_type": "markdown",
   "id": "a9850ccb",
   "metadata": {},
   "source": [
    "6. Write a Python Program to Find the Sum of Natural Numbers?"
   ]
  },
  {
   "cell_type": "code",
   "execution_count": 6,
   "id": "51add7b0",
   "metadata": {},
   "outputs": [
    {
     "name": "stdout",
     "output_type": "stream",
     "text": [
      "Enter the limit: 20\n",
      "The sum of natural numbers up to 20 is: 210\n"
     ]
    }
   ],
   "source": [
    "limit = int(input(\"Enter the limit: \"))\n",
    "\n",
    "sum_of_numbers = 0\n",
    "\n",
    "for num in range(1, limit + 1):\n",
    "    sum_of_numbers += num\n",
    "\n",
    "print(\"The sum of natural numbers up to\", limit, \"is:\", sum_of_numbers)\n"
   ]
  },
  {
   "cell_type": "code",
   "execution_count": null,
   "id": "fcccad2b",
   "metadata": {},
   "outputs": [],
   "source": []
  }
 ],
 "metadata": {
  "kernelspec": {
   "display_name": "Python 3 (ipykernel)",
   "language": "python",
   "name": "python3"
  },
  "language_info": {
   "codemirror_mode": {
    "name": "ipython",
    "version": 3
   },
   "file_extension": ".py",
   "mimetype": "text/x-python",
   "name": "python",
   "nbconvert_exporter": "python",
   "pygments_lexer": "ipython3",
   "version": "3.9.12"
  }
 },
 "nbformat": 4,
 "nbformat_minor": 5
}
