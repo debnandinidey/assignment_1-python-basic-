{
 "cells": [
  {
   "cell_type": "markdown",
   "id": "733243bd",
   "metadata": {},
   "source": [
    "1.What are the two values of the Boolean data type? How do you write them?"
   ]
  },
  {
   "cell_type": "markdown",
   "id": "b718831b",
   "metadata": {},
   "source": [
    "answer: the two values of boolean data type is True and False.\n",
    "    True and False should always start with uppercase, else there will be error while running the code."
   ]
  },
  {
   "cell_type": "markdown",
   "id": "dda2d2fc",
   "metadata": {},
   "source": [
    "2.What are the three different types of Boolean operators?"
   ]
  },
  {
   "cell_type": "markdown",
   "id": "0d6ca3d6",
   "metadata": {},
   "source": [
    "answer: and, or, and not are the three different type of bollean operator."
   ]
  },
  {
   "cell_type": "markdown",
   "id": "707b1674",
   "metadata": {},
   "source": [
    "3.Make a list of each Boolean operator&#39;s truth tables (i.e. every possible combination of Boolean\n",
    "values for the operator and what it evaluate )."
   ]
  },
  {
   "cell_type": "markdown",
   "id": "a6c851b2",
   "metadata": {},
   "source": [
    "answer:True and True is True\n",
    "    \n",
    "    True and False is False\n",
    "    \n",
    "    False and False is False\n",
    "    \n",
    "    False and True is False\n",
    "    \n",
    "    True or True is True\n",
    "    \n",
    "    True or False is True\n",
    "    \n",
    "    False or False is False\n",
    "    \n",
    "    False or True is True\n",
    "    \n",
    "    not True is False\n",
    "    \n",
    "    not False is True"
   ]
  },
  {
   "cell_type": "markdown",
   "id": "b2ee619d",
   "metadata": {},
   "source": [
    "4. What are the values of the following expressions?"
   ]
  },
  {
   "cell_type": "code",
   "execution_count": 1,
   "id": "b6ad8e35",
   "metadata": {},
   "outputs": [
    {
     "data": {
      "text/plain": [
       "False"
      ]
     },
     "execution_count": 1,
     "metadata": {},
     "output_type": "execute_result"
    }
   ],
   "source": [
    "(5 > 4) and (3 == 5)"
   ]
  },
  {
   "cell_type": "code",
   "execution_count": 2,
   "id": "df73d63b",
   "metadata": {},
   "outputs": [
    {
     "data": {
      "text/plain": [
       "False"
      ]
     },
     "execution_count": 2,
     "metadata": {},
     "output_type": "execute_result"
    }
   ],
   "source": [
    "not (5 > 4)"
   ]
  },
  {
   "cell_type": "code",
   "execution_count": 3,
   "id": "d616a2bd",
   "metadata": {},
   "outputs": [
    {
     "data": {
      "text/plain": [
       "True"
      ]
     },
     "execution_count": 3,
     "metadata": {},
     "output_type": "execute_result"
    }
   ],
   "source": [
    "(5 > 4) or (3 == 5)"
   ]
  },
  {
   "cell_type": "code",
   "execution_count": 4,
   "id": "eb4d5ed2",
   "metadata": {},
   "outputs": [
    {
     "data": {
      "text/plain": [
       "False"
      ]
     },
     "execution_count": 4,
     "metadata": {},
     "output_type": "execute_result"
    }
   ],
   "source": [
    "not ((5 > 4) or (3 == 5))"
   ]
  },
  {
   "cell_type": "code",
   "execution_count": 5,
   "id": "34d3320d",
   "metadata": {},
   "outputs": [
    {
     "data": {
      "text/plain": [
       "False"
      ]
     },
     "execution_count": 5,
     "metadata": {},
     "output_type": "execute_result"
    }
   ],
   "source": [
    "(True and True) and (True == False)"
   ]
  },
  {
   "cell_type": "code",
   "execution_count": 6,
   "id": "809a48d0",
   "metadata": {},
   "outputs": [
    {
     "data": {
      "text/plain": [
       "True"
      ]
     },
     "execution_count": 6,
     "metadata": {},
     "output_type": "execute_result"
    }
   ],
   "source": [
    "(not False) or (not True)"
   ]
  },
  {
   "cell_type": "markdown",
   "id": "3e7ddbf7",
   "metadata": {},
   "source": [
    "5. What are the six comparison operators?"
   ]
  },
  {
   "cell_type": "markdown",
   "id": "4d8d65d9",
   "metadata": {},
   "source": [
    "answer:==\n",
    "\n",
    "    !=\n",
    "    \n",
    "    <\n",
    "    \n",
    "    >\n",
    "    \n",
    "    <=\n",
    "    \n",
    "    >="
   ]
  },
  {
   "cell_type": "markdown",
   "id": "f357f837",
   "metadata": {},
   "source": [
    "6. How do you tell the difference between the equal to and assignment operators?Describe a\n",
    "condition and when you would use one."
   ]
  },
  {
   "cell_type": "markdown",
   "id": "8debdcdf",
   "metadata": {},
   "source": [
    "answer: == equal to operator is used to check if the values of the variables are the same or not,it provides answers in True or False whereas assignment operator, =, is used to assign values to the variables."
   ]
  },
  {
   "cell_type": "code",
   "execution_count": 7,
   "id": "7a97062f",
   "metadata": {},
   "outputs": [
    {
     "name": "stdout",
     "output_type": "stream",
     "text": [
      "a is equal to b\n"
     ]
    }
   ],
   "source": [
    "#example\n",
    "a=10\n",
    "b=10\n",
    "if a == b:\n",
    "    print(\"a is equal to b\")\n",
    "else:\n",
    "    print(\"a is not equal to b\")"
   ]
  },
  {
   "cell_type": "code",
   "execution_count": 8,
   "id": "a931e7ad",
   "metadata": {},
   "outputs": [
    {
     "name": "stdout",
     "output_type": "stream",
     "text": [
      "nandini\n"
     ]
    }
   ],
   "source": [
    "#assignment operator\n",
    "name = \"nandini\"\n",
    "if name:\n",
    "    print(\"nandini\")\n",
    "else:\n",
    "    print(\"wrong name\")"
   ]
  },
  {
   "cell_type": "markdown",
   "id": "e285865d",
   "metadata": {},
   "source": [
    "7.Identify the three blocks in this code:"
   ]
  },
  {
   "cell_type": "code",
   "execution_count": 9,
   "id": "8e1be79b",
   "metadata": {},
   "outputs": [
    {
     "name": "stdout",
     "output_type": "stream",
     "text": [
      "ham\n",
      "spam\n",
      "spam\n"
     ]
    }
   ],
   "source": [
    "spam = 0\n",
    "if spam == 10:#block1\n",
    "    print('eggs')\n",
    "if spam > 5:#block 2\n",
    "        print('bacon')\n",
    "else:#block 3\n",
    "    print('ham')\n",
    "print('spam')\n",
    "print('spam')"
   ]
  },
  {
   "cell_type": "markdown",
   "id": "99774816",
   "metadata": {},
   "source": [
    "8.Write code that prints Hello if 1 is stored in spam, prints Howdy if 2 is stored in spam, and prints\n",
    "Greetings! if anything else is stored in spam."
   ]
  },
  {
   "cell_type": "code",
   "execution_count": 10,
   "id": "c56803b6",
   "metadata": {},
   "outputs": [
    {
     "name": "stdout",
     "output_type": "stream",
     "text": [
      "enter any number5\n",
      "greetings\n"
     ]
    }
   ],
   "source": [
    "spam = int(input(\"enter any number\"))\n",
    "if spam == 1:\n",
    "    print(\"Hello\")\n",
    "elif spam == 2:\n",
    "    print(\"howdy\")\n",
    "else:\n",
    "    print(\"greetings\")"
   ]
  },
  {
   "cell_type": "markdown",
   "id": "7e25d80d",
   "metadata": {},
   "source": [
    "9.If your programme is stuck in an endless loop, what keys you’ll press?"
   ]
  },
  {
   "cell_type": "markdown",
   "id": "17818c59",
   "metadata": {},
   "source": [
    "answer: ctrl+c"
   ]
  },
  {
   "cell_type": "markdown",
   "id": "2a6817d1",
   "metadata": {},
   "source": [
    "10. How can you tell the difference between break and continue?"
   ]
  },
  {
   "cell_type": "code",
   "execution_count": 15,
   "id": "c3cb06b9",
   "metadata": {},
   "outputs": [
    {
     "name": "stdout",
     "output_type": "stream",
     "text": [
      "d\n",
      "e\n",
      "b\n",
      "its an else statement\n"
     ]
    }
   ],
   "source": [
    "# for else will only execute only when, for will be able to complete intself. here when we use break,it means we are not allowing for to continue, so else wont be able to execute.\n",
    "a = \"debnandini dey\"\n",
    "for i in a:\n",
    "    if i == \"n\":\n",
    "        break \n",
    "    print(i)\n",
    "if i == \"y\":\n",
    "        print(\"letter y is last letter\")\n",
    "else:\n",
    "            print(\"its an else statement\")\n"
   ]
  },
  {
   "cell_type": "code",
   "execution_count": 17,
   "id": "0efe0932",
   "metadata": {},
   "outputs": [
    {
     "name": "stdout",
     "output_type": "stream",
     "text": [
      "d\n",
      "e\n",
      "b\n",
      "a\n",
      "d\n",
      "i\n",
      "i\n",
      " \n",
      "d\n",
      "e\n",
      "y\n",
      "letter y is last letter\n",
      "its an else statement\n"
     ]
    }
   ],
   "source": [
    "#continue means whatevever we have written after continue,like here print, it will not execute it and continue following the loop.\n",
    "#basically if the condition is true it wont execute and continue the loop, and if its false it will execute like usual.\n",
    "for i in a:\n",
    "    if i == \"n\":\n",
    "        continue \n",
    "    print(i)\n",
    "else:\n",
    "    if i == \"y\":\n",
    "        print(\"letter y is last letter\")\n",
    "    print(\"its an else statement\")"
   ]
  },
  {
   "cell_type": "markdown",
   "id": "ef4194f8",
   "metadata": {},
   "source": [
    "11. In a for loop, what is the difference between range(10), range(0, 10), and range(0, 10, 1)?"
   ]
  },
  {
   "cell_type": "markdown",
   "id": "969afff0",
   "metadata": {},
   "source": [
    "The range(10) means the loop will start from 0 up to 9, range(0, 10) means loop begins at 0 and 10 is the upperbound and range(0, 10, 1) means 0 is the start point, 10 is the end point and 1 is step size, that is it increase the variable by 1 on each iteration."
   ]
  },
  {
   "cell_type": "code",
   "execution_count": 18,
   "id": "25345e25",
   "metadata": {},
   "outputs": [
    {
     "name": "stdout",
     "output_type": "stream",
     "text": [
      "0\n",
      "1\n",
      "2\n",
      "3\n",
      "4\n",
      "5\n",
      "6\n",
      "7\n",
      "8\n",
      "9\n"
     ]
    }
   ],
   "source": [
    "for i in range(10):\n",
    "  print(i)"
   ]
  },
  {
   "cell_type": "code",
   "execution_count": 19,
   "id": "6392df0b",
   "metadata": {},
   "outputs": [
    {
     "name": "stdout",
     "output_type": "stream",
     "text": [
      "0\n",
      "1\n",
      "2\n",
      "3\n",
      "4\n",
      "5\n",
      "6\n",
      "7\n",
      "8\n",
      "9\n"
     ]
    }
   ],
   "source": [
    "for i in range(0, 10):\n",
    "  print(i)"
   ]
  },
  {
   "cell_type": "code",
   "execution_count": 20,
   "id": "53b01bff",
   "metadata": {},
   "outputs": [
    {
     "name": "stdout",
     "output_type": "stream",
     "text": [
      "0\n",
      "1\n",
      "2\n",
      "3\n",
      "4\n",
      "5\n",
      "6\n",
      "7\n",
      "8\n",
      "9\n"
     ]
    }
   ],
   "source": [
    "for i in range(0, 10, 1):\n",
    "  print(i)"
   ]
  },
  {
   "cell_type": "markdown",
   "id": "e2e7bddb",
   "metadata": {},
   "source": [
    "12. Write a short program that prints the numbers 1 to 10 using a for loop. Then write an equivalent\n",
    "program that prints the numbers 1 to 10 using a while loop."
   ]
  },
  {
   "cell_type": "code",
   "execution_count": 23,
   "id": "5fd43de0",
   "metadata": {},
   "outputs": [
    {
     "name": "stdout",
     "output_type": "stream",
     "text": [
      "1\n",
      "2\n",
      "3\n",
      "4\n",
      "5\n",
      "6\n",
      "7\n",
      "8\n",
      "9\n",
      "10\n"
     ]
    }
   ],
   "source": [
    "#for loop\n",
    "for i in range(1,11):\n",
    "    print(i)"
   ]
  },
  {
   "cell_type": "code",
   "execution_count": 24,
   "id": "8affdf37",
   "metadata": {},
   "outputs": [
    {
     "name": "stdout",
     "output_type": "stream",
     "text": [
      "1\n",
      "2\n",
      "3\n",
      "4\n",
      "5\n",
      "6\n",
      "7\n",
      "8\n",
      "9\n",
      "10\n"
     ]
    }
   ],
   "source": [
    "#while loop\n",
    "x =1\n",
    "while x <= 10:\n",
    "    print(x)\n",
    "    x+=1"
   ]
  },
  {
   "cell_type": "markdown",
   "id": "51c44e55",
   "metadata": {},
   "source": [
    "13.If you had a function named bacon() inside a module named spam, how would you call it after\n",
    "importing spam?"
   ]
  },
  {
   "cell_type": "markdown",
   "id": "5d3f87a6",
   "metadata": {},
   "source": [
    "spam.bacon()"
   ]
  },
  {
   "cell_type": "code",
   "execution_count": null,
   "id": "53660980",
   "metadata": {},
   "outputs": [],
   "source": []
  }
 ],
 "metadata": {
  "kernelspec": {
   "display_name": "Python 3 (ipykernel)",
   "language": "python",
   "name": "python3"
  },
  "language_info": {
   "codemirror_mode": {
    "name": "ipython",
    "version": 3
   },
   "file_extension": ".py",
   "mimetype": "text/x-python",
   "name": "python",
   "nbconvert_exporter": "python",
   "pygments_lexer": "ipython3",
   "version": "3.9.12"
  }
 },
 "nbformat": 4,
 "nbformat_minor": 5
}
