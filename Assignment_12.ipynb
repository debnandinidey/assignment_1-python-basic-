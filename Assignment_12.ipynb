{
 "cells": [
  {
   "cell_type": "markdown",
   "id": "9c7dc981",
   "metadata": {},
   "source": [
    "1. In what modes should the PdfFileReader() and PdfFileWriter() File objects will be opened?"
   ]
  },
  {
   "cell_type": "markdown",
   "id": "8ca4d57d",
   "metadata": {},
   "source": [
    "answer:PdfFileReader() object: The PDF file to be read should be opened in 'rb' mode and PdfFileWriter() object: The PDF file to be written (or modified) should be opened in 'wb' mode."
   ]
  },
  {
   "cell_type": "markdown",
   "id": "543e62fd",
   "metadata": {},
   "source": [
    "2. From a PdfFileReader object, how do you get a Page object for page 5?"
   ]
  },
  {
   "cell_type": "code",
   "execution_count": null,
   "id": "fb4d7dff",
   "metadata": {},
   "outputs": [],
   "source": [
    "from PyPDF2 import PdfReader\n",
    "\n",
    "pdf_reader = PdfReader('notes.pdf')\n",
    "page = pdf_reader.getPage(4)  # Get Page object for page 5 (index 4)"
   ]
  },
  {
   "cell_type": "markdown",
   "id": "ca94e28d",
   "metadata": {},
   "source": [
    "3. What PdfFileReader variable stores the number of pages in the PDF document?"
   ]
  },
  {
   "cell_type": "markdown",
   "id": "21f6c0cb",
   "metadata": {},
   "source": [
    "answer: numPages variable stores the number of pages in the PDF document."
   ]
  },
  {
   "cell_type": "markdown",
   "id": "cda9ab4d",
   "metadata": {},
   "source": [
    "4. If a PdfFileReader object’s PDF is encrypted with the password swordfish, what must you do\n",
    "before you can obtain Page objects from it?"
   ]
  },
  {
   "cell_type": "markdown",
   "id": "6dad3283",
   "metadata": {},
   "source": [
    "answer: If a PdfFileReader object's PDF is encrypted with the password \"swordfish,\" we need to decrypt it by calling the decrypt() method and passing the correct password as an argument. This must be done before we can obtain Page objects from the PdfFileReader object."
   ]
  },
  {
   "cell_type": "markdown",
   "id": "949c5c6d",
   "metadata": {},
   "source": [
    "5. What methods do you use to rotate a page?"
   ]
  },
  {
   "cell_type": "markdown",
   "id": "5b222db3",
   "metadata": {},
   "source": [
    "rotateClockWise() -> For Clockwise rotation\n",
    "rotateCounterClockWise() -> For Counter Clockwise rotation"
   ]
  },
  {
   "cell_type": "markdown",
   "id": "431c912d",
   "metadata": {},
   "source": [
    "6. What is the difference between a Run object and a Paragraph object?"
   ]
  },
  {
   "cell_type": "markdown",
   "id": "a209bb3b",
   "metadata": {},
   "source": [
    "answer:  Run object represents a specific run of text with consistent formatting within a paragraph, while a Paragraph object represents a larger block of text that can contain multiple runs or portions of text with different formatting."
   ]
  },
  {
   "cell_type": "markdown",
   "id": "da8ad3ef",
   "metadata": {},
   "source": [
    "7. How do you obtain a list of Paragraph objects for a Document object that’s stored in a variable\n",
    "named doc?"
   ]
  },
  {
   "cell_type": "code",
   "execution_count": 18,
   "id": "4e617a74",
   "metadata": {
    "scrolled": true
   },
   "outputs": [
    {
     "name": "stdout",
     "output_type": "stream",
     "text": [
      "[<docx.text.paragraph.Paragraph object at 0x00000206F0C8E1C0>, <docx.text.paragraph.Paragraph object at 0x00000206F0C8EA90>, <docx.text.paragraph.Paragraph object at 0x00000206F0C9F340>, <docx.text.paragraph.Paragraph object at 0x00000206F0C9F1C0>, <docx.text.paragraph.Paragraph object at 0x00000206F0C9F2E0>, <docx.text.paragraph.Paragraph object at 0x00000206F0C9F5B0>, <docx.text.paragraph.Paragraph object at 0x00000206F0C9F400>, <docx.text.paragraph.Paragraph object at 0x00000206F0C9F430>, <docx.text.paragraph.Paragraph object at 0x00000206F0C9F490>, <docx.text.paragraph.Paragraph object at 0x00000206F0C9F4F0>, <docx.text.paragraph.Paragraph object at 0x00000206F0C9F6D0>, <docx.text.paragraph.Paragraph object at 0x00000206F0C9F580>, <docx.text.paragraph.Paragraph object at 0x00000206F0C9F760>, <docx.text.paragraph.Paragraph object at 0x00000206F0C9F640>, <docx.text.paragraph.Paragraph object at 0x00000206F0C9F820>, <docx.text.paragraph.Paragraph object at 0x00000206F0C9F700>, <docx.text.paragraph.Paragraph object at 0x00000206F0C9F8E0>, <docx.text.paragraph.Paragraph object at 0x00000206F0C9F7C0>, <docx.text.paragraph.Paragraph object at 0x00000206F0C9F9A0>, <docx.text.paragraph.Paragraph object at 0x00000206F0C9F880>, <docx.text.paragraph.Paragraph object at 0x00000206F0C9FA60>, <docx.text.paragraph.Paragraph object at 0x00000206F0C9F940>, <docx.text.paragraph.Paragraph object at 0x00000206F0C9FD00>, <docx.text.paragraph.Paragraph object at 0x00000206F0CAF2B0>, <docx.text.paragraph.Paragraph object at 0x00000206F0CAF310>, <docx.text.paragraph.Paragraph object at 0x00000206F0CAF370>, <docx.text.paragraph.Paragraph object at 0x00000206F0CAF3D0>, <docx.text.paragraph.Paragraph object at 0x00000206F0CAF430>, <docx.text.paragraph.Paragraph object at 0x00000206F0CAF490>, <docx.text.paragraph.Paragraph object at 0x00000206F0CAF4F0>, <docx.text.paragraph.Paragraph object at 0x00000206F0CAF550>, <docx.text.paragraph.Paragraph object at 0x00000206F0CAF5B0>, <docx.text.paragraph.Paragraph object at 0x00000206F0CAF610>, <docx.text.paragraph.Paragraph object at 0x00000206F0CAF670>, <docx.text.paragraph.Paragraph object at 0x00000206F0CAF6D0>, <docx.text.paragraph.Paragraph object at 0x00000206F0CAF730>, <docx.text.paragraph.Paragraph object at 0x00000206F0CAF790>, <docx.text.paragraph.Paragraph object at 0x00000206F0CAF7F0>, <docx.text.paragraph.Paragraph object at 0x00000206F0CAF850>, <docx.text.paragraph.Paragraph object at 0x00000206F0CAF8B0>, <docx.text.paragraph.Paragraph object at 0x00000206F0CAF910>]\n",
      "Lorem ipsum \n",
      "\n",
      "Lorem ipsum dolor sit amet, consectetur adipiscing elit. Nunc ac faucibus odio. \n",
      "\n",
      "Vestibulum neque massa, scelerisque sit amet ligula eu, congue molestie mi. Praesent ut varius sem. Nullam at porttitor arcu, nec lacinia nisi. Ut ac dolor vitae odio interdum condimentum. Vivamus dapibus sodales ex, vitae malesuada ipsum cursus convallis. Maecenas sed egestas nulla, ac condimentum orci. Mauris diam felis, vulputate ac suscipit et, iaculis non est. Curabitur semper arcu ac ligula semper, nec luctus nisl blandit. Integer lacinia ante ac libero lobortis imperdiet. Nullam mollis convallis ipsum, ac accumsan nunc vehicula vitae. Nulla eget justo in felis tristique fringilla. Morbi sit amet tortor quis risus auctor condimentum. Morbi in ullamcorper elit. Nulla iaculis tellus sit amet mauris tempus fringilla.\n",
      "Maecenas mauris lectus, lobortis et purus mattis, blandit dictum tellus.\n",
      "Maecenas non lorem quis tellus placerat varius. \n",
      "Nulla facilisi. \n",
      "Aenean congue fringilla justo ut aliquam. \n",
      "Nunc vulputate neque vitae justo facilisis, non condimentum ante sagittis. \n",
      "Morbi viverra semper lorem nec molestie. \n",
      "Maecenas tincidunt est efficitur ligula euismod, sit amet ornare est vulputate.\n",
      "\n",
      "\n",
      "\n",
      "\n",
      "\n",
      "\n",
      "\n",
      "\n",
      "\n",
      "In non mauris justo. Duis vehicula mi vel mi pretium, a viverra erat efficitur. Cras aliquam est ac eros varius, id iaculis dui auctor. Duis pretium neque ligula, et pulvinar mi placerat et. Nulla nec nunc sit amet nunc posuere vestibulum. Ut id neque eget tortor mattis tristique. Donec ante est, blandit sit amet tristique vel, lacinia pulvinar arcu. Pellentesque scelerisque fermentum erat, id posuere justo pulvinar ut. Cras id eros sed enim aliquam lobortis. Sed lobortis nisl ut eros efficitur tincidunt. Cras justo mi, porttitor quis mattis vel, ultricies ut purus. Ut facilisis et lacus eu cursus.\n",
      "In eleifend velit vitae libero sollicitudin euismod. Fusce vitae vestibulum velit. Pellentesque vulputate lectus quis pellentesque commodo. Aliquam erat volutpat. Vestibulum in egestas velit. Pellentesque fermentum nisl vitae fringilla venenatis. Etiam id mauris vitae orci maximus ultricies. \n",
      "\n",
      "Cras fringilla ipsum magna, in fringilla dui commodo a.\n",
      "\n",
      "\n",
      "Etiam vehicula luctus fermentum. In vel metus congue, pulvinar lectus vel, fermentum dui. Maecenas ante orci, egestas ut aliquet sit amet, sagittis a magna. Aliquam ante quam, pellentesque ut dignissim quis, laoreet eget est. Aliquam erat volutpat. Class aptent taciti sociosqu ad litora torquent per conubia nostra, per inceptos himenaeos. Ut ullamcorper justo sapien, in cursus libero viverra eget. Vivamus auctor imperdiet urna, at pulvinar leo posuere laoreet. Suspendisse neque nisl, fringilla at iaculis scelerisque, ornare vel dolor. Ut et pulvinar nunc. Pellentesque fringilla mollis efficitur. Nullam venenatis commodo imperdiet. Morbi velit neque, semper quis lorem quis, efficitur dignissim ipsum. Ut ac lorem sed turpis imperdiet eleifend sit amet id sapien.\n",
      "\n",
      "\n",
      "Lorem ipsum dolor sit amet, consectetur adipiscing elit. \n",
      "\n",
      "Nunc ac faucibus odio. Vestibulum neque massa, scelerisque sit amet ligula eu, congue molestie mi. Praesent ut varius sem. Nullam at porttitor arcu, nec lacinia nisi. Ut ac dolor vitae odio interdum condimentum. Vivamus dapibus sodales ex, vitae malesuada ipsum cursus convallis. Maecenas sed egestas nulla, ac condimentum orci. Mauris diam felis, vulputate ac suscipit et, iaculis non est. Curabitur semper arcu ac ligula semper, nec luctus nisl blandit. Integer lacinia ante ac libero lobortis imperdiet. Nullam mollis convallis ipsum, ac accumsan nunc vehicula vitae. Nulla eget justo in felis tristique fringilla. Morbi sit amet tortor quis risus auctor condimentum. Morbi in ullamcorper elit. Nulla iaculis tellus sit amet mauris tempus fringilla.\n",
      "Maecenas mauris lectus, lobortis et purus mattis, blandit dictum tellus. \n",
      "Maecenas non lorem quis tellus placerat varius. Nulla facilisi. Aenean congue fringilla justo ut aliquam. Mauris id ex erat. Nunc vulputate neque vitae justo facilisis, non condimentum ante sagittis. Morbi viverra semper lorem nec molestie. Maecenas tincidunt est efficitur ligula euismod, sit amet ornare est vulputate.\n",
      "In non mauris justo. Duis vehicula mi vel mi pretium, a viverra erat efficitur. Cras aliquam est ac eros varius, id iaculis dui auctor. Duis pretium neque ligula, et pulvinar mi placerat et. Nulla nec nunc sit amet nunc posuere vestibulum. Ut id neque eget tortor mattis tristique. Donec ante est, blandit sit amet tristique vel, lacinia pulvinar arcu. Pellentesque scelerisque fermentum erat, id posuere justo pulvinar ut. Cras id eros sed enim aliquam lobortis. Sed lobortis nisl ut eros efficitur tincidunt. Cras justo mi, porttitor quis mattis vel, ultricies ut purus. Ut facilisis et lacus eu cursus.\n",
      "In eleifend velit vitae libero sollicitudin euismod. \n",
      "Fusce vitae vestibulum velit. Pellentesque vulputate lectus quis pellentesque commodo. Aliquam erat volutpat. Vestibulum in egestas velit. Pellentesque fermentum nisl vitae fringilla venenatis. Etiam id mauris vitae orci maximus ultricies. Cras fringilla ipsum magna, in fringilla dui commodo a.\n",
      "Etiam vehicula luctus fermentum. In vel metus congue, pulvinar lectus vel, fermentum dui. Maecenas ante orci, egestas ut aliquet sit amet, sagittis a magna. Aliquam ante quam, pellentesque ut dignissim quis, laoreet eget est. Aliquam erat volutpat. Class aptent taciti sociosqu ad litora torquent per conubia nostra, per inceptos himenaeos. Ut ullamcorper justo sapien, in cursus libero viverra eget. Vivamus auctor imperdiet urna, at pulvinar leo posuere laoreet. Suspendisse neque nisl, fringilla at iaculis scelerisque, ornare vel dolor. Ut et pulvinar nunc. Pellentesque fringilla mollis efficitur. Nullam venenatis commodo imperdiet. Morbi velit neque, semper quis lorem quis, efficitur dignissim ipsum. Ut ac lorem sed turpis imperdiet eleifend sit amet id sapien.\n",
      "\n",
      "\n"
     ]
    }
   ],
   "source": [
    "# Example Program\n",
    "from docx import Document\n",
    "doc = Document(\"C:/Users/Nandini/file-sample_100kB.docx\") # Path of the Docx file\n",
    "print(doc.paragraphs) # Prints the list of Paragraph objects for a Document\n",
    "for paragraph in doc.paragraphs:\n",
    "    print(paragraph.text) # Prints the text in the paragraph"
   ]
  },
  {
   "cell_type": "markdown",
   "id": "4986e7f6",
   "metadata": {},
   "source": [
    "8. What type of object has bold, underline, italic, strike, and outline variables?"
   ]
  },
  {
   "cell_type": "markdown",
   "id": "4902d5e8",
   "metadata": {},
   "source": [
    "answer:run object"
   ]
  },
  {
   "cell_type": "markdown",
   "id": "604b7d3b",
   "metadata": {},
   "source": [
    "9. What is the difference between False, True, and None for the bold variable?"
   ]
  },
  {
   "cell_type": "markdown",
   "id": "64237f46",
   "metadata": {},
   "source": [
    "answer:False means text is not bold. Setting bold=False results in regular (non-bold) text.\n",
    "\n",
    "True means text is bold. Setting bold=True will make the text appear in bold.\n",
    "\n",
    "None means bold property should not be explicitly set. When the bold variable is set to None, the text will retain its existing bold formatting or inherit the default formatting defined by the style hierarchy in the document."
   ]
  },
  {
   "cell_type": "markdown",
   "id": "a372dc9a",
   "metadata": {},
   "source": [
    "10. How do you create a Document object for a new Word document?"
   ]
  },
  {
   "cell_type": "code",
   "execution_count": 19,
   "id": "65ada5fd",
   "metadata": {},
   "outputs": [],
   "source": [
    "from docx import Document\n",
    "\n",
    "doc = Document()\n"
   ]
  },
  {
   "cell_type": "markdown",
   "id": "81364759",
   "metadata": {},
   "source": [
    "11. How do you add a paragraph with the text &#39;Hello, there!&#39; to a Document object stored in a\n",
    "variable named doc?"
   ]
  },
  {
   "cell_type": "code",
   "execution_count": 20,
   "id": "a558dedb",
   "metadata": {},
   "outputs": [],
   "source": [
    "from docx import Document\n",
    "doc = Document()\n",
    "doc.add_paragraph('Hello, there!')\n",
    "doc.save('hello.docx')"
   ]
  },
  {
   "cell_type": "markdown",
   "id": "0086e12f",
   "metadata": {},
   "source": [
    "12. What integers represent the levels of headings available in Word documents?"
   ]
  },
  {
   "cell_type": "markdown",
   "id": "27b477b2",
   "metadata": {},
   "source": [
    "answer: the levels of headings are represented by integers ranging from 1 to 9.\n",
    "    \n",
    "Heading 1: Level 1\n",
    "    \n",
    "Heading 2: Level 2\n",
    "    \n",
    "Heading 3: Level 3\n",
    "    \n",
    "Heading 4: Level 4\n",
    "    \n",
    "Heading 5: Level 5\n",
    "    \n",
    "Heading 6: Level 6\n",
    "    \n",
    "Heading 7: Level 7\n",
    "    \n",
    "Heading 8: Level 8\n",
    "    \n",
    "Heading 9: Level 9"
   ]
  },
  {
   "cell_type": "code",
   "execution_count": null,
   "id": "415755ec",
   "metadata": {},
   "outputs": [],
   "source": []
  }
 ],
 "metadata": {
  "kernelspec": {
   "display_name": "Python 3 (ipykernel)",
   "language": "python",
   "name": "python3"
  },
  "language_info": {
   "codemirror_mode": {
    "name": "ipython",
    "version": 3
   },
   "file_extension": ".py",
   "mimetype": "text/x-python",
   "name": "python",
   "nbconvert_exporter": "python",
   "pygments_lexer": "ipython3",
   "version": "3.9.12"
  }
 },
 "nbformat": 4,
 "nbformat_minor": 5
}
