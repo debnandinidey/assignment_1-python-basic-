{
 "cells": [
  {
   "cell_type": "markdown",
   "id": "c200ef71",
   "metadata": {},
   "source": [
    "1. Write a Python program to Extract Unique values dictionary values?"
   ]
  },
  {
   "cell_type": "code",
   "execution_count": 2,
   "id": "8c1060b9",
   "metadata": {},
   "outputs": [
    {
     "name": "stdout",
     "output_type": "stream",
     "text": [
      "<function unique_values at 0x000001A3E4505820>\n"
     ]
    }
   ],
   "source": [
    "def unique_values(dictionary):\n",
    "    unique_values1 = list(set(value for values in dictionary.values() for value in values))\n",
    "    return unique_values\n",
    "\n",
    "# Test the function with an example dictionary\n",
    "dictionary = {\n",
    "    'key1': [1, 2, 3],\n",
    "    'key2': [2, 3, 4],\n",
    "    'key3': [3, 4, 5],\n",
    "    'key4': [4, 5, 6]\n",
    "}\n",
    "\n",
    "unique_values1 = unique_values(dictionary)\n",
    "print(unique_values1)\n"
   ]
  },
  {
   "cell_type": "markdown",
   "id": "a0bfc032",
   "metadata": {},
   "source": [
    "2. Write a Python program to find the sum of all items in a dictionary?"
   ]
  },
  {
   "cell_type": "code",
   "execution_count": 3,
   "id": "6036dbc8",
   "metadata": {},
   "outputs": [
    {
     "name": "stdout",
     "output_type": "stream",
     "text": [
      "Sum of dictionary values: 122\n"
     ]
    }
   ],
   "source": [
    "def sum_dictionary_values(dictionary):\n",
    "    total = 0\n",
    "    for value in dictionary.values():\n",
    "        total += value\n",
    "    return total\n",
    "\n",
    "\n",
    "dictionary = {'a': 60, 'b': 28, 'c': 34}\n",
    "\n",
    "result = sum_dictionary_values(dictionary)\n",
    "print(\"Sum of dictionary values:\", result)\n"
   ]
  },
  {
   "cell_type": "markdown",
   "id": "27bd6628",
   "metadata": {},
   "source": [
    "3. Write a Python program to Merging two Dictionaries?"
   ]
  },
  {
   "cell_type": "code",
   "execution_count": 4,
   "id": "bae09e24",
   "metadata": {},
   "outputs": [
    {
     "name": "stdout",
     "output_type": "stream",
     "text": [
      "Merged dictionary: {'a': 1, 'b': 2, 'c': 3, 'd': 4}\n"
     ]
    }
   ],
   "source": [
    "def merge_dictionaries(dict1, dict2):\n",
    "    merged_dict = dict1.copy()\n",
    "    merged_dict.update(dict2)\n",
    "    return merged_dict\n",
    "\n",
    "\n",
    "dictionary1 = {'a': 1, 'b': 2}\n",
    "dictionary2 = {'c': 3, 'd': 4}\n",
    "\n",
    "merged_dictionary = merge_dictionaries(dictionary1, dictionary2)\n",
    "print(\"Merged dictionary:\", merged_dictionary)\n"
   ]
  },
  {
   "cell_type": "markdown",
   "id": "e1de8e54",
   "metadata": {},
   "source": [
    "4. Write a Python program to convert key-values list to flat dictionary?"
   ]
  },
  {
   "cell_type": "code",
   "execution_count": 5,
   "id": "696e6de7",
   "metadata": {},
   "outputs": [
    {
     "name": "stdout",
     "output_type": "stream",
     "text": [
      "Flat dictionary: {'nandini': 1, 'people': 2, 'sea': 3}\n"
     ]
    }
   ],
   "source": [
    "def convert_flatdict(key_value_list):\n",
    "    flat_dict = {key: value for (key, value) in key_value_list}\n",
    "    return flat_dict\n",
    "\n",
    "\n",
    "key_value_list = [('nandini', 1), ('people', 2), ('sea', 3)]\n",
    "\n",
    "flat_dictionary = convert_flatdict(key_value_list)\n",
    "print(\"Flat dictionary:\", flat_dictionary)\n"
   ]
  },
  {
   "cell_type": "markdown",
   "id": "cb3c49dd",
   "metadata": {},
   "source": [
    "5. Write a Python program to insertion at the beginning in OrderedDict?"
   ]
  },
  {
   "cell_type": "code",
   "execution_count": 7,
   "id": "199f343a",
   "metadata": {},
   "outputs": [
    {
     "name": "stdout",
     "output_type": "stream",
     "text": [
      "Updated OrderedDict: OrderedDict([('x', 10), ('a', 1), ('b', 2), ('c', 3)])\n"
     ]
    }
   ],
   "source": [
    "from collections import OrderedDict\n",
    "\n",
    "def insert_at_begin(ordered_dict, key, value):\n",
    "    ordered_dict[key] = value\n",
    "    ordered_dict.move_to_end(key, last=False)\n",
    "\n",
    "# Creating OrderedDict\n",
    "ordered_dict = OrderedDict([('a', 1), ('b', 2), ('c', 3)])\n",
    "\n",
    "insert_at_begin(ordered_dict, 'x', 10)\n",
    "print(\"Updated OrderedDict:\", ordered_dict)\n"
   ]
  },
  {
   "cell_type": "markdown",
   "id": "147c4950",
   "metadata": {},
   "source": [
    "6. Write a Python program to check order of character in string using OrderedDict()?"
   ]
  },
  {
   "cell_type": "code",
   "execution_count": 8,
   "id": "ed0698e3",
   "metadata": {},
   "outputs": [
    {
     "name": "stdout",
     "output_type": "stream",
     "text": [
      "Characters are in order\n",
      "Characters are in order\n",
      "Characters are not in order\n"
     ]
    }
   ],
   "source": [
    "from collections import OrderedDict\n",
    "\n",
    "def check_character_order(string):\n",
    "    ordered_dict = OrderedDict.fromkeys(string)\n",
    "\n",
    "    # Join the keys of OrderedDict to form a string\n",
    "    ordered_string = ''.join(ordered_dict.keys())\n",
    "\n",
    "    if ordered_string == string:\n",
    "        return \"Characters are in order\"\n",
    "    else:\n",
    "        return \"Characters are not in order\"\n",
    "\n",
    "#Testing\n",
    "string1 = \"this\"\n",
    "string2 = \"is\"\n",
    "string3 = \"beautiful\"\n",
    "\n",
    "print(check_character_order(string1))\n",
    "print(check_character_order(string2))\n",
    "print(check_character_order(string3))\n"
   ]
  },
  {
   "cell_type": "markdown",
   "id": "9f9bec50",
   "metadata": {},
   "source": [
    "7. Write a Python program to sort Python Dictionaries by Key or Value?"
   ]
  },
  {
   "cell_type": "code",
   "execution_count": 9,
   "id": "8b88595b",
   "metadata": {},
   "outputs": [
    {
     "name": "stdout",
     "output_type": "stream",
     "text": [
      "{'a': 12, 'b': 32, 'c': 47, 'd': 67}\n"
     ]
    }
   ],
   "source": [
    "def sort_dict_by_value(dictionary):\n",
    "    sorted_dict = dict(sorted(dictionary.items(), key=lambda x: x[1]))\n",
    "    return sorted_dict\n",
    "\n",
    "# Testing\n",
    "my_dict = {'b': 32, 'a': 12, 'd': 67, 'c': 47}\n",
    "sorted_by_value = sort_dict_by_value(my_dict)\n",
    "print(sorted_by_value)\n"
   ]
  },
  {
   "cell_type": "code",
   "execution_count": null,
   "id": "cbc54d04",
   "metadata": {},
   "outputs": [],
   "source": []
  }
 ],
 "metadata": {
  "kernelspec": {
   "display_name": "Python 3 (ipykernel)",
   "language": "python",
   "name": "python3"
  },
  "language_info": {
   "codemirror_mode": {
    "name": "ipython",
    "version": 3
   },
   "file_extension": ".py",
   "mimetype": "text/x-python",
   "name": "python",
   "nbconvert_exporter": "python",
   "pygments_lexer": "ipython3",
   "version": "3.9.12"
  }
 },
 "nbformat": 4,
 "nbformat_minor": 5
}
