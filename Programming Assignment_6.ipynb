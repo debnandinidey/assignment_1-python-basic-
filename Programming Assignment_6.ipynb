{
 "cells": [
  {
   "cell_type": "markdown",
   "id": "795f736a",
   "metadata": {},
   "source": [
    "1. Write a Python Program to Display Fibonacci Sequence Using Recursion?"
   ]
  },
  {
   "cell_type": "code",
   "execution_count": 1,
   "id": "832be920",
   "metadata": {},
   "outputs": [
    {
     "name": "stdout",
     "output_type": "stream",
     "text": [
      "Enter the number of terms: 6\n",
      "Fibonacci Sequence:\n",
      "[0, 1, 1, 2, 3, 5]\n"
     ]
    }
   ],
   "source": [
    "def fibonacci(n):\n",
    "    if n <= 0:\n",
    "        return []\n",
    "    elif n == 1:\n",
    "        return [0]\n",
    "    elif n == 2:\n",
    "        return [0, 1]\n",
    "    else:\n",
    "        sequence = fibonacci(n - 1)\n",
    "        next_number = sequence[-1] + sequence[-2]\n",
    "        sequence.append(next_number)\n",
    "        return sequence\n",
    "\n",
    "# Test the program\n",
    "n_terms = int(input(\"Enter the number of terms: \"))\n",
    "fib_sequence = fibonacci(n_terms)\n",
    "print(\"Fibonacci Sequence:\")\n",
    "print(fib_sequence)\n"
   ]
  },
  {
   "cell_type": "markdown",
   "id": "70db2672",
   "metadata": {},
   "source": [
    "2. Write a Python Program to Find Factorial of Number Using Recursion?"
   ]
  },
  {
   "cell_type": "code",
   "execution_count": 2,
   "id": "d576ed06",
   "metadata": {},
   "outputs": [
    {
     "name": "stdout",
     "output_type": "stream",
     "text": [
      "Enter a number: 9\n",
      "The factorial of 9 is 362880\n"
     ]
    }
   ],
   "source": [
    "def factorial(n):\n",
    "    if n == 0 or n == 1:\n",
    "        return 1\n",
    "    else:\n",
    "        return n * factorial(n - 1)\n",
    "\n",
    "\n",
    "number = int(input(\"Enter a number: \"))\n",
    "result = factorial(number)\n",
    "print(\"The factorial of\", number, \"is\", result)\n"
   ]
  },
  {
   "cell_type": "markdown",
   "id": "d676d676",
   "metadata": {},
   "source": [
    "3. Write a Python Program to calculate your Body Mass Index?"
   ]
  },
  {
   "cell_type": "code",
   "execution_count": 3,
   "id": "7f6c4e4f",
   "metadata": {},
   "outputs": [
    {
     "name": "stdout",
     "output_type": "stream",
     "text": [
      "Enter your weight (in kilograms): 34\n",
      "Enter your height (in meters): 20\n",
      "Your Body Mass Index (BMI) is: 0.085\n"
     ]
    }
   ],
   "source": [
    "def calculate_bmi(weight, height):\n",
    "    bmi = weight / (height ** 2)\n",
    "    return bmi\n",
    "\n",
    "\n",
    "weight = float(input(\"Enter your weight (in kilograms): \"))\n",
    "height = float(input(\"Enter your height (in meters): \"))\n",
    "\n",
    "bmi = calculate_bmi(weight, height)\n",
    "print(\"Your Body Mass Index (BMI) is:\", bmi)\n"
   ]
  },
  {
   "cell_type": "markdown",
   "id": "1ad7bfb3",
   "metadata": {},
   "source": [
    "4. Write a Python Program to calculate the natural logarithm of any number?"
   ]
  },
  {
   "cell_type": "code",
   "execution_count": 4,
   "id": "a6571a57",
   "metadata": {},
   "outputs": [
    {
     "name": "stdout",
     "output_type": "stream",
     "text": [
      "Enter a number: 6\n",
      "The natural logarithm of 6.0 is: 1.791759469228055\n"
     ]
    }
   ],
   "source": [
    "import math\n",
    "num = float(input(\"Enter a number: \"))\n",
    "logarithm = math.log(num)\n",
    "print(\"The natural logarithm of\", num, \"is:\", logarithm)\n"
   ]
  },
  {
   "cell_type": "markdown",
   "id": "58a57d88",
   "metadata": {},
   "source": [
    "5. Write a Python Program for cube sum of first n natural numbers?"
   ]
  },
  {
   "cell_type": "code",
   "execution_count": 5,
   "id": "8b0644e7",
   "metadata": {},
   "outputs": [
    {
     "name": "stdout",
     "output_type": "stream",
     "text": [
      "Enter a positive integer: 4\n",
      "The cube sum of the first 4 natural numbers is: 100\n"
     ]
    }
   ],
   "source": [
    "n = int(input(\"Enter a positive integer: \"))\n",
    "cube_sum = 0\n",
    "for i in range(1, n+1):\n",
    "    cube_sum += i**3\n",
    "\n",
    "print(\"The cube sum of the first\", n, \"natural numbers is:\", cube_sum)\n"
   ]
  },
  {
   "cell_type": "code",
   "execution_count": null,
   "id": "7c5b33e9",
   "metadata": {},
   "outputs": [],
   "source": []
  }
 ],
 "metadata": {
  "kernelspec": {
   "display_name": "Python 3 (ipykernel)",
   "language": "python",
   "name": "python3"
  },
  "language_info": {
   "codemirror_mode": {
    "name": "ipython",
    "version": 3
   },
   "file_extension": ".py",
   "mimetype": "text/x-python",
   "name": "python",
   "nbconvert_exporter": "python",
   "pygments_lexer": "ipython3",
   "version": "3.9.12"
  }
 },
 "nbformat": 4,
 "nbformat_minor": 5
}
