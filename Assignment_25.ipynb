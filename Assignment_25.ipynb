{
 "cells": [
  {
   "cell_type": "markdown",
   "id": "dada2d1b",
   "metadata": {},
   "source": [
    "1) . What is the difference between enclosing a list comprehension in square brackets and\n",
    "parentheses?"
   ]
  },
  {
   "cell_type": "markdown",
   "id": "19d2e78d",
   "metadata": {},
   "source": [
    "The difference lies in the type of object they create.When a list comprehension is enclosed in square brackets, it creates a new list object and when its evaluated, and the output is a list containing the generated elements. on the other hand when a list comprehension is enclosed in parentheses, it creates a generator object. The resulting expression is not evaluated immediately, but instead, it creates an iterator that can be used to generate the elements on-demand."
   ]
  },
  {
   "cell_type": "markdown",
   "id": "83256220",
   "metadata": {},
   "source": [
    "2) What is the relationship between generators and iterators?"
   ]
  },
  {
   "cell_type": "markdown",
   "id": "2ad9b761",
   "metadata": {},
   "source": [
    "iterator is an object that represents a stream of data. It provides a way to access elements of a container or a sequence one at a time without needing to store them all in memory at once. Iterators have two essential methods: __iter__() and __next__(). The __iter__() method returns the iterator object itself, and the __next__() method returns the next element from the iterator. When there are no more elements, it raises the StopIteration exception.\n",
    "\n",
    "A generator is a special type of iterator. It is defined using a generator function or a generator expression. A generator function is a function that contains the yield statement. When a generator function is called, it returns a generator object that can be iterated over. Each time the generator's __next__() method is called, the function's execution is resumed from where it left off until it encounters a yield statement. \n"
   ]
  },
  {
   "cell_type": "markdown",
   "id": "1b6f6631",
   "metadata": {},
   "source": [
    "3) What are the signs that a function is a generator function?"
   ]
  },
  {
   "cell_type": "markdown",
   "id": "b9757b91",
   "metadata": {},
   "source": [
    "In a generator function, a yield statement is used rather than a return statement"
   ]
  },
  {
   "cell_type": "markdown",
   "id": "9db4b495",
   "metadata": {},
   "source": [
    "4) What is the purpose of a yield statement?"
   ]
  },
  {
   "cell_type": "markdown",
   "id": "35c15e05",
   "metadata": {},
   "source": [
    "The purpose of a yield statement is to define a generator function. It allows the function to yield a value, which is then returned to the caller, while preserving the function's state to resume execution from where it left off. Yield statements are used in iterator and generator functions to generate a sequence of values without storing them all in memory at once."
   ]
  },
  {
   "cell_type": "markdown",
   "id": "5d11b7bb",
   "metadata": {},
   "source": [
    "5) What is the relationship between map calls and list comprehensions? Make a comparison and\n",
    "contrast between the two."
   ]
  },
  {
   "cell_type": "markdown",
   "id": "3a482f97",
   "metadata": {},
   "source": [
    "The relationship between map calls and list comprehensions is that they both provide a way to apply a function to a sequence of elements. However, there are differences in syntax and functionality.map calls are suitable for simple transformations where the goal is to apply a function to each element, while list comprehensions are more versatile and allow for more complex operations and filtering based on conditions. List comprehensions also directly return a new list, while map calls return an iterator that needs to be converted to a list if desired."
   ]
  },
  {
   "cell_type": "code",
   "execution_count": null,
   "id": "0b9fe373",
   "metadata": {},
   "outputs": [],
   "source": []
  }
 ],
 "metadata": {
  "kernelspec": {
   "display_name": "Python 3 (ipykernel)",
   "language": "python",
   "name": "python3"
  },
  "language_info": {
   "codemirror_mode": {
    "name": "ipython",
    "version": 3
   },
   "file_extension": ".py",
   "mimetype": "text/x-python",
   "name": "python",
   "nbconvert_exporter": "python",
   "pygments_lexer": "ipython3",
   "version": "3.9.12"
  }
 },
 "nbformat": 4,
 "nbformat_minor": 5
}
