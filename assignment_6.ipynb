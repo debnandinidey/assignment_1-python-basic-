{
 "cells": [
  {
   "cell_type": "markdown",
   "id": "12ae0f46",
   "metadata": {},
   "source": [
    "1. What are escape characters, and how do you use them?"
   ]
  },
  {
   "cell_type": "markdown",
   "id": "7be2c601",
   "metadata": {},
   "source": [
    "to include characters that are usually not allowed in the string we use an escape character.It is used to change line or insert a tab space. An escape character is a backslash \\ followed by the character you want to insert.\n",
    "\n",
    "for example dialogue = \"here comes the sun \\\"up\\\" above the sky.\""
   ]
  },
  {
   "cell_type": "markdown",
   "id": "13f8b4bb",
   "metadata": {},
   "source": [
    "2. What do the escape characters n and t stand for?"
   ]
  },
  {
   "cell_type": "markdown",
   "id": "1fbcc8b7",
   "metadata": {},
   "source": [
    "n stands for new line and t stands for tab."
   ]
  },
  {
   "cell_type": "markdown",
   "id": "26922a70",
   "metadata": {},
   "source": [
    "3. What is the way to include backslash characters in a string?"
   ]
  },
  {
   "cell_type": "markdown",
   "id": "bf20e9d1",
   "metadata": {},
   "source": [
    "Backslash should be followed with the keyword. for example- print(\"here comes the sun \"up\" above the sky.\")"
   ]
  },
  {
   "cell_type": "markdown",
   "id": "c4197a14",
   "metadata": {},
   "source": [
    "4. The string &quot;Howl&#39;s Moving Castle&quot; is a correct value. Why isn&#39;t the single quote character in the\n",
    "word Howl&#39;s not escaped a problem?"
   ]
  },
  {
   "cell_type": "markdown",
   "id": "722912f4",
   "metadata": {},
   "source": [
    "because it is enclosed in double quotes so it wont give any errors."
   ]
  },
  {
   "cell_type": "markdown",
   "id": "bb350be6",
   "metadata": {},
   "source": [
    "5. How do you write a string of newlines if you don&#39;t want to use the n character?"
   ]
  },
  {
   "cell_type": "markdown",
   "id": "727c0c69",
   "metadata": {},
   "source": [
    "Multiline strings allow you to use newlines in strings without the \\n escape character."
   ]
  },
  {
   "cell_type": "markdown",
   "id": "bfd77127",
   "metadata": {},
   "source": [
    "6. What are the values of the given expressions?"
   ]
  },
  {
   "cell_type": "markdown",
   "id": "6e902e3f",
   "metadata": {},
   "source": [
    "'Hello, world!'[1]-'e'\n",
    "\n",
    "'Hello, world!'[0:5]-'Hello'\n",
    "\n",
    "'Hello, world!'[:5]-'Hello'\n",
    "\n",
    "'Hello, world!'[3:]-'lo, world!'"
   ]
  },
  {
   "cell_type": "markdown",
   "id": "7cdb16f1",
   "metadata": {},
   "source": [
    "7. What are the values of the following expressions?\n",
    "\n",
    "&#39;Hello&#39;.upper()- 'HELLO'\n",
    "\n",
    "&#39;Hello&#39;.upper().isupper()- True\n",
    "\n",
    "&#39;Hello&#39;.upper().lower()- 'hello'"
   ]
  },
  {
   "cell_type": "markdown",
   "id": "a6412e04",
   "metadata": {},
   "source": [
    "8. What are the values of the following expressions?\n",
    "\n",
    "&#39;Remember, remember, the fifth of July.&#39;.split() - ['Remember,', 'remember,', 'the', 'fifth', 'of', 'July.']\n",
    "\n",
    "&#39;-&#39;.join(&#39;There can only one.&#39;.split()) - 'There-can-only-one.'"
   ]
  },
  {
   "cell_type": "markdown",
   "id": "465e893f",
   "metadata": {},
   "source": [
    "9. What are the methods for right-justifying, left-justifying, and centering a string?"
   ]
  },
  {
   "cell_type": "markdown",
   "id": "a14bffea",
   "metadata": {},
   "source": [
    "The rjust(), ljust(), and center() string methods, respectively"
   ]
  },
  {
   "cell_type": "markdown",
   "id": "29029bfe",
   "metadata": {},
   "source": [
    "10. What is the best way to remove whitespace characters from the start or end?"
   ]
  },
  {
   "cell_type": "markdown",
   "id": "64134c10",
   "metadata": {},
   "source": [
    "The lstrip() and rstrip() methods remove whitespace from the left and right ends of a string, respectively."
   ]
  },
  {
   "cell_type": "code",
   "execution_count": null,
   "id": "ed2c62a4",
   "metadata": {},
   "outputs": [],
   "source": []
  }
 ],
 "metadata": {
  "kernelspec": {
   "display_name": "Python 3 (ipykernel)",
   "language": "python",
   "name": "python3"
  },
  "language_info": {
   "codemirror_mode": {
    "name": "ipython",
    "version": 3
   },
   "file_extension": ".py",
   "mimetype": "text/x-python",
   "name": "python",
   "nbconvert_exporter": "python",
   "pygments_lexer": "ipython3",
   "version": "3.9.12"
  }
 },
 "nbformat": 4,
 "nbformat_minor": 5
}
