{
 "cells": [
  {
   "cell_type": "markdown",
   "id": "48538404",
   "metadata": {},
   "source": [
    "1. In the below elements which of them are values or an expression? eg:- values can be integer or string and expressions will be mathematical operators."
   ]
  },
  {
   "cell_type": "markdown",
   "id": "f14ae10b",
   "metadata": {},
   "source": [
    "answer:\n",
    "* = expressions\n",
    "'hello'= values\n",
    "-87.8 = values\n",
    "- = expressions\n",
    "+ = expressions\n",
    "/ = expressions\n",
    "6 = values\n"
   ]
  },
  {
   "cell_type": "markdown",
   "id": "7f3a241c",
   "metadata": {},
   "source": [
    "2. What is the difference between string and variable?"
   ]
  },
  {
   "cell_type": "markdown",
   "id": "d186594e",
   "metadata": {},
   "source": [
    "answer:\n",
    "    variable is something which is basically used to store any kind of information. it can be numbers, sentences, any arithmetic operator, values, and so on. \n",
    "    on the other hand string is a particular type of data that any variable can take. it is primarily a text type of data.\n",
    "    for example,\n",
    "    a = \"name\"\n",
    "    here a is the variable which stores the information \"name\" in it. and name can be in text format which is a string."
   ]
  },
  {
   "cell_type": "markdown",
   "id": "e365708d",
   "metadata": {},
   "source": [
    "3. Describe three different data types"
   ]
  },
  {
   "cell_type": "markdown",
   "id": "ff941946",
   "metadata": {},
   "source": [
    "answer:\n",
    "    boolean, string, numeric are the three different data types.\n",
    "    boolean- gives true or false answer of an expression. also while writing true and false in python, the first letter, that is, 'T'and 'F'should always be in upper case. if its not in uppercase then the code wont run.\n",
    "    string- string data type considers only text format of any value. any kind of alphabets, sentences, or even numbers if given within double inverted quotes, then it will be considered as string data type.\n",
    "    numeric- numeric data type considers all kind of numbers. if the number is in decimal then it will be float data type, if the number is a whole number then it will be an integer datatype, and if the number is in the format of b = 2+3j, then it will be complex.'j is always considered as complex in python.'"
   ]
  },
  {
   "cell_type": "code",
   "execution_count": 1,
   "id": "01d0bf64",
   "metadata": {},
   "outputs": [
    {
     "data": {
      "text/plain": [
       "bool"
      ]
     },
     "execution_count": 1,
     "metadata": {},
     "output_type": "execute_result"
    }
   ],
   "source": [
    "a = True\n",
    "type(a)"
   ]
  },
  {
   "cell_type": "code",
   "execution_count": 2,
   "id": "3d26de24",
   "metadata": {},
   "outputs": [
    {
     "data": {
      "text/plain": [
       "str"
      ]
     },
     "execution_count": 2,
     "metadata": {},
     "output_type": "execute_result"
    }
   ],
   "source": [
    "b, c, d=\"debnandini\", \"56\",\"my name\"\n",
    "type(b)\n"
   ]
  },
  {
   "cell_type": "code",
   "execution_count": 3,
   "id": "f1a58dd6",
   "metadata": {},
   "outputs": [
    {
     "data": {
      "text/plain": [
       "str"
      ]
     },
     "execution_count": 3,
     "metadata": {},
     "output_type": "execute_result"
    }
   ],
   "source": [
    "type(c)"
   ]
  },
  {
   "cell_type": "code",
   "execution_count": 4,
   "id": "83efcb92",
   "metadata": {},
   "outputs": [
    {
     "data": {
      "text/plain": [
       "complex"
      ]
     },
     "execution_count": 4,
     "metadata": {},
     "output_type": "execute_result"
    }
   ],
   "source": [
    "f= 2+3j\n",
    "type(f)"
   ]
  },
  {
   "cell_type": "markdown",
   "id": "be40e68a",
   "metadata": {},
   "source": [
    "4. What is an expression made up of? What do all expressions do?"
   ]
  },
  {
   "cell_type": "markdown",
   "id": "d5495728",
   "metadata": {},
   "source": [
    "An expression is like a mixture of operators and operands. using some operators together we can perform some program and get values.\n",
    "these operators include, addition(+), substraction(-), multiplication(*), division(/). \n",
    "expressions together help in finding out the value or output of a program.\n",
    "for example, x=a+b-12, this equation is an expression and the +,- used are the operators."
   ]
  },
  {
   "cell_type": "markdown",
   "id": "d2fa836b",
   "metadata": {},
   "source": [
    "5. This assignment statements, like spam = 10. What is the difference between an expression and a statement?"
   ]
  },
  {
   "cell_type": "markdown",
   "id": "a606d305",
   "metadata": {},
   "source": [
    "answer:\n",
    "    expression needs to have some combination of operator and the operand. here in this example there is no operator used, hence its just a mere statement."
   ]
  },
  {
   "cell_type": "markdown",
   "id": "ae922a1f",
   "metadata": {},
   "source": [
    "6. After running the following code, what does the variable bacon contain?\n",
    "bacon = 22\n",
    "bacon + 1\n"
   ]
  },
  {
   "cell_type": "code",
   "execution_count": 5,
   "id": "32225a71",
   "metadata": {},
   "outputs": [
    {
     "data": {
      "text/plain": [
       "23"
      ]
     },
     "execution_count": 5,
     "metadata": {},
     "output_type": "execute_result"
    }
   ],
   "source": [
    "#answer\n",
    "bacon = 22\n",
    "bacon+1"
   ]
  },
  {
   "cell_type": "markdown",
   "id": "9ea88467",
   "metadata": {},
   "source": [
    "7. What should the values of the following two terms be?\n",
    "'spam' + 'spamspam'\n",
    "'spam' * 3\n"
   ]
  },
  {
   "cell_type": "code",
   "execution_count": 6,
   "id": "935320b1",
   "metadata": {},
   "outputs": [
    {
     "name": "stdout",
     "output_type": "stream",
     "text": [
      "spamspamspam\n",
      "spamspamspam\n"
     ]
    }
   ],
   "source": [
    "a='spam' + 'spamspam'\n",
    "b='spam' * 3\n",
    "print(a)\n",
    "print(b)"
   ]
  },
  {
   "cell_type": "markdown",
   "id": "0d00658e",
   "metadata": {},
   "source": [
    "8. Why is eggs a valid variable name while 100 is invalid?"
   ]
  },
  {
   "cell_type": "markdown",
   "id": "f0cf81da",
   "metadata": {},
   "source": [
    "answer: variable name cannot start with integer values, it should start with alphabets."
   ]
  },
  {
   "cell_type": "markdown",
   "id": "8f65f2df",
   "metadata": {},
   "source": [
    "9. What three functions can be used to get the integer, floating-point number, or string version of a value?"
   ]
  },
  {
   "cell_type": "code",
   "execution_count": 7,
   "id": "6049232a",
   "metadata": {},
   "outputs": [
    {
     "data": {
      "text/plain": [
       "'10'"
      ]
     },
     "execution_count": 7,
     "metadata": {},
     "output_type": "execute_result"
    }
   ],
   "source": [
    "a=\"10\"\n",
    "str(a)"
   ]
  },
  {
   "cell_type": "code",
   "execution_count": 8,
   "id": "8809b4f8",
   "metadata": {},
   "outputs": [
    {
     "data": {
      "text/plain": [
       "34.9"
      ]
     },
     "execution_count": 8,
     "metadata": {},
     "output_type": "execute_result"
    }
   ],
   "source": [
    "b=34.9\n",
    "float(b)"
   ]
  },
  {
   "cell_type": "code",
   "execution_count": 9,
   "id": "bd1b5c30",
   "metadata": {},
   "outputs": [
    {
     "data": {
      "text/plain": [
       "23"
      ]
     },
     "execution_count": 9,
     "metadata": {},
     "output_type": "execute_result"
    }
   ],
   "source": [
    "c=23\n",
    "int(c)"
   ]
  },
  {
   "cell_type": "markdown",
   "id": "b98aa484",
   "metadata": {},
   "source": [
    "10. Why does this expression cause an error? How can you fix it?\n",
    "'I have eaten ' + 99 + ' burritos.'\n"
   ]
  },
  {
   "cell_type": "markdown",
   "id": "3f6e7d99",
   "metadata": {},
   "source": [
    "x='I have eaten ' + 99 + ' burritos.'\n",
    "its a error because 99 here is considered as an integer.we cannot write string and integer together is a line.we need to change it to same data type.either both can be string or both can be integer.\n",
    "to change 99 from integer to string we can put 99 in double/single inverted quotes(\"99\"), then it will be changed to string."
   ]
  },
  {
   "cell_type": "code",
   "execution_count": 10,
   "id": "caf72caf",
   "metadata": {},
   "outputs": [],
   "source": [
    "x='I have eaten ' + '99' + ' burritos'"
   ]
  },
  {
   "cell_type": "code",
   "execution_count": null,
   "id": "33035b16",
   "metadata": {},
   "outputs": [],
   "source": []
  }
 ],
 "metadata": {
  "kernelspec": {
   "display_name": "Python 3 (ipykernel)",
   "language": "python",
   "name": "python3"
  },
  "language_info": {
   "codemirror_mode": {
    "name": "ipython",
    "version": 3
   },
   "file_extension": ".py",
   "mimetype": "text/x-python",
   "name": "python",
   "nbconvert_exporter": "python",
   "pygments_lexer": "ipython3",
   "version": "3.9.12"
  }
 },
 "nbformat": 4,
 "nbformat_minor": 5
}
