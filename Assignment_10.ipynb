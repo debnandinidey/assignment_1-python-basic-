{
 "cells": [
  {
   "cell_type": "markdown",
   "id": "7ab3b679",
   "metadata": {},
   "source": [
    "1. How do you distinguish between shutil.copy() and shutil.copytree()?"
   ]
  },
  {
   "cell_type": "markdown",
   "id": "88a66aca",
   "metadata": {},
   "source": [
    "answer:shutil.copy() is used to copy individual files, while shutil.copytree() is used to copy entire directory trees.\n",
    "    \n",
    "shutil.copy(src, dst): This function is used to copy a single file from the source (src) to the destination (dst). It preserves the file's permissions and other metadata.\n",
    "\n",
    "shutil.copytree(src, dst): This function is used to copy an entire directory tree from the source (src) to the destination (dst). It creates a new directory at the destination and copies all files and subdirectories from the source to the destination."
   ]
  },
  {
   "cell_type": "markdown",
   "id": "b23c1157",
   "metadata": {},
   "source": [
    "2. What function is used to rename files??"
   ]
  },
  {
   "cell_type": "markdown",
   "id": "04b46c09",
   "metadata": {},
   "source": [
    "answer: The os.rename(src, dst) function is used to rename files in Python."
   ]
  },
  {
   "cell_type": "markdown",
   "id": "3f73de1b",
   "metadata": {},
   "source": [
    "3. What is the difference between the delete functions in the send2trash and shutil modules?"
   ]
  },
  {
   "cell_type": "markdown",
   "id": "2a4017dd",
   "metadata": {},
   "source": [
    "answer: shutil.rmtree() function irreversibly deletes files and folders. send2trash will send folders and files to computer's trash or recycle bin instead of permanently deleting them"
   ]
  },
  {
   "cell_type": "markdown",
   "id": "86d972d6",
   "metadata": {},
   "source": [
    "4.ZipFile objects have a close() method just like File objects’ close() method. What ZipFile method is\n",
    "equivalent to File objects’ open() method?"
   ]
  },
  {
   "cell_type": "markdown",
   "id": "9525a42b",
   "metadata": {},
   "source": [
    "answer: extractall() is the ZipFile method is equivalent to File objects’ open() method."
   ]
  },
  {
   "cell_type": "markdown",
   "id": "3e4bc0b0",
   "metadata": {},
   "source": [
    "5. Create a programme that searches a folder tree for files with a certain file extension (such as .pdf\n",
    "or .jpg). Copy these files from whatever location they are in to a new folder."
   ]
  },
  {
   "cell_type": "code",
   "execution_count": 1,
   "id": "e7903968",
   "metadata": {},
   "outputs": [],
   "source": [
    "import os\n",
    "import shutil\n",
    "\n",
    "def search_and_copy_files(source_folder, target_folder, file_extension):\n",
    "    # Create the target folder if it doesn't exist\n",
    "    if not os.path.exists(target_folder):\n",
    "        os.makedirs(target_folder)\n",
    "\n",
    "    # Traverse the folder tree\n",
    "    for root, directories, files in os.walk(source_folder):\n",
    "        for file in files:\n",
    "            if file.endswith(file_extension):\n",
    "                source_path = os.path.join(root, file)\n",
    "                target_path = os.path.join(target_folder, file)\n",
    "                shutil.copy2(source_path, target_path)\n",
    "                print(f\"Copied {file} to {target_folder}\")\n",
    "\n",
    "# Example usage\n",
    "source_folder = \"/path/to/source/folder\"\n",
    "target_folder = \"/path/to/target/folder\"\n",
    "file_extension = \".pdf\"  # Change to the desired file extension\n",
    "\n",
    "search_and_copy_files(source_folder, target_folder, file_extension)\n"
   ]
  },
  {
   "cell_type": "code",
   "execution_count": null,
   "id": "8c1af9bb",
   "metadata": {},
   "outputs": [],
   "source": []
  }
 ],
 "metadata": {
  "kernelspec": {
   "display_name": "Python 3 (ipykernel)",
   "language": "python",
   "name": "python3"
  },
  "language_info": {
   "codemirror_mode": {
    "name": "ipython",
    "version": 3
   },
   "file_extension": ".py",
   "mimetype": "text/x-python",
   "name": "python",
   "nbconvert_exporter": "python",
   "pygments_lexer": "ipython3",
   "version": "3.9.12"
  }
 },
 "nbformat": 4,
 "nbformat_minor": 5
}
