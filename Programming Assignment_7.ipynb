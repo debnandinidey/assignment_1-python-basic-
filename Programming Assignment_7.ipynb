{
 "cells": [
  {
   "cell_type": "markdown",
   "id": "ed57740a",
   "metadata": {},
   "source": [
    "1. Write a Python Program to find sum of array?"
   ]
  },
  {
   "cell_type": "code",
   "execution_count": 1,
   "id": "03523ad0",
   "metadata": {},
   "outputs": [
    {
     "name": "stdout",
     "output_type": "stream",
     "text": [
      "The sum of the array is: 15\n"
     ]
    }
   ],
   "source": [
    "array = [1, 2, 3, 4, 5]\n",
    "sum = 0\n",
    "for num in array:\n",
    "    sum += num\n",
    "\n",
    "print(\"The sum of the array is:\", sum)\n"
   ]
  },
  {
   "cell_type": "markdown",
   "id": "9d3c5060",
   "metadata": {},
   "source": [
    "2. Write a Python Program to find largest element in an array?"
   ]
  },
  {
   "cell_type": "code",
   "execution_count": 2,
   "id": "d4dc8331",
   "metadata": {},
   "outputs": [
    {
     "name": "stdout",
     "output_type": "stream",
     "text": [
      "The largest element in the array is: 75\n"
     ]
    }
   ],
   "source": [
    "array = [10, 15, 28, 8, 75]\n",
    "\n",
    "largest = array[0]\n",
    "\n",
    "\n",
    "for num in array:\n",
    "    if num > largest:\n",
    "        largest = num\n",
    "print(\"The largest element in the array is:\", largest)\n"
   ]
  },
  {
   "cell_type": "markdown",
   "id": "7d828cdf",
   "metadata": {},
   "source": [
    "3. Write a Python Program for array rotation?"
   ]
  },
  {
   "cell_type": "code",
   "execution_count": 3,
   "id": "bdb0f603",
   "metadata": {},
   "outputs": [
    {
     "name": "stdout",
     "output_type": "stream",
     "text": [
      "Original Array: [1, 2, 3, 4, 5]\n",
      "Rotated Array: [3, 4, 5, 1, 2]\n"
     ]
    }
   ],
   "source": [
    "def rotate_array(arr, k):\n",
    "    n = len(arr)\n",
    "    k = k % n  #Normalize rotation index\n",
    "\n",
    "    # Rotate the array\n",
    "    rotated = arr[k:] + arr[:k]\n",
    "\n",
    "    return rotated\n",
    "\n",
    "array = [1, 2, 3, 4, 5]\n",
    "rotation = 2\n",
    "\n",
    "rotated_array = rotate_array(array, rotation)\n",
    "print(\"Original Array:\", array)\n",
    "print(\"Rotated Array:\", rotated_array)\n"
   ]
  },
  {
   "cell_type": "markdown",
   "id": "dda1aa2a",
   "metadata": {},
   "source": [
    "4. Write a Python Program to Split the array and add the first part to the end?"
   ]
  },
  {
   "cell_type": "code",
   "execution_count": 4,
   "id": "acc29fac",
   "metadata": {},
   "outputs": [
    {
     "name": "stdout",
     "output_type": "stream",
     "text": [
      "Original Array: [1, 2, 3, 4, 5]\n",
      "Result Array: [3, 4, 5, 1, 2]\n"
     ]
    }
   ],
   "source": [
    "def split_and_add(arr, split_index):\n",
    "    # Spliting the array into two parts\n",
    "    first_part = arr[:split_index]\n",
    "    second_part = arr[split_index:]\n",
    "\n",
    "    \n",
    "    result = second_part + first_part\n",
    "\n",
    "    return result\n",
    "\n",
    "array = [1, 2, 3, 4, 5]\n",
    "split_index = 2\n",
    "\n",
    "result_array = split_and_add(array, split_index)\n",
    "print(\"Original Array:\", array)\n",
    "print(\"Result Array:\", result_array)\n"
   ]
  },
  {
   "cell_type": "markdown",
   "id": "c1b13c3b",
   "metadata": {},
   "source": [
    "5. Write a Python Program to check if given array is Monotonic?"
   ]
  },
  {
   "cell_type": "code",
   "execution_count": 5,
   "id": "6cb7e974",
   "metadata": {},
   "outputs": [
    {
     "name": "stdout",
     "output_type": "stream",
     "text": [
      "Array 1 is monotonic: True\n",
      "Array 2 is monotonic: True\n",
      "Array 3 is monotonic: False\n"
     ]
    }
   ],
   "source": [
    "def is_monotonic(arr):\n",
    "    increasing = decreasing = True\n",
    "\n",
    "    for i in range(1, len(arr)):\n",
    "        if arr[i] < arr[i - 1]:\n",
    "            increasing = False\n",
    "        if arr[i] > arr[i - 1]:\n",
    "            decreasing = False\n",
    "\n",
    "    return increasing or decreasing\n",
    "\n",
    "\n",
    "array1 = [1, 2, 3, 4, 5]\n",
    "array2 = [5, 4, 3, 2, 1]\n",
    "array3 = [1, 2, 3, 2, 1]\n",
    "\n",
    "print(\"Array 1 is monotonic:\", is_monotonic(array1))\n",
    "print(\"Array 2 is monotonic:\", is_monotonic(array2))\n",
    "print(\"Array 3 is monotonic:\", is_monotonic(array3))\n"
   ]
  },
  {
   "cell_type": "code",
   "execution_count": null,
   "id": "58441751",
   "metadata": {},
   "outputs": [],
   "source": []
  }
 ],
 "metadata": {
  "kernelspec": {
   "display_name": "Python 3 (ipykernel)",
   "language": "python",
   "name": "python3"
  },
  "language_info": {
   "codemirror_mode": {
    "name": "ipython",
    "version": 3
   },
   "file_extension": ".py",
   "mimetype": "text/x-python",
   "name": "python",
   "nbconvert_exporter": "python",
   "pygments_lexer": "ipython3",
   "version": "3.9.12"
  }
 },
 "nbformat": 4,
 "nbformat_minor": 5
}
