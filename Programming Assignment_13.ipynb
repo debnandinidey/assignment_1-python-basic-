{
 "cells": [
  {
   "cell_type": "markdown",
   "id": "9fd993c1",
   "metadata": {},
   "source": [
    "question 1: \n",
    "\n",
    "Write a program that calculates and prints the value according to the given formula:\n",
    "Q = Square root of [(2 * C * D)/H]\n",
    "Following are the fixed values of C and H:\n",
    "C is 50. H is 30.\n",
    "D is the variable whose values should be input to your program in a comma-separated\n",
    "sequence.\n",
    "Example\n",
    "Let us assume the following comma separated input sequence is given to the program:\n",
    "100,150,180\n",
    "The output of the program should be:\n",
    "18,22,24"
   ]
  },
  {
   "cell_type": "code",
   "execution_count": 1,
   "id": "5d09f748",
   "metadata": {},
   "outputs": [
    {
     "name": "stdout",
     "output_type": "stream",
     "text": [
      "Enter the comma-separated sequence of D values: 34,45,23\n",
      "The output of the program is: 10,12,8\n"
     ]
    }
   ],
   "source": [
    "import math\n",
    "\n",
    "C = 50\n",
    "H = 30\n",
    "\n",
    "def calculate_value(d_values):\n",
    "    result = []\n",
    "    for d in d_values:\n",
    "        q = int(math.sqrt((2 * C * int(d)) / H))\n",
    "        result.append(q)\n",
    "    return result\n",
    "\n",
    "input_sequence = input(\"Enter the comma-separated sequence of D values: \")\n",
    "d_values = input_sequence.split(',')\n",
    "\n",
    "# Calculating the values \n",
    "output_values = calculate_value(d_values)\n",
    "\n",
    "output_sequence = \",\".join(str(val) for val in output_values)\n",
    "print(\"The output of the program is:\", output_sequence)\n"
   ]
  },
  {
   "cell_type": "markdown",
   "id": "5cc57ecb",
   "metadata": {},
   "source": [
    "Question 2:\n",
    "    \n",
    "Write a program which takes 2 digits, X,Y as input and generates a 2-dimensional array. The\n",
    "element value in the i-th row and j-th column of the array should be i*j.\n",
    "Note: i=0,1.., X-1; j=0,1,¡Y-1.\n",
    "Example\n",
    "Suppose the following inputs are given to the program:\n",
    "3,5\n",
    "Then, the output of the program should be:\n",
    "[[0, 0, 0, 0, 0], [0, 1, 2, 3, 4], [0, 2, 4, 6, 8]]"
   ]
  },
  {
   "cell_type": "code",
   "execution_count": 2,
   "id": "eb6f3903",
   "metadata": {},
   "outputs": [
    {
     "name": "stdout",
     "output_type": "stream",
     "text": [
      "Enter the values of X and Y (comma-separated): 2,3\n",
      "The output of the program is:\n",
      "[0, 0, 0]\n",
      "[0, 1, 2]\n"
     ]
    }
   ],
   "source": [
    "def generate_2d_array(x, y):\n",
    "    array = []\n",
    "    for i in range(x):\n",
    "        row = []\n",
    "        for j in range(y):\n",
    "            row.append(i * j)\n",
    "        array.append(row)\n",
    "    return array\n",
    "\n",
    "\n",
    "x, y = map(int, input(\"Enter the values of X and Y (comma-separated): \").split(','))\n",
    "\n",
    "result_array = generate_2d_array(x, y)\n",
    "print(\"The output of the program is:\")\n",
    "for row in result_array:\n",
    "    print(row)\n"
   ]
  },
  {
   "cell_type": "markdown",
   "id": "46121c46",
   "metadata": {},
   "source": [
    "Question 3:\n",
    "    \n",
    "Write a program that accepts a comma separated sequence of words as input and prints the\n",
    "words in a comma-separated sequence after sorting them alphabetically.\n",
    "Suppose the following input is supplied to the program:\n",
    "without,hello,bag,world\n",
    "Then, the output should be:\n",
    "bag,hello,without,world"
   ]
  },
  {
   "cell_type": "code",
   "execution_count": 3,
   "id": "06629fe3",
   "metadata": {},
   "outputs": [
    {
     "name": "stdout",
     "output_type": "stream",
     "text": [
      "Enter a comma-separated sequence of words: hello,jam,how,are,you\n",
      "The sorted sequence is: are,hello,how,jam,you\n"
     ]
    }
   ],
   "source": [
    "word_sequence = input(\"Enter a comma-separated sequence of words: \")\n",
    "\n",
    "words = word_sequence.split(',')\n",
    "\n",
    "#sorting the words alphabetically\n",
    "sorted_words = sorted(words)\n",
    "\n",
    "# Join the sorted words \n",
    "sorted_sequence = ','.join(sorted_words)\n",
    "print(\"The sorted sequence is:\", sorted_sequence)\n"
   ]
  },
  {
   "cell_type": "markdown",
   "id": "1c975f64",
   "metadata": {},
   "source": [
    "Question 4:\n",
    "    \n",
    "Write a program that accepts a sequence of whitespace separated words as input and prints\n",
    "the words after removing all duplicate words and sorting them alphanumerically.\n",
    "Suppose the following input is supplied to the program:\n",
    "hello world and practice makes perfect and hello world again\n",
    "Then, the output should be:\n",
    "again and hello makes perfect practice world"
   ]
  },
  {
   "cell_type": "code",
   "execution_count": 4,
   "id": "dd6bfca4",
   "metadata": {},
   "outputs": [
    {
     "name": "stdout",
     "output_type": "stream",
     "text": [
      "enter a sequence of whitespace separated words: my name is nandini\n",
      "Output: is my name nandini\n"
     ]
    }
   ],
   "source": [
    "words_sequence=input(\"enter a sequence of whitespace separated words: \")\n",
    "words=words_sequence.split(\" \")\n",
    "unique_words=sorted(set(words))#set() creates a set of unique words from the list, which automatically removes any duplicate words\n",
    "#The sorted() function is applied to the set of unique words to sort them alphanumerically.\n",
    "result = \" \".join(unique_words)\n",
    "print(\"Output:\", result)\n"
   ]
  },
  {
   "cell_type": "markdown",
   "id": "2816ae9b",
   "metadata": {},
   "source": [
    "Question 5:\n",
    "    \n",
    "Write a program that accepts a sentence and calculate the number of letters and digits.\n",
    "Suppose the following input is supplied to the program:\n",
    "hello world! 123\n",
    "Then, the output should be:\n",
    "LETTERS 10"
   ]
  },
  {
   "cell_type": "code",
   "execution_count": 5,
   "id": "1ca77661",
   "metadata": {},
   "outputs": [
    {
     "name": "stdout",
     "output_type": "stream",
     "text": [
      "enter any sentence: how have you been 2345\n",
      "LETTERS 14\n",
      "DIGITS 4\n"
     ]
    }
   ],
   "source": [
    "sentence=input(\"enter any sentence: \")\n",
    "letters = 0\n",
    "digits = 0\n",
    "\n",
    "for char in sentence:\n",
    "    if char.isalpha():\n",
    "        letters += 1\n",
    "    elif char.isdigit():\n",
    "        digits += 1\n",
    "print(\"LETTERS\", letters)\n",
    "print(\"DIGITS\", digits)"
   ]
  },
  {
   "cell_type": "markdown",
   "id": "bae99f52",
   "metadata": {},
   "source": [
    "Question 6:\n",
    "    \n",
    "A website requires the users to input username and password to register. Write a program to\n",
    "check the validity of password input by users.\n",
    "Following are the criteria for checking the password:\n",
    "1. At least 1 letter between [a-z]\n",
    "2. At least 1 number between [0-9]\n",
    "1. At least 1 letter between [A-Z]\n",
    "3. At least 1 character from [$#@]\n",
    "4. Minimum length of transaction password: 6\n",
    "5. Maximum length of transaction password: 12\n",
    "Your program should accept a sequence of comma separated passwords and will check them\n",
    "according to the above criteria. Passwords that match the criteria are to be printed, each\n",
    "separated by a comma.\n",
    "Example\n",
    "If the following passwords are given as input to the program:\n",
    "ABd1234@1,a F1#,2w3E*,2We3345\n",
    "Then, the output of the program should be:\n",
    "ABd1234@1"
   ]
  },
  {
   "cell_type": "code",
   "execution_count": 6,
   "id": "081ddd43",
   "metadata": {},
   "outputs": [
    {
     "name": "stdout",
     "output_type": "stream",
     "text": [
      "Enter comma-separated passwords: ABd1234@1,a F1#,2w3E*,2We3345\n",
      "ABd1234@1\n"
     ]
    }
   ],
   "source": [
    "import re\n",
    "\n",
    "def check_password(password):\n",
    "    if len(password) < 6 or len(password) > 12:\n",
    "        return False\n",
    "    if not re.search(\"[a-z]\", password):\n",
    "        return False\n",
    "    if not re.search(\"[A-Z]\", password):\n",
    "        return False\n",
    "    if not re.search(\"[0-9]\", password):\n",
    "        return False\n",
    "    if not re.search(\"[$#@]\", password):\n",
    "        return False\n",
    "    return True\n",
    "\n",
    "passwords = input(\"Enter comma-separated passwords: \").split(\",\")\n",
    "valid_passwords = []\n",
    "\n",
    "for password in passwords:\n",
    "    if check_password(password):\n",
    "        valid_passwords.append(password)\n",
    "\n",
    "print(\",\".join(valid_passwords))\n"
   ]
  },
  {
   "cell_type": "code",
   "execution_count": null,
   "id": "3096ea6e",
   "metadata": {},
   "outputs": [],
   "source": []
  }
 ],
 "metadata": {
  "kernelspec": {
   "display_name": "Python 3 (ipykernel)",
   "language": "python",
   "name": "python3"
  },
  "language_info": {
   "codemirror_mode": {
    "name": "ipython",
    "version": 3
   },
   "file_extension": ".py",
   "mimetype": "text/x-python",
   "name": "python",
   "nbconvert_exporter": "python",
   "pygments_lexer": "ipython3",
   "version": "3.9.12"
  }
 },
 "nbformat": 4,
 "nbformat_minor": 5
}
