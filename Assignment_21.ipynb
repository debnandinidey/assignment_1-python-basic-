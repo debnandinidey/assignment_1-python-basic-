{
 "cells": [
  {
   "cell_type": "markdown",
   "id": "1112d9aa",
   "metadata": {},
   "source": [
    "1. Add the current date to the text file today.txt as a string."
   ]
  },
  {
   "cell_type": "code",
   "execution_count": 6,
   "id": "c3c4d77f",
   "metadata": {},
   "outputs": [],
   "source": [
    "from datetime import date\n",
    "current_date = date.today()\n",
    "with open('today.txt', 'a') as file:\n",
    "    file.write(str(current_date) + '\\n')\n"
   ]
  },
  {
   "cell_type": "markdown",
   "id": "808be5fc",
   "metadata": {},
   "source": [
    "2. Read the text file today.txt into the string today_string"
   ]
  },
  {
   "cell_type": "code",
   "execution_count": 7,
   "id": "cc869ff0",
   "metadata": {},
   "outputs": [],
   "source": [
    "with open(\"today.txt\", \"r\") as file:\n",
    "    today_string = file.read()\n"
   ]
  },
  {
   "cell_type": "code",
   "execution_count": 8,
   "id": "628a79ab",
   "metadata": {},
   "outputs": [
    {
     "data": {
      "text/plain": [
       "'2023-06-21\\n2023-06-21\\n'"
      ]
     },
     "execution_count": 8,
     "metadata": {},
     "output_type": "execute_result"
    }
   ],
   "source": [
    "today_string"
   ]
  },
  {
   "cell_type": "markdown",
   "id": "dba803ec",
   "metadata": {},
   "source": [
    "3. Parse the date from today_string."
   ]
  },
  {
   "cell_type": "code",
   "execution_count": 15,
   "id": "3113a353",
   "metadata": {},
   "outputs": [],
   "source": [
    "from datetime import datetime\n",
    "\n",
    "date_format = \"%Y-%m-%d\" \n",
    "date_list = today_string.strip().split('\\n')\n",
    "\n",
    "parsed_dates = []\n",
    "\n",
    "for date_str in date_list:\n",
    "    parsed_date = datetime.strptime(date_list[0].strip(), date_format).date()\n",
    "\n",
    "    parsed_dates.append(parsed_date)\n"
   ]
  },
  {
   "cell_type": "code",
   "execution_count": 16,
   "id": "60b01639",
   "metadata": {},
   "outputs": [
    {
     "data": {
      "text/plain": [
       "[datetime.date(2023, 6, 21), datetime.date(2023, 6, 21)]"
      ]
     },
     "execution_count": 16,
     "metadata": {},
     "output_type": "execute_result"
    }
   ],
   "source": [
    "parsed_dates"
   ]
  },
  {
   "cell_type": "markdown",
   "id": "2ae733f0",
   "metadata": {},
   "source": [
    "4. List the files in your current directory"
   ]
  },
  {
   "cell_type": "code",
   "execution_count": 17,
   "id": "4ff68a3f",
   "metadata": {},
   "outputs": [
    {
     "data": {
      "text/plain": [
       "['.anaconda',\n",
       " '.astropy',\n",
       " '.bash_history',\n",
       " '.bash_profile',\n",
       " '.cache',\n",
       " '.conda',\n",
       " '.condarc',\n",
       " '.continuum',\n",
       " '.git-for-windows-updater',\n",
       " '.gitconfig',\n",
       " '.idlerc',\n",
       " '.ipynb_checkpoints',\n",
       " '.ipython',\n",
       " '.jupyter',\n",
       " '.lesshst',\n",
       " '.matplotlib',\n",
       " '.python_history',\n",
       " '.ssh',\n",
       " '.vscode',\n",
       " '.vscode-cli',\n",
       " '15th oct, list.ipynb',\n",
       " '16th oct(tuples set).ipynb',\n",
       " '2.Formating _ Ankita Team(1)',\n",
       " 'airfoil task.ipynb',\n",
       " 'airfoil_self_noise.dat',\n",
       " 'anaconda3',\n",
       " 'AppData',\n",
       " 'Application Data',\n",
       " 'assignment _4.ipynb',\n",
       " 'assignment_1(python basic).ipynb',\n",
       " 'Assignment_10.ipynb',\n",
       " 'Assignment_11.ipynb',\n",
       " 'Assignment_12.ipynb',\n",
       " 'Assignment_13.ipynb',\n",
       " 'Assignment_14.ipynb',\n",
       " 'Assignment_15.ipynb',\n",
       " 'Assignment_16.ipynb',\n",
       " 'Assignment_17.ipynb',\n",
       " 'Assignment_18.ipynb',\n",
       " 'Assignment_19.ipynb',\n",
       " 'assignment_2(python basic).ipynb',\n",
       " 'assignment_20.ipynb',\n",
       " 'Assignment_21.ipynb',\n",
       " 'assignment_3.ipynb',\n",
       " 'assignment_5.ipynb',\n",
       " 'assignment_6.ipynb',\n",
       " 'Assignment_7.ipynb',\n",
       " 'Assignment_8.ipynb',\n",
       " 'Assignment_9.ipynb',\n",
       " 'axey.txt',\n",
       " 'bank-full.csv',\n",
       " 'bank.csv',\n",
       " 'beautifulsoup.ipynb',\n",
       " 'book recommender system.ipynb',\n",
       " 'book-recommender',\n",
       " 'Books.csv',\n",
       " 'books.db',\n",
       " 'books.pkl',\n",
       " 'car.csv',\n",
       " 'car.data',\n",
       " 'car.data.csv',\n",
       " 'car.names',\n",
       " 'car1.csv',\n",
       " 'class 1(24th sep).ipynb',\n",
       " 'class 2(25th october).ipynb',\n",
       " 'class_3(1st oct).ipynb',\n",
       " 'Contacts',\n",
       " 'control flow statement(9th oct).ipynb',\n",
       " 'Cookies',\n",
       " 'credit card default detection project.ipynb',\n",
       " 'cricket.csv',\n",
       " 'data.txt',\n",
       " 'Data_Train.xlsx',\n",
       " 'decision tree examples.ipynb',\n",
       " 'Documents',\n",
       " 'Downloads',\n",
       " 'EDA practise.ipynb',\n",
       " 'error5.txt',\n",
       " 'error6.txt',\n",
       " 'Favorites',\n",
       " 'file handling(4th dec).ipynb',\n",
       " 'file-sample_100kB.docx',\n",
       " 'FlightPrediction.ipynb',\n",
       " 'for loop.ipynb',\n",
       " 'Function 29th oct.ipynb',\n",
       " 'function 30th oct practice FSDS_2.0.ipynb',\n",
       " 'functions class 1 and 2(29th and 30th).ipynb',\n",
       " 'functions class 3.ipynb',\n",
       " 'glass (1).data',\n",
       " 'GUI prog class1.ipynb',\n",
       " 'hello.docx',\n",
       " 'IntelGraphicsProfiles',\n",
       " 'iterator and generator(my).ipynb',\n",
       " 'json_res.csv',\n",
       " 'kevin-crosby-NBwwEsTFgJU-unsplash.jpg',\n",
       " 'linear regression.ipynb',\n",
       " 'Links',\n",
       " 'Live_Class_implementation.ipynb',\n",
       " 'Local Settings',\n",
       " 'location.ipynb',\n",
       " 'logging.ipynb',\n",
       " 'logistic regression.ipynb',\n",
       " 'Microsoft',\n",
       " 'model1.pkl',\n",
       " 'model2.pkl',\n",
       " 'module1.py',\n",
       " 'modules and packages.ipynb',\n",
       " 'Music',\n",
       " 'My Documents',\n",
       " 'nba.csv',\n",
       " 'NetHood',\n",
       " 'new2.py',\n",
       " 'NTUSER.DAT',\n",
       " 'ntuser.dat.LOG1',\n",
       " 'ntuser.dat.LOG2',\n",
       " 'NTUSER.DAT{ef8bf685-b66b-11ed-adb7-d5a82270ed77}.TM.blf',\n",
       " 'NTUSER.DAT{ef8bf685-b66b-11ed-adb7-d5a82270ed77}.TMContainer00000000000000000001.regtrans-ms',\n",
       " 'NTUSER.DAT{ef8bf685-b66b-11ed-adb7-d5a82270ed77}.TMContainer00000000000000000002.regtrans-ms',\n",
       " 'ntuser.ini',\n",
       " 'numpy class 1 (me).ipynb',\n",
       " 'numpy class2.ipynb',\n",
       " 'numpy some extra topics.ipynb',\n",
       " 'OneDrive',\n",
       " 'Optiveriance.xlsx',\n",
       " 'pandas class 1(me).ipynb',\n",
       " 'pandas class 2(me).ipynb',\n",
       " 'pandas class 3(me).ipynb',\n",
       " 'pandas class 4(me).ipynb',\n",
       " 'past paper',\n",
       " 'past paper.doc',\n",
       " 'pdf text extraction.ipynb',\n",
       " 'perrin-freres-monthly-champagne-.csv',\n",
       " 'ph-sales',\n",
       " 'PH-Sales.csv',\n",
       " 'pivot.pkl',\n",
       " 'place.xlsx',\n",
       " 'place1.xlsx',\n",
       " 'place2.xlsx',\n",
       " 'place3.xlsx',\n",
       " 'place4.xlsx',\n",
       " 'popularity.pkl',\n",
       " 'Postman',\n",
       " 'Postman Agent',\n",
       " 'practice 1.ipynb',\n",
       " 'PrintHood',\n",
       " 'project1(credit card default detection)',\n",
       " 'project2(restaurant rating)',\n",
       " 'pythonProject(credit1)',\n",
       " 'question solve(19th nov).ipynb',\n",
       " 'Ratings.csv',\n",
       " 'Recent',\n",
       " 'restaurant rating prediction.ipynb',\n",
       " 'resume1.docx',\n",
       " 'resume2.docx',\n",
       " 'resume3.pdf',\n",
       " 'resume4.pdf',\n",
       " 'Saved Games',\n",
       " 'seaborn-data',\n",
       " 'Searches',\n",
       " 'SendTo',\n",
       " 'sesy.txt',\n",
       " 'similarity_scores.pkl',\n",
       " 'spencer.csv',\n",
       " 'spencer.xlsx',\n",
       " 'spencer1.xlsx',\n",
       " 'spencers sales analysis.ipynb',\n",
       " 'sql part 1.ipynb',\n",
       " 'sql part 2.ipynb',\n",
       " 'sql part 3.ipynb',\n",
       " 'sql(creating table,database).ipynb',\n",
       " 'Start Menu',\n",
       " 'stat class 2.ipynb',\n",
       " 'stat day 4, covariance.ipynb',\n",
       " 'string methods(8th oct).ipynb',\n",
       " 'SVM Kernelss Implementation.ipynb',\n",
       " 'Templates',\n",
       " 'test.csv',\n",
       " 'test.txt',\n",
       " 'test1.log',\n",
       " 'test2.log',\n",
       " 'testimportcar.csv',\n",
       " 'testworld',\n",
       " 'Test_set.xlsx',\n",
       " 'Time series(Sales data).ipynb',\n",
       " 'today.txt',\n",
       " 'train.csv',\n",
       " 'transaction.csv',\n",
       " 'transaction.xlsx',\n",
       " 'UCI_Credit_Card.csv',\n",
       " 'Untitled Folder',\n",
       " 'Untitled.ipynb',\n",
       " 'untitled.txt',\n",
       " 'Untitled1.ipynb',\n",
       " 'Untitled10.ipynb',\n",
       " 'Untitled11.ipynb',\n",
       " 'Untitled12.ipynb',\n",
       " 'Untitled13.ipynb',\n",
       " 'Untitled14.ipynb',\n",
       " 'Untitled15.ipynb',\n",
       " 'Untitled16.ipynb',\n",
       " 'Untitled2.ipynb',\n",
       " 'Untitled3.ipynb',\n",
       " 'Untitled4.ipynb',\n",
       " 'Untitled5.ipynb',\n",
       " 'Untitled6.ipynb',\n",
       " 'Untitled7.ipynb',\n",
       " 'Untitled8.ipynb',\n",
       " 'Untitled9.ipynb',\n",
       " 'Users.csv',\n",
       " 'Videos',\n",
       " 'while loop.ipynb',\n",
       " 'writers info.xlsx',\n",
       " 'zomato.csv',\n",
       " 'zoo.py',\n",
       " '__pycache__']"
      ]
     },
     "execution_count": 17,
     "metadata": {},
     "output_type": "execute_result"
    }
   ],
   "source": [
    "import os\n",
    "os.listdir('.')"
   ]
  },
  {
   "cell_type": "markdown",
   "id": "e35b94f7",
   "metadata": {},
   "source": [
    "5. Create a list of all of the files in your parent directory (minimum five files should be available)."
   ]
  },
  {
   "cell_type": "code",
   "execution_count": 19,
   "id": "297077b1",
   "metadata": {},
   "outputs": [
    {
     "name": "stdout",
     "output_type": "stream",
     "text": [
      "All Users\n",
      "Default\n",
      "Default User\n",
      "desktop.ini\n",
      "Nandini\n",
      "Public\n"
     ]
    }
   ],
   "source": [
    "import os\n",
    "parent_directory = os.path.abspath('..')  \n",
    "file_list = os.listdir(parent_directory)\n",
    "for file_name in file_list:\n",
    "    print(file_name)\n"
   ]
  },
  {
   "cell_type": "markdown",
   "id": "9bda900f",
   "metadata": {},
   "source": [
    "6. Use multiprocessing to create three separate processes. Make each one wait a random number of\n",
    "seconds between one and five, print the current time, and then exit."
   ]
  },
  {
   "cell_type": "code",
   "execution_count": 20,
   "id": "1299412f",
   "metadata": {},
   "outputs": [],
   "source": [
    "import multiprocessing\n",
    "import time\n",
    "import random\n",
    "from datetime import datetime\n",
    "\n",
    "def worker():\n",
    "    wait_time = random.randint(1, 5)  \n",
    "    time.sleep(wait_time)\n",
    "    current_time = datetime.now().strftime(\"%Y-%m-%d %H:%M:%S\")  \n",
    "    print(f\"Process {multiprocessing.current_process().name} waited {wait_time} seconds. Current time: {current_time}\")\n",
    "\n",
    "if __name__ == '__main__':\n",
    "    processes = []\n",
    "    \n",
    "    #separate processes\n",
    "    for i in range(3):\n",
    "        p = multiprocessing.Process(target=worker)\n",
    "        processes.append(p)\n",
    "        p.start()\n",
    "\n",
    "    \n",
    "    for p in processes:\n",
    "        p.join()\n"
   ]
  },
  {
   "cell_type": "code",
   "execution_count": 21,
   "id": "57434b10",
   "metadata": {},
   "outputs": [
    {
     "data": {
      "text/plain": [
       "[<Process name='Process-1' pid=9568 parent=16864 stopped exitcode=1>,\n",
       " <Process name='Process-2' pid=24564 parent=16864 stopped exitcode=1>,\n",
       " <Process name='Process-3' pid=12160 parent=16864 stopped exitcode=1>]"
      ]
     },
     "execution_count": 21,
     "metadata": {},
     "output_type": "execute_result"
    }
   ],
   "source": [
    "processes"
   ]
  },
  {
   "cell_type": "markdown",
   "id": "d0bc128d",
   "metadata": {},
   "source": [
    "7. Create a date object of your day of birth."
   ]
  },
  {
   "cell_type": "code",
   "execution_count": 23,
   "id": "00ea100c",
   "metadata": {},
   "outputs": [],
   "source": [
    "from datetime import date\n",
    "\n",
    "birth_date = date(1995, 7, 2)\n"
   ]
  },
  {
   "cell_type": "markdown",
   "id": "ea2b8c43",
   "metadata": {},
   "source": [
    "8. What day of the week was your day of birth?"
   ]
  },
  {
   "cell_type": "code",
   "execution_count": 25,
   "id": "7638df14",
   "metadata": {},
   "outputs": [
    {
     "data": {
      "text/plain": [
       "'Sunday'"
      ]
     },
     "execution_count": 25,
     "metadata": {},
     "output_type": "execute_result"
    }
   ],
   "source": [
    "from datetime import datetime\n",
    "birth_date = date(1995,7,2)\n",
    "birth_date.strftime(\"%A\")"
   ]
  },
  {
   "cell_type": "markdown",
   "id": "e285cb78",
   "metadata": {},
   "source": [
    "9. When will you be (or when were you) 10,000 days old?"
   ]
  },
  {
   "cell_type": "code",
   "execution_count": 27,
   "id": "15154955",
   "metadata": {},
   "outputs": [
    {
     "data": {
      "text/plain": [
       "datetime.datetime(1968, 2, 14, 0, 0)"
      ]
     },
     "execution_count": 27,
     "metadata": {},
     "output_type": "execute_result"
    }
   ],
   "source": [
    "from datetime import datetime, timedelta\n",
    "birth_date = datetime.strptime(\"02/07/1995\",'%d/%m/%Y')\n",
    "future_date = birth_date-timedelta(10000)\n",
    "future_date"
   ]
  },
  {
   "cell_type": "code",
   "execution_count": null,
   "id": "a1315d8a",
   "metadata": {},
   "outputs": [],
   "source": []
  }
 ],
 "metadata": {
  "kernelspec": {
   "display_name": "Python 3 (ipykernel)",
   "language": "python",
   "name": "python3"
  },
  "language_info": {
   "codemirror_mode": {
    "name": "ipython",
    "version": 3
   },
   "file_extension": ".py",
   "mimetype": "text/x-python",
   "name": "python",
   "nbconvert_exporter": "python",
   "pygments_lexer": "ipython3",
   "version": "3.9.12"
  }
 },
 "nbformat": 4,
 "nbformat_minor": 5
}
