{
 "cells": [
  {
   "cell_type": "markdown",
   "id": "f56bce69",
   "metadata": {},
   "source": [
    "1. Write a Python program to find sum of elements in list?"
   ]
  },
  {
   "cell_type": "code",
   "execution_count": 5,
   "id": "ed42b478",
   "metadata": {},
   "outputs": [
    {
     "name": "stdout",
     "output_type": "stream",
     "text": [
      "Sum of elements: 15\n"
     ]
    }
   ],
   "source": [
    "def sum(list):\n",
    "    total=0\n",
    "    for num in list:\n",
    "        total+=num\n",
    "    return total\n",
    "numbers=[1,2,3,4,5]\n",
    "result = sum(numbers)\n",
    "print(\"Sum of elements:\", result)"
   ]
  },
  {
   "cell_type": "markdown",
   "id": "2ea8564e",
   "metadata": {},
   "source": [
    "2. Write a Python program to Multiply all numbers in the list?"
   ]
  },
  {
   "cell_type": "code",
   "execution_count": 6,
   "id": "96177c45",
   "metadata": {},
   "outputs": [
    {
     "name": "stdout",
     "output_type": "stream",
     "text": [
      "multiplication of elements: 120\n"
     ]
    }
   ],
   "source": [
    "def multiply(list):\n",
    "    total=1\n",
    "    for num in list:\n",
    "        total*=num\n",
    "    return total\n",
    "numbers=[1,2,3,4,5]\n",
    "result = multiply(numbers)\n",
    "print(\"multiplication of elements:\", result)"
   ]
  },
  {
   "cell_type": "markdown",
   "id": "bb6087f5",
   "metadata": {},
   "source": [
    "3. Write a Python program to find smallest number in a list?"
   ]
  },
  {
   "cell_type": "code",
   "execution_count": 7,
   "id": "fa91d605",
   "metadata": {},
   "outputs": [
    {
     "name": "stdout",
     "output_type": "stream",
     "text": [
      "Smallest number: 1\n"
     ]
    }
   ],
   "source": [
    "def find_smallest(numbers):\n",
    "    if len(numbers) == 0:\n",
    "        return None\n",
    "    smallest = numbers[0]\n",
    "    for num in numbers:\n",
    "        if num < smallest:\n",
    "            smallest = num\n",
    "    return smallest\n",
    "\n",
    "numbers = [4, 2, 9, 1, 7]\n",
    "smallest_number = find_smallest(numbers)\n",
    "print(\"Smallest number:\", smallest_number)\n"
   ]
  },
  {
   "cell_type": "markdown",
   "id": "2002762f",
   "metadata": {},
   "source": [
    "4. Write a Python program to find largest number in a list?"
   ]
  },
  {
   "cell_type": "code",
   "execution_count": 10,
   "id": "6c32714b",
   "metadata": {},
   "outputs": [
    {
     "name": "stdout",
     "output_type": "stream",
     "text": [
      "Largest number: 88\n"
     ]
    }
   ],
   "source": [
    "def find_largest(numbers):\n",
    "    if len(numbers) == 0:\n",
    "        return None\n",
    "    largest = numbers[0]\n",
    "    for num in numbers:\n",
    "        if num > largest:\n",
    "            largest = num\n",
    "    return largest\n",
    "\n",
    "numbers = [4, 78, 88, 1, 7]\n",
    "largest_number = find_largest(numbers)\n",
    "print(\"Largest number:\", largest_number)\n"
   ]
  },
  {
   "cell_type": "markdown",
   "id": "5cb4be90",
   "metadata": {},
   "source": [
    "5. Write a Python program to find second largest number in a list?"
   ]
  },
  {
   "cell_type": "code",
   "execution_count": 12,
   "id": "230d214a",
   "metadata": {},
   "outputs": [
    {
     "name": "stdout",
     "output_type": "stream",
     "text": [
      "Second largest number: 21\n"
     ]
    }
   ],
   "source": [
    "def find_secondlargest(numbers):\n",
    "    if len(numbers) < 2:\n",
    "        return None\n",
    "    sorted_numbers = sorted(numbers, reverse=True)\n",
    "    return sorted_numbers[1]\n",
    "\n",
    "numbers = [9, 21, 33, 12, 7]\n",
    "second_largest_number = find_secondlargest(numbers)\n",
    "print(\"Second largest number:\", second_largest_number)\n"
   ]
  },
  {
   "cell_type": "markdown",
   "id": "9e7394d6",
   "metadata": {},
   "source": [
    "6. Write a Python program to find N largest elements from a list?"
   ]
  },
  {
   "cell_type": "code",
   "execution_count": 15,
   "id": "686ec9df",
   "metadata": {},
   "outputs": [
    {
     "name": "stdout",
     "output_type": "stream",
     "text": [
      "2 largest elements: [89, 45]\n"
     ]
    }
   ],
   "source": [
    "import heapq\n",
    "\n",
    "def find_n_largest(numbers, n):\n",
    "    return heapq.nlargest(n, numbers)\n",
    "\n",
    "numbers = [9, 2, 7, 41,23,45,89, 5]\n",
    "n = 2\n",
    "n_largest_elements = find_n_largest(numbers, n)\n",
    "print(f\"{n} largest elements:\", n_largest_elements)\n"
   ]
  },
  {
   "cell_type": "markdown",
   "id": "5e1216ec",
   "metadata": {},
   "source": [
    "7. Write a Python program to print even numbers in a list?"
   ]
  },
  {
   "cell_type": "code",
   "execution_count": 22,
   "id": "687f44ac",
   "metadata": {},
   "outputs": [
    {
     "name": "stdout",
     "output_type": "stream",
     "text": [
      "Enter a list of numbers (comma-separated): 1,2,3,5,6,8\n",
      "Even numbers: [2, 6, 8]\n"
     ]
    }
   ],
   "source": [
    "def even_numbers(numbers):\n",
    "    even_numbers = [num for num in numbers if num % 2 == 0]\n",
    "    print(\"Even numbers:\", even_numbers)\n",
    "\n",
    "input_str = input(\"Enter a list of numbers (comma-separated): \")\n",
    "numbers = [int(num) for num in input_str.split(\",\")]\n",
    "even_numbers(numbers)\n"
   ]
  },
  {
   "cell_type": "markdown",
   "id": "a8302b1a",
   "metadata": {},
   "source": [
    "8. Write a Python program to print odd numbers in a List?"
   ]
  },
  {
   "cell_type": "code",
   "execution_count": 23,
   "id": "a177cb54",
   "metadata": {},
   "outputs": [
    {
     "name": "stdout",
     "output_type": "stream",
     "text": [
      "Odd numbers: [1, 3, 5, 7, 9]\n"
     ]
    }
   ],
   "source": [
    "def odd_numbers(numbers):\n",
    "    odd_numbers = [num for num in numbers if num % 2 != 0]\n",
    "    print(\"Odd numbers:\", odd_numbers)\n",
    "\n",
    "numbers = [1, 2, 3, 4, 5, 6, 7, 8, 9, 10]\n",
    "odd_numbers(numbers)\n"
   ]
  },
  {
   "cell_type": "markdown",
   "id": "aeb7977f",
   "metadata": {},
   "source": [
    "9. Write a Python program to Remove empty List from List?"
   ]
  },
  {
   "cell_type": "code",
   "execution_count": 24,
   "id": "283096e0",
   "metadata": {},
   "outputs": [
    {
     "name": "stdout",
     "output_type": "stream",
     "text": [
      "Updated list: [1, 2, 3, 4, 5, [6, 7]]\n"
     ]
    }
   ],
   "source": [
    "def remove_empty_lists(lst):\n",
    "    result = [sublist for sublist in lst if sublist]\n",
    "    return result\n",
    "\n",
    "my_list = [1, 2, [], 3, [], 4, 5, [], [6, 7], []]\n",
    "updated_list = remove_empty_lists(my_list)\n",
    "print(\"Updated list:\", updated_list)\n"
   ]
  },
  {
   "cell_type": "markdown",
   "id": "08f7d834",
   "metadata": {},
   "source": [
    "10. Write a Python program to Cloning or Copying a list?"
   ]
  },
  {
   "cell_type": "code",
   "execution_count": 25,
   "id": "84c37e93",
   "metadata": {},
   "outputs": [
    {
     "name": "stdout",
     "output_type": "stream",
     "text": [
      "Original List: [1, 2, 3, 4, 5]\n",
      "Cloned List: [1, 2, 3, 4, 5]\n"
     ]
    }
   ],
   "source": [
    "original_list = [1, 2, 3, 4, 5]\n",
    "cloned_list = list(original_list)\n",
    "print(\"Original List:\", original_list)\n",
    "print(\"Cloned List:\", cloned_list)\n"
   ]
  },
  {
   "cell_type": "markdown",
   "id": "708fa8eb",
   "metadata": {},
   "source": [
    "11. Write a Python program to Count occurrences of an element in a list?"
   ]
  },
  {
   "cell_type": "code",
   "execution_count": 26,
   "id": "ed814410",
   "metadata": {},
   "outputs": [
    {
     "name": "stdout",
     "output_type": "stream",
     "text": [
      "Count of 2 in the list: 4\n"
     ]
    }
   ],
   "source": [
    "my_list = [1, 2, 3, 2, 4, 2, 5, 2]\n",
    "element = 2\n",
    "count = my_list.count(element)\n",
    "print(\"Count of\", element, \"in the list:\", count)\n"
   ]
  },
  {
   "cell_type": "code",
   "execution_count": null,
   "id": "69eb17f8",
   "metadata": {},
   "outputs": [],
   "source": []
  }
 ],
 "metadata": {
  "kernelspec": {
   "display_name": "Python 3 (ipykernel)",
   "language": "python",
   "name": "python3"
  },
  "language_info": {
   "codemirror_mode": {
    "name": "ipython",
    "version": 3
   },
   "file_extension": ".py",
   "mimetype": "text/x-python",
   "name": "python",
   "nbconvert_exporter": "python",
   "pygments_lexer": "ipython3",
   "version": "3.9.12"
  }
 },
 "nbformat": 4,
 "nbformat_minor": 5
}
