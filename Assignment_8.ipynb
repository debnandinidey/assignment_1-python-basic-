{
 "cells": [
  {
   "cell_type": "markdown",
   "id": "2549039b",
   "metadata": {},
   "source": [
    "1. Is the Python Standard Library included with PyInputPlus?"
   ]
  },
  {
   "cell_type": "markdown",
   "id": "f39a3e91",
   "metadata": {},
   "source": [
    "answer: No, the Python Standard Library is not included with PyInputPlus. PyInputPlus is a separate library "
   ]
  },
  {
   "cell_type": "markdown",
   "id": "c74e75f0",
   "metadata": {},
   "source": [
    "2. Why is PyInputPlus commonly imported with import pyinputplus as pypi?"
   ]
  },
  {
   "cell_type": "markdown",
   "id": "547af28d",
   "metadata": {},
   "source": [
    "answer: The 'as pypi' code in the import statement saves us from typing pyinputplus each time we want to call a PyInputPlus function.making it easier to read and write."
   ]
  },
  {
   "cell_type": "markdown",
   "id": "b6ec6483",
   "metadata": {},
   "source": [
    "3. How do you distinguish between inputInt() and inputFloat()?"
   ]
  },
  {
   "cell_type": "markdown",
   "id": "e901cd42",
   "metadata": {},
   "source": [
    "inputInt() function Accepts an integer value. This also takes additional parameters min, max, greaterThan and lessThan for bounds. And it always returns an int.\n",
    "\n",
    "\n",
    "Whereas inputFloat() function Accepts a floating-point numeric value. this also takes additional min, max, greaterThan and lessThan parameters. and always returns a float."
   ]
  },
  {
   "cell_type": "markdown",
   "id": "ad380102",
   "metadata": {},
   "source": [
    "4. Using PyInputPlus, how do you ensure that the user enters a whole number between 0 and 99?"
   ]
  },
  {
   "cell_type": "code",
   "execution_count": 3,
   "id": "00098f96",
   "metadata": {},
   "outputs": [
    {
     "name": "stdout",
     "output_type": "stream",
     "text": [
      "Enter a number between 0 and 99: 2\n",
      "You entered: 2\n"
     ]
    }
   ],
   "source": [
    "import pyinputplus as pypi\n",
    "\n",
    "wholenumber = pypi.inputInt(prompt=\"Enter a number between 0 and 99: \", min=0, max=99)\n",
    "print(\"You entered:\", number)\n"
   ]
  },
  {
   "cell_type": "markdown",
   "id": "3ad038d6",
   "metadata": {},
   "source": [
    "5. What is transferred to the keyword arguments allowRegexes and blockRegexes?"
   ]
  },
  {
   "cell_type": "markdown",
   "id": "da019207",
   "metadata": {},
   "source": [
    "answer:The allowRegexes and blockRegexes keyword arguments take a list of regular expression strings to determine what the PyInputPlus function will accept or reject as valid input."
   ]
  },
  {
   "cell_type": "markdown",
   "id": "03518aa5",
   "metadata": {},
   "source": [
    "6. If a blank input is entered three times, what does inputStr(limit=3) do?"
   ]
  },
  {
   "cell_type": "code",
   "execution_count": 4,
   "id": "b273eae9",
   "metadata": {},
   "outputs": [
    {
     "name": "stdout",
     "output_type": "stream",
     "text": [
      "Enter a non-blank string: \n",
      "Blank values are not allowed.\n",
      "Enter a non-blank string: 1\n",
      "You entered: 1\n"
     ]
    }
   ],
   "source": [
    "import pyinputplus as pypi\n",
    "\n",
    "input_str = pypi.inputStr(prompt=\"Enter a non-blank string: \", limit=3)\n",
    "print(\"You entered:\", input_str)\n"
   ]
  },
  {
   "cell_type": "markdown",
   "id": "d542bd48",
   "metadata": {},
   "source": [
    "answer: If a blank input is entered three times while using inputStr(limit=3), the function will raise a pyinputplus.RetryLimitException indicating that the maximum number of retries or attempts has been reached."
   ]
  },
  {
   "cell_type": "markdown",
   "id": "0c948599",
   "metadata": {},
   "source": [
    "7. If blank input is entered three times, what does inputStr(limit=3, default=&#39;hello&#39;) do?"
   ]
  },
  {
   "cell_type": "markdown",
   "id": "b5eb25ba",
   "metadata": {},
   "source": [
    "answer:If a blank input is entered three times while using inputStr(limit=3, default='hello'), the function will return the default value 'hello' instead of raising a pyinputplus.RetryLimitException."
   ]
  },
  {
   "cell_type": "code",
   "execution_count": null,
   "id": "9473758c",
   "metadata": {},
   "outputs": [],
   "source": []
  }
 ],
 "metadata": {
  "kernelspec": {
   "display_name": "Python 3 (ipykernel)",
   "language": "python",
   "name": "python3"
  },
  "language_info": {
   "codemirror_mode": {
    "name": "ipython",
    "version": 3
   },
   "file_extension": ".py",
   "mimetype": "text/x-python",
   "name": "python",
   "nbconvert_exporter": "python",
   "pygments_lexer": "ipython3",
   "version": "3.9.12"
  }
 },
 "nbformat": 4,
 "nbformat_minor": 5
}
