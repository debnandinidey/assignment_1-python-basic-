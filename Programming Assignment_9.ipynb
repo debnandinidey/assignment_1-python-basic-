{
 "cells": [
  {
   "cell_type": "markdown",
   "id": "bee948cc",
   "metadata": {},
   "source": [
    "1. Write a Python program to check if the given number is a Disarium Number?"
   ]
  },
  {
   "cell_type": "code",
   "execution_count": 2,
   "id": "00cadd8b",
   "metadata": {},
   "outputs": [
    {
     "name": "stdout",
     "output_type": "stream",
     "text": [
      "156 is not a Disarium Number\n"
     ]
    }
   ],
   "source": [
    "def is_disarium(number):\n",
    "    num_str = str(number)\n",
    "\n",
    "    digit_sum = sum(int(digit) ** (index + 1) for index, digit in enumerate(num_str))\n",
    "    if digit_sum == number:\n",
    "        return True\n",
    "    else:\n",
    "        return False\n",
    "\n",
    "# Test the function\n",
    "num = 156\n",
    "if is_disarium(num):\n",
    "    print(num, \"is a Disarium Number\")\n",
    "else:\n",
    "    print(num, \"is not a Disarium Number\")\n"
   ]
  },
  {
   "cell_type": "markdown",
   "id": "46c8f021",
   "metadata": {},
   "source": [
    "2. Write a Python program to print all disarium numbers between 1 to 100?"
   ]
  },
  {
   "cell_type": "code",
   "execution_count": 4,
   "id": "a4f2c8a9",
   "metadata": {},
   "outputs": [
    {
     "name": "stdout",
     "output_type": "stream",
     "text": [
      "1 2 3 4 5 6 7 8 9 89 "
     ]
    }
   ],
   "source": [
    "def is_disarium(number):\n",
    "    num_str = str(number)\n",
    "\n",
    "    digit_sum = sum(int(digit) ** (index + 1) for index, digit in enumerate(num_str))\n",
    "    if digit_sum == number:\n",
    "        return True\n",
    "    else:\n",
    "        return False\n",
    "\n",
    "# Test the function\n",
    "for num in range(1,100):\n",
    "    if is_disarium(num):\n",
    "        print(num, end=\" \")\n",
    "\n"
   ]
  },
  {
   "cell_type": "markdown",
   "id": "d0978db3",
   "metadata": {},
   "source": [
    "3. Write a Python program to check if the given number is Happy Number?"
   ]
  },
  {
   "cell_type": "code",
   "execution_count": 6,
   "id": "b076842e",
   "metadata": {},
   "outputs": [
    {
     "name": "stdout",
     "output_type": "stream",
     "text": [
      "Enter a number: 40\n",
      "40 is not a Happy Number\n"
     ]
    }
   ],
   "source": [
    "def happy_number(num):\n",
    "    visited = set()\n",
    "    while num != 1:\n",
    "        num = sum(int(digit) ** 2 for digit in str(num))\n",
    "\n",
    "        # If the number is already visited, it is not a happy number\n",
    "        if num in visited:\n",
    "            return False\n",
    "        visited.add(num)\n",
    "\n",
    "    # If the number becomes 1, it is a happy number\n",
    "    return True\n",
    "\n",
    "\n",
    "# Test the function\n",
    "num = int(input(\"Enter a number: \"))\n",
    "if happy_number(num):\n",
    "    print(num, \"is a Happy Number\")\n",
    "else:\n",
    "    print(num, \"is not a Happy Number\")\n"
   ]
  },
  {
   "cell_type": "markdown",
   "id": "a5121b0d",
   "metadata": {},
   "source": [
    "4. Write a Python program to print all happy numbers between 1 and 100?"
   ]
  },
  {
   "cell_type": "code",
   "execution_count": 9,
   "id": "e2de35a0",
   "metadata": {},
   "outputs": [
    {
     "name": "stdout",
     "output_type": "stream",
     "text": [
      "1 7 10 13 19 23 28 31 32 44 49 68 70 79 82 86 91 94 97 "
     ]
    }
   ],
   "source": [
    "def happy_number(num):\n",
    "    visited = set()\n",
    "    while num != 1:\n",
    "        num = sum(int(digit) ** 2 for digit in str(num))\n",
    "\n",
    "        # If the number is already visited, it is not a happy number\n",
    "        if num in visited:\n",
    "            return False\n",
    "        visited.add(num)\n",
    "\n",
    "    # If the number becomes 1, it is a happy number\n",
    "    return True\n",
    "\n",
    "\n",
    "# Test the function\n",
    "for num in range(1,100):\n",
    "    if happy_number(num):\n",
    "        print(num, end=\" \")"
   ]
  },
  {
   "cell_type": "markdown",
   "id": "3691440e",
   "metadata": {},
   "source": [
    "5. Write a Python program to determine whether the given number is a Harshad Number?"
   ]
  },
  {
   "cell_type": "code",
   "execution_count": 11,
   "id": "00d46602",
   "metadata": {},
   "outputs": [
    {
     "name": "stdout",
     "output_type": "stream",
     "text": [
      "Enter a number: 50\n",
      "50 is a Harshad Number\n"
     ]
    }
   ],
   "source": [
    "def harshad_number(num):\n",
    "    sum_of_digits = sum(int(digit) for digit in str(num))\n",
    "    return num % sum_of_digits == 0\n",
    "\n",
    "\n",
    "# Test the function\n",
    "num = int(input(\"Enter a number: \"))\n",
    "if harshad_number(num):\n",
    "    print(num, \"is a Harshad Number\")\n",
    "else:\n",
    "    print(num, \"is not a Harshad Number\")\n"
   ]
  },
  {
   "cell_type": "markdown",
   "id": "10fbd88e",
   "metadata": {},
   "source": [
    "6. Write a Python program to print all pronic numbers between 1 and 100?"
   ]
  },
  {
   "cell_type": "code",
   "execution_count": 13,
   "id": "e569924d",
   "metadata": {},
   "outputs": [
    {
     "name": "stdout",
     "output_type": "stream",
     "text": [
      "Pronic numbers between 1 and 100:\n",
      "2\n",
      "6\n",
      "12\n",
      "20\n",
      "30\n",
      "42\n",
      "56\n",
      "72\n",
      "90\n"
     ]
    }
   ],
   "source": [
    "def pronic_number(num):\n",
    "    sqrt = int(num ** 0.5)\n",
    "    return sqrt * (sqrt + 1) == num\n",
    "\n",
    "print(\"Pronic numbers between 1 and 100:\")\n",
    "for num in range(1, 101):\n",
    "    if pronic_number(num):\n",
    "        print(num)\n"
   ]
  },
  {
   "cell_type": "code",
   "execution_count": null,
   "id": "e035c697",
   "metadata": {},
   "outputs": [],
   "source": []
  }
 ],
 "metadata": {
  "kernelspec": {
   "display_name": "Python 3 (ipykernel)",
   "language": "python",
   "name": "python3"
  },
  "language_info": {
   "codemirror_mode": {
    "name": "ipython",
    "version": 3
   },
   "file_extension": ".py",
   "mimetype": "text/x-python",
   "name": "python",
   "nbconvert_exporter": "python",
   "pygments_lexer": "ipython3",
   "version": "3.9.12"
  }
 },
 "nbformat": 4,
 "nbformat_minor": 5
}
