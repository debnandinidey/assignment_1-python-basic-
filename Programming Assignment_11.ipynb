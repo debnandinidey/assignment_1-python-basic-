{
 "cells": [
  {
   "cell_type": "markdown",
   "id": "2cdda242",
   "metadata": {},
   "source": [
    "1. Write a Python program to find words which are greater than given length k?"
   ]
  },
  {
   "cell_type": "code",
   "execution_count": 1,
   "id": "eef0f040",
   "metadata": {},
   "outputs": [
    {
     "name": "stdout",
     "output_type": "stream",
     "text": [
      "Words greater than length 5 are: ['nandini,', 'maheshtala', 'dakghar']\n"
     ]
    }
   ],
   "source": [
    "def words_greater(text, k):\n",
    "    words = text.split()\n",
    "    result = []\n",
    "    for word in words:\n",
    "        if len(word) > k:\n",
    "            result.append(word)\n",
    "    return result\n",
    "\n",
    "text = \"my name nandini, i live in maheshtala dakghar\"\n",
    "k = 5\n",
    "words_greater_than_k = words_greater(text, k)\n",
    "print(\"Words greater than length\", k, \"are:\", words_greater_than_k)\n"
   ]
  },
  {
   "cell_type": "markdown",
   "id": "bf92d440",
   "metadata": {},
   "source": [
    "2. Write a Python program for removing i-th character from a string?"
   ]
  },
  {
   "cell_type": "code",
   "execution_count": 3,
   "id": "31d042d8",
   "metadata": {},
   "outputs": [
    {
     "name": "stdout",
     "output_type": "stream",
     "text": [
      "Updated string: nadini\n"
     ]
    }
   ],
   "source": [
    "def remove_character(string, i):\n",
    "    if i < 0 or i >= len(string):\n",
    "        return string\n",
    "    return string[:i] + string[i+1:]\n",
    "\n",
    "text = \"nandini\"\n",
    "i = 2\n",
    "updated_text = remove_character(text, i)\n",
    "print(\"Updated string:\", updated_text)\n"
   ]
  },
  {
   "cell_type": "markdown",
   "id": "0e6f277f",
   "metadata": {},
   "source": [
    "3. Write a Python program to split and join a string?"
   ]
  },
  {
   "cell_type": "code",
   "execution_count": 4,
   "id": "9dfc38e1",
   "metadata": {},
   "outputs": [
    {
     "name": "stdout",
     "output_type": "stream",
     "text": [
      "Split and joined string: Hello,World,Python\n"
     ]
    }
   ],
   "source": [
    "def split_and_join(string, delimiter):\n",
    "    split_list = string.split(delimiter)\n",
    "\n",
    "    joined_string = delimiter.join(split_list)\n",
    "    \n",
    "    return joined_string\n",
    "\n",
    "text = \"Hello,World,Python\"\n",
    "delimiter = \",\"\n",
    "split_and_joined_text = split_and_join(text, delimiter)\n",
    "print(\"Split and joined string:\", split_and_joined_text)\n"
   ]
  },
  {
   "cell_type": "markdown",
   "id": "91ed6629",
   "metadata": {},
   "source": [
    "4. Write a Python to check if a given string is binary string or not?"
   ]
  },
  {
   "cell_type": "code",
   "execution_count": 5,
   "id": "6a011872",
   "metadata": {},
   "outputs": [
    {
     "name": "stdout",
     "output_type": "stream",
     "text": [
      "101010 is a binary string.\n",
      "010101 is a binary string.\n",
      "101200 is not a binary string.\n",
      "001122 is not a binary string.\n",
      "1100 is a binary string.\n"
     ]
    }
   ],
   "source": [
    "def is_binary_string(string):\n",
    "    return all(char in ['0', '1'] for char in string)\n",
    "\n",
    "# Test the function with example strings\n",
    "strings = [\"101010\", \"010101\", \"101200\", \"001122\", \"1100\"]\n",
    "for string in strings:\n",
    "    if is_binary_string(string):\n",
    "        print(f\"{string} is a binary string.\")\n",
    "    else:\n",
    "        print(f\"{string} is not a binary string.\")\n"
   ]
  },
  {
   "cell_type": "markdown",
   "id": "da995726",
   "metadata": {},
   "source": [
    "5. Write a Python program to find uncommon words from two Strings?"
   ]
  },
  {
   "cell_type": "code",
   "execution_count": 7,
   "id": "ed1747aa",
   "metadata": {},
   "outputs": [
    {
     "name": "stdout",
     "output_type": "stream",
     "text": [
      "Uncommon words: ['one', 'string', 'two', 'world,', 'word', 'people,']\n"
     ]
    }
   ],
   "source": [
    "def find_uncommon_words(string1, string2):\n",
    "    words1 = set(string1.split())\n",
    "    words2 = set(string2.split())\n",
    "    uncommon_words = list(words1 ^ words2)\n",
    "    return uncommon_words\n",
    "\n",
    "\n",
    "string1 = \"Hello world, this is string one\"\n",
    "string2 = \"Hello people, this is word two\"\n",
    "result = find_uncommon_words(string1, string2)\n",
    "print(\"Uncommon words:\", result)\n"
   ]
  },
  {
   "cell_type": "markdown",
   "id": "94304324",
   "metadata": {},
   "source": [
    "6. Write a Python to find all duplicate characters in string?"
   ]
  },
  {
   "cell_type": "code",
   "execution_count": 8,
   "id": "f9edf627",
   "metadata": {},
   "outputs": [
    {
     "name": "stdout",
     "output_type": "stream",
     "text": [
      "Duplicate characters: {'l', 'o'}\n"
     ]
    }
   ],
   "source": [
    "def find_duplicate_characters(string):\n",
    "    duplicates = set()\n",
    "    seen = set()\n",
    "    \n",
    "    # Iterate over each character in the string\n",
    "    for char in string:\n",
    "        if char in seen:\n",
    "            duplicates.add(char)\n",
    "        else:\n",
    "            seen.add(char)\n",
    "    \n",
    "    return duplicates\n",
    "\n",
    "string = \"Hello, World!\"\n",
    "result = find_duplicate_characters(string)\n",
    "print(\"Duplicate characters:\", result)\n"
   ]
  },
  {
   "cell_type": "markdown",
   "id": "f08a29e8",
   "metadata": {},
   "source": [
    "7. Write a Python Program to check if a string contains any special character?"
   ]
  },
  {
   "cell_type": "code",
   "execution_count": 10,
   "id": "5a38231e",
   "metadata": {},
   "outputs": [
    {
     "name": "stdout",
     "output_type": "stream",
     "text": [
      "True\n",
      "False\n",
      "True\n"
     ]
    }
   ],
   "source": [
    "import re\n",
    "\n",
    "def special_characters(string):\n",
    "    pattern = r'[!@#$%^&*(),.?\":{}|<>]'\n",
    "    match = re.search(pattern, string)\n",
    "    \n",
    "    # If a match is found, the string contains a special character\n",
    "    if match:\n",
    "        return True\n",
    "    else:\n",
    "        return False\n",
    "\n",
    "string1 = \"Hello, World!\"\n",
    "string2 = \"PythonProgramming\"\n",
    "string3 = \"This string contains a special character: #\"\n",
    "\n",
    "print(special_characters(string1))  \n",
    "print(special_characters(string2)) \n",
    "print(special_characters(string3)) \n"
   ]
  },
  {
   "cell_type": "code",
   "execution_count": null,
   "id": "08c632e9",
   "metadata": {},
   "outputs": [],
   "source": []
  }
 ],
 "metadata": {
  "kernelspec": {
   "display_name": "Python 3 (ipykernel)",
   "language": "python",
   "name": "python3"
  },
  "language_info": {
   "codemirror_mode": {
    "name": "ipython",
    "version": 3
   },
   "file_extension": ".py",
   "mimetype": "text/x-python",
   "name": "python",
   "nbconvert_exporter": "python",
   "pygments_lexer": "ipython3",
   "version": "3.9.12"
  }
 },
 "nbformat": 4,
 "nbformat_minor": 5
}
