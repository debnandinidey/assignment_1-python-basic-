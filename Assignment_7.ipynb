{
 "cells": [
  {
   "cell_type": "markdown",
   "id": "cad237dc",
   "metadata": {},
   "source": [
    "1. What is the name of the feature responsible for generating Regex objects?"
   ]
  },
  {
   "cell_type": "markdown",
   "id": "a61c9a53",
   "metadata": {},
   "source": [
    "answer:\"re\" module is the feature responsible for generating Regex objects"
   ]
  },
  {
   "cell_type": "markdown",
   "id": "a202f6fb",
   "metadata": {},
   "source": [
    "2. Why do raw strings often appear in Regex objects?"
   ]
  },
  {
   "cell_type": "markdown",
   "id": "273af554",
   "metadata": {},
   "source": [
    "answer: raw strings appear in regex objects so that the backslashes are treated literally and not as escape characters by using raw strings, we can avoid unintended escape character interpretations and ensure that the regular expression pattern matches the desired text accurately."
   ]
  },
  {
   "cell_type": "markdown",
   "id": "fdac44fb",
   "metadata": {},
   "source": [
    "3. What is the return value of the search() method?"
   ]
  },
  {
   "cell_type": "markdown",
   "id": "f4a811d2",
   "metadata": {},
   "source": [
    "answer:The return value of re.search(pattern,string) method is a match object if the pattern is observed in the string else it returns a None"
   ]
  },
  {
   "cell_type": "markdown",
   "id": "6ef12a67",
   "metadata": {},
   "source": [
    "4. From a Match item, how do you get the actual strings that match the pattern?"
   ]
  },
  {
   "cell_type": "markdown",
   "id": "8f49f823",
   "metadata": {},
   "source": [
    "answer: For Matched items group() methods returns actual strings that match the pattern"
   ]
  },
  {
   "cell_type": "code",
   "execution_count": 8,
   "id": "b0c4806a",
   "metadata": {},
   "outputs": [
    {
     "name": "stdout",
     "output_type": "stream",
     "text": [
      "Output: nandini\n"
     ]
    }
   ],
   "source": [
    "import re\n",
    "match = re.search('nandini','nandini is someone who has studies economics', flags=re.IGNORECASE)\n",
    "print('Output:',match.group())"
   ]
  },
  {
   "cell_type": "markdown",
   "id": "cf8bf51a",
   "metadata": {},
   "source": [
    "5. In the regex which created from the r&#39;(\\d\\d\\d)-(\\d\\d\\d-\\d\\d\\d\\d)&#39;, what does group zero cover?\n",
    "Group 2? Group 1?"
   ]
  },
  {
   "cell_type": "markdown",
   "id": "c8ff74a8",
   "metadata": {},
   "source": [
    "answer:Group 0 is the entire match, group 1 covers the first set of parentheses, and group 2 covers the second set of parentheses."
   ]
  },
  {
   "cell_type": "markdown",
   "id": "b87ff340",
   "metadata": {},
   "source": [
    "6. In standard expression syntax, parentheses and intervals have distinct meanings. How can you tell\n",
    "a regex that you want it to fit real parentheses and periods?"
   ]
  },
  {
   "cell_type": "markdown",
   "id": "5bf7452e",
   "metadata": {},
   "source": [
    "answer: if we want to match literal parentheses and periods in a regular expression, we can use the backslash \\ character to escape them."
   ]
  },
  {
   "cell_type": "markdown",
   "id": "f525efcd",
   "metadata": {},
   "source": [
    "7. The findall() method returns a string list or a list of string tuples. What causes it to return one of\n",
    "the two options?"
   ]
  },
  {
   "cell_type": "markdown",
   "id": "8a85175a",
   "metadata": {},
   "source": [
    "answer:If the regex has no groups, a list of strings is returned. If the regex has groups, a list of tuples of strings is returned."
   ]
  },
  {
   "cell_type": "code",
   "execution_count": 9,
   "id": "f9e004da",
   "metadata": {},
   "outputs": [
    {
     "name": "stdout",
     "output_type": "stream",
     "text": [
      "[('(415)', '555-4242')]\n",
      "['415-555-4242']\n"
     ]
    }
   ],
   "source": [
    "import re\n",
    "phoneNumRegex = re.compile(r'(\\(\\d\\d\\d\\)) (\\d\\d\\d-\\d\\d\\d\\d)')\n",
    "mobile = phoneNumRegex.findall('My phone number is (415) 555-4242.')\n",
    "print(mobile)\n",
    "\n",
    "# Example Program\n",
    "import re\n",
    "phoneNumRegex = re.compile(r'\\d{3}-\\d{3}-\\d{4}')\n",
    "mobile = phoneNumRegex.findall('My number is 415-555-4242.')\n",
    "print(mobile) # Prints all groups in a tuple format"
   ]
  },
  {
   "cell_type": "markdown",
   "id": "bf92e93e",
   "metadata": {},
   "source": [
    "8. In standard expressions, what does the | character mean?"
   ]
  },
  {
   "cell_type": "markdown",
   "id": "bca999b1",
   "metadata": {},
   "source": [
    "answer:In regular expressions, the | character, known as vertical bar, used as the OR operator. It allows you to specify multiple alternative patterns, and if any of the patterns match, the match will be considered successful."
   ]
  },
  {
   "cell_type": "code",
   "execution_count": 10,
   "id": "e2669236",
   "metadata": {},
   "outputs": [
    {
     "name": "stdout",
     "output_type": "stream",
     "text": [
      "['GOT', 'spiderman']\n"
     ]
    }
   ],
   "source": [
    "#example\n",
    "import re\n",
    "text = 'I love GOT|spiderman.'\n",
    "pattern = r'GOT|spiderman'\n",
    "matches = re.findall(pattern, text)\n",
    "print(matches)\n"
   ]
  },
  {
   "cell_type": "markdown",
   "id": "d5150f5b",
   "metadata": {},
   "source": [
    "9. In regular expressions, what does the character stand for?"
   ]
  },
  {
   "cell_type": "markdown",
   "id": "84339849",
   "metadata": {},
   "source": [
    "answer:the above question is incomplete, which expression are you specifying please mention."
   ]
  },
  {
   "cell_type": "markdown",
   "id": "59c740bc",
   "metadata": {},
   "source": [
    "10.In regular expressions, what is the difference between the + and * characters?"
   ]
  },
  {
   "cell_type": "markdown",
   "id": "b76b7c0a",
   "metadata": {},
   "source": [
    "answer:In Regular Expressions, * Represents Zero one or more occurances of the preceeding group, whereas + represents one or more occurances of the preceeding group.\n",
    "The + matches one or more. The * matches zero or more."
   ]
  },
  {
   "cell_type": "markdown",
   "id": "f98b1de0",
   "metadata": {},
   "source": [
    "11. What is the difference between {4} and {4,5} in regular expression?"
   ]
  },
  {
   "cell_type": "markdown",
   "id": "65a5484a",
   "metadata": {},
   "source": [
    "answer:The expression {4} means exactly 4 occurrences of the preceding element. For example, the regular expression a{4} means that the \"a\" should be repeated exactly 4 times. on the other hand,{4,5} means a range of 4 to 5 occurrences of the preceding element. For example, the regular expression a{4,5} matches either \"aaaa\" or \"aaaaa\"."
   ]
  },
  {
   "cell_type": "markdown",
   "id": "38fe3a86",
   "metadata": {},
   "source": [
    "12. What do you mean by the \\d, \\w, and \\s shorthand character classes signify in regular\n",
    "expressions?"
   ]
  },
  {
   "cell_type": "markdown",
   "id": "d32d0f91",
   "metadata": {},
   "source": [
    "answer:\n",
    "\\w – Matches a word character equivalent to [a-zA-Z0-9_]\n",
    "\\d – Matches digit character equivalent to [0-9]\n",
    "\\s – Matches whitespace character (space, tab, newline, etc.)"
   ]
  },
  {
   "cell_type": "markdown",
   "id": "6daba2ce",
   "metadata": {},
   "source": [
    "13. What do means by \\D, \\W, and \\S shorthand character classes signify in regular expressions?"
   ]
  },
  {
   "cell_type": "markdown",
   "id": "10e5d085",
   "metadata": {},
   "source": [
    "\\D: It represents any non-digit character. It matches any character that is not a digit from 0 to 9.\n",
    "\n",
    "\\W: It represents any non-word character. It matches any character that is not a word character, which includes alphabetic characters (both uppercase and lowercase), digits, and underscores.\n",
    "\n",
    "\\S: It represents any non-whitespace character. It matches any character that is not a whitespace character, including spaces, tabs, and newline characters."
   ]
  },
  {
   "cell_type": "markdown",
   "id": "9fbc8f8f",
   "metadata": {},
   "source": [
    "14. What is the difference between .* ? and .* ?"
   ]
  },
  {
   "cell_type": "markdown",
   "id": "405d0d2a",
   "metadata": {},
   "source": [
    "answer:.* is a Greedy mode, which returns the longest string that meets the condition. Whereas .*? is a non greedy mode which returns the shortest string that meets the condition."
   ]
  },
  {
   "cell_type": "markdown",
   "id": "c291d07c",
   "metadata": {},
   "source": [
    "15. What is the syntax for matching both numbers and lowercase letters with a character class?"
   ]
  },
  {
   "cell_type": "markdown",
   "id": "7ed5dcba",
   "metadata": {},
   "source": [
    "answer:[0-9a-z] or [a-z0-9]"
   ]
  },
  {
   "cell_type": "markdown",
   "id": "df956c91",
   "metadata": {},
   "source": [
    "16. What is the procedure for making a normal expression in regax case insensitive?"
   ]
  },
  {
   "cell_type": "markdown",
   "id": "311591c8",
   "metadata": {},
   "source": [
    "answer:We can pass re.IGNORECASE as a flag to make a noraml expression case insensitive"
   ]
  },
  {
   "cell_type": "markdown",
   "id": "bfaa91be",
   "metadata": {},
   "source": [
    "17. What does the . character normally match? What does it match if re.DOTALL is passed as 2nd\n",
    "argument in re.compile()?"
   ]
  },
  {
   "cell_type": "markdown",
   "id": "7643c486",
   "metadata": {},
   "source": [
    "answer: The . character normally matches any character except the newline character. If re.DOTALL is passed as the second argument to re.compile(), then the dot will also match newline characters."
   ]
  },
  {
   "cell_type": "markdown",
   "id": "9c776a35",
   "metadata": {},
   "source": [
    "18. If numReg = re.compile(r&#39;\\d+&#39;), what will numRegex.sub(&#39;X&#39;, &#39;11 drummers, 10 pipers, five rings, 4\n",
    "hen&#39;) return?"
   ]
  },
  {
   "cell_type": "code",
   "execution_count": 11,
   "id": "d6fcff0d",
   "metadata": {},
   "outputs": [
    {
     "data": {
      "text/plain": [
       "'X drummers, X pipers, five rings, X hen'"
      ]
     },
     "execution_count": 11,
     "metadata": {},
     "output_type": "execute_result"
    }
   ],
   "source": [
    "import re\n",
    "numReg = re.compile(r'\\d+')\n",
    "numReg.sub('X', '11 drummers, 10 pipers, five rings, 4 hen')"
   ]
  },
  {
   "cell_type": "markdown",
   "id": "d19fa818",
   "metadata": {},
   "source": [
    "19. What does passing re.VERBOSE as the 2nd argument to re.compile() allow to do?"
   ]
  },
  {
   "cell_type": "markdown",
   "id": "b767341d",
   "metadata": {},
   "source": [
    "answer:The re.VERBOSE argument allows you to add whitespace and comments to the string passed to re.compile()."
   ]
  },
  {
   "cell_type": "markdown",
   "id": "f6193831",
   "metadata": {},
   "source": [
    "20. How would you write a regex that match a number with comma for every three digits? It must\n",
    "match the given following:"
   ]
  },
  {
   "cell_type": "code",
   "execution_count": 12,
   "id": "d3c9f9a5",
   "metadata": {},
   "outputs": [
    {
     "name": "stdout",
     "output_type": "stream",
     "text": [
      "Output: 42 -> <re.Match object; span=(0, 2), match='42'>\n",
      "Output: 1,234 -> <re.Match object; span=(0, 5), match='1,234'>\n",
      "Output: 6,368,745 -> <re.Match object; span=(0, 9), match='6,368,745'>\n",
      "Output: 12,34,567 -> None\n",
      "Output: 1234 -> None\n"
     ]
    }
   ],
   "source": [
    "import re\n",
    "pattern = r'^\\d{1,3}(,\\d{3})*$'\n",
    "pagex = re.compile(pattern)\n",
    "for ele in ['42','1,234', '6,368,745','12,34,567','1234']:\n",
    "    print('Output:',ele, '->', pagex.search(ele))"
   ]
  },
  {
   "cell_type": "markdown",
   "id": "01439eaa",
   "metadata": {},
   "source": [
    "21. How would you write a regex that matches the full name of someone whose last name is\n",
    "Watanabe? You can assume that the first name that comes before it will always be one word that\n",
    "begins with a capital letter. The regex must match the following:"
   ]
  },
  {
   "cell_type": "markdown",
   "id": "5367be46",
   "metadata": {},
   "source": [
    "answer: ^[A-Z][a-zA-Z]*\\sWatanabe$\n",
    "\n",
    "^ asserts the start of the string.\n",
    "\n",
    "[A-Z] matches a capital letter.\n",
    "\n",
    "[a-zA-Z]* matches zero or more lowercase or uppercase letters for the first name.\n",
    "\n",
    "\\s matches a whitespace character.\n",
    "\n",
    "Watanabe matches the last name exactly as \"Watanabe\".\n",
    "\n",
    "$ asserts the end of the string."
   ]
  },
  {
   "cell_type": "markdown",
   "id": "faa79c99",
   "metadata": {},
   "source": [
    "22. How would you write a regex that matches a sentence where the first word is either Alice, Bob,\n",
    "or Carol; the second word is either eats, pets, or throws; the third word is apples, cats, or baseballs;\n",
    "and the sentence ends with a period? This regex should be case-insensitive. It must match the\n",
    "following:"
   ]
  },
  {
   "cell_type": "markdown",
   "id": "a34f4ad0",
   "metadata": {},
   "source": [
    "answer: ^(?i)(Alice|Bob|Carol)\\s(eats|pets|throws)\\s(apples|cats|baseballs)\\.$\n",
    "\n",
    " ^ asserts the start of the string.\n",
    " \n",
    "(?i) enables case-insensitive matching.\n",
    "\n",
    "(Alice|Bob|Carol) matches either \"Alice\", \"Bob\", or \"Carol\".\n",
    "\n",
    "\\s matches a whitespace character.\n",
    "\n",
    "(eats|pets|throws) matches either \"eats\", \"pets\", or \"throws\".\n",
    "\n",
    "(apples|cats|baseballs) matches either \"apples\", \"cats\", or \"baseballs\".\n",
    "\n",
    "\\. matches a period (escaped with a backslash).\n",
    "\n",
    "$ asserts the end of the string."
   ]
  },
  {
   "cell_type": "markdown",
   "id": "dccdfcdc",
   "metadata": {},
   "source": []
  }
 ],
 "metadata": {
  "kernelspec": {
   "display_name": "Python 3 (ipykernel)",
   "language": "python",
   "name": "python3"
  },
  "language_info": {
   "codemirror_mode": {
    "name": "ipython",
    "version": 3
   },
   "file_extension": ".py",
   "mimetype": "text/x-python",
   "name": "python",
   "nbconvert_exporter": "python",
   "pygments_lexer": "ipython3",
   "version": "3.9.12"
  }
 },
 "nbformat": 4,
 "nbformat_minor": 5
}
