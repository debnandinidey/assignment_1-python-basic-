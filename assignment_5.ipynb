{
 "cells": [
  {
   "cell_type": "markdown",
   "id": "b843873c",
   "metadata": {},
   "source": [
    "1. What does an empty dictionary&#39;s code look like?"
   ]
  },
  {
   "cell_type": "markdown",
   "id": "9f3711cb",
   "metadata": {},
   "source": [
    "answer- an empty dictionary code looks like- {}"
   ]
  },
  {
   "cell_type": "markdown",
   "id": "d63aba22",
   "metadata": {},
   "source": [
    "2. What is the value of a dictionary value with the key &#39;foo&#39; and the value 42?"
   ]
  },
  {
   "cell_type": "code",
   "execution_count": 6,
   "id": "d59a38f6",
   "metadata": {},
   "outputs": [],
   "source": [
    "value = {\"foo\":\"42\"}"
   ]
  },
  {
   "cell_type": "code",
   "execution_count": 3,
   "id": "59af7a7e",
   "metadata": {},
   "outputs": [
    {
     "data": {
      "text/plain": [
       "dict"
      ]
     },
     "execution_count": 3,
     "metadata": {},
     "output_type": "execute_result"
    }
   ],
   "source": [
    "type(value)"
   ]
  },
  {
   "cell_type": "code",
   "execution_count": 7,
   "id": "62bfb7c4",
   "metadata": {},
   "outputs": [
    {
     "data": {
      "text/plain": [
       "{'foo': '42'}"
      ]
     },
     "execution_count": 7,
     "metadata": {},
     "output_type": "execute_result"
    }
   ],
   "source": [
    "value"
   ]
  },
  {
   "cell_type": "markdown",
   "id": "6e770ec1",
   "metadata": {},
   "source": [
    "3. What is the most significant distinction between a dictionary and a list?"
   ]
  },
  {
   "cell_type": "markdown",
   "id": "e340c20d",
   "metadata": {},
   "source": [
    "in dictionary there is no index concept, which is there in a list and it stores in position based.whereas in dictionary, there is the concept of key.keys works like indexs, the only difference is here we can name those keys."
   ]
  },
  {
   "cell_type": "markdown",
   "id": "88fa18fe",
   "metadata": {},
   "source": [
    "4. What happens if you try to access spam[&#39;foo&#39;] if spam is {&#39;bar&#39;: 100}?"
   ]
  },
  {
   "cell_type": "code",
   "execution_count": 1,
   "id": "84a44147",
   "metadata": {},
   "outputs": [],
   "source": [
    "spam={\"bar\":100}"
   ]
  },
  {
   "cell_type": "code",
   "execution_count": 3,
   "id": "4c86b39b",
   "metadata": {},
   "outputs": [
    {
     "ename": "KeyError",
     "evalue": "'foo'",
     "output_type": "error",
     "traceback": [
      "\u001b[1;31m---------------------------------------------------------------------------\u001b[0m",
      "\u001b[1;31mKeyError\u001b[0m                                  Traceback (most recent call last)",
      "Input \u001b[1;32mIn [3]\u001b[0m, in \u001b[0;36m<cell line: 1>\u001b[1;34m()\u001b[0m\n\u001b[1;32m----> 1\u001b[0m \u001b[43mspam\u001b[49m\u001b[43m[\u001b[49m\u001b[38;5;124;43m\"\u001b[39;49m\u001b[38;5;124;43mfoo\u001b[39;49m\u001b[38;5;124;43m\"\u001b[39;49m\u001b[43m]\u001b[49m\n",
      "\u001b[1;31mKeyError\u001b[0m: 'foo'"
     ]
    }
   ],
   "source": [
    "spam[\"foo\"]"
   ]
  },
  {
   "cell_type": "markdown",
   "id": "fd8cd596",
   "metadata": {},
   "source": [
    "it gives a key errors. because spam dictionary does not have any key called foo."
   ]
  },
  {
   "cell_type": "markdown",
   "id": "09825927",
   "metadata": {},
   "source": [
    "5. If a dictionary is stored in spam, what is the difference between the expressions &#39;cat&#39; in spam and\n",
    "&#39;cat&#39; in spam.keys()?"
   ]
  },
  {
   "cell_type": "markdown",
   "id": "d9a4f404",
   "metadata": {},
   "source": [
    "basically there is no such differenc.'cat' in spam checks if there is any key present in the dictionary on the other hand 'cat' in spam.key() will check for any key in spam with name called cat as well."
   ]
  },
  {
   "cell_type": "markdown",
   "id": "42a6f089",
   "metadata": {},
   "source": [
    "6. If a dictionary is stored in spam, what is the difference between the expressions &#39;cat&#39; in spam and\n",
    "&#39;cat&#39; in spam.values()?"
   ]
  },
  {
   "cell_type": "markdown",
   "id": "cbd37c6a",
   "metadata": {},
   "source": [
    "cat in spam checks for any key in spam with name called cat, on the other hand, cat.spam.values() checks for any value in spam with name called cat."
   ]
  },
  {
   "cell_type": "markdown",
   "id": "a0a38237",
   "metadata": {},
   "source": [
    "7. What is a shortcut for the following code?\n",
    "\n",
    "if &#39;color&#39; not in spam:\n",
    "\n",
    "spam[&#39;color&#39;] = &#39;black&#39;"
   ]
  },
  {
   "cell_type": "code",
   "execution_count": 4,
   "id": "ecd10a6c",
   "metadata": {},
   "outputs": [
    {
     "data": {
      "text/plain": [
       "'black'"
      ]
     },
     "execution_count": 4,
     "metadata": {},
     "output_type": "execute_result"
    }
   ],
   "source": [
    "spam.setdefault('color','black')"
   ]
  },
  {
   "cell_type": "markdown",
   "id": "58a6203e",
   "metadata": {},
   "source": [
    "8. How do you &quot;pretty print&quot; dictionary values using which module and function?"
   ]
  },
  {
   "cell_type": "markdown",
   "id": "691b88d3",
   "metadata": {},
   "source": [
    "pprint.pprint"
   ]
  },
  {
   "cell_type": "code",
   "execution_count": null,
   "id": "e52608dc",
   "metadata": {},
   "outputs": [],
   "source": []
  }
 ],
 "metadata": {
  "kernelspec": {
   "display_name": "Python 3 (ipykernel)",
   "language": "python",
   "name": "python3"
  },
  "language_info": {
   "codemirror_mode": {
    "name": "ipython",
    "version": 3
   },
   "file_extension": ".py",
   "mimetype": "text/x-python",
   "name": "python",
   "nbconvert_exporter": "python",
   "pygments_lexer": "ipython3",
   "version": "3.9.12"
  }
 },
 "nbformat": 4,
 "nbformat_minor": 5
}
